{
  "nbformat": 4,
  "nbformat_minor": 0,
  "metadata": {
    "colab": {
      "provenance": [],
      "authorship_tag": "ABX9TyNaKeB6UeX+Fo8CBrS5Bw60",
      "include_colab_link": true
    },
    "kernelspec": {
      "name": "python3",
      "display_name": "Python 3"
    },
    "language_info": {
      "name": "python"
    }
  },
  "cells": [
    {
      "cell_type": "markdown",
      "metadata": {
        "id": "view-in-github",
        "colab_type": "text"
      },
      "source": [
        "<a href=\"https://colab.research.google.com/github/abhijadhav14/PythonPractice/blob/main/Python_Programs.ipynb\" target=\"_parent\"><img src=\"https://colab.research.google.com/assets/colab-badge.svg\" alt=\"Open In Colab\"/></a>"
      ]
    },
    {
      "cell_type": "code",
      "source": [
        "#1.Write a program to add two programs in python with function.\n",
        "\n",
        "def sum(a, b):#hello\n",
        "    return a + b\n",
        "\n",
        "num1 = 10\n",
        "num2 = 5\n",
        "sum_result = sum(num1, num2)\n",
        "print(f\"The sum of {num1} and {num2} is: {sum_result}\")"
      ],
      "metadata": {
        "colab": {
          "base_uri": "https://localhost:8080/"
        },
        "id": "STctdhQLgjMa",
        "outputId": "4ef5e81b-0b13-4d52-a8ab-614652e6d0a9"
      },
      "execution_count": null,
      "outputs": [
        {
          "output_type": "stream",
          "name": "stdout",
          "text": [
            "The sum of 10 and 5 is: 15\n"
          ]
        }
      ]
    },
    {
      "cell_type": "code",
      "source": [
        "#2.Write a program to add two programs with float in python\n",
        "\n",
        "def add_two_numbers(a, b):\n",
        "    return a + b\n",
        "\n",
        "a = float(input(\"Enter first number: \"))\n",
        "b = float(input(\"Enter second number: \"))\n",
        "result = add_two_numbers(a, b)\n",
        "print(\"The sum is:\", result)"
      ],
      "metadata": {
        "colab": {
          "base_uri": "https://localhost:8080/"
        },
        "id": "fa8R78jxh09z",
        "outputId": "cabe2947-fd0a-4388-92c4-e8dda107d53f"
      },
      "execution_count": null,
      "outputs": [
        {
          "output_type": "stream",
          "name": "stdout",
          "text": [
            "Enter first number: 10.2\n",
            "Enter second number: 3.50\n",
            "The sum is: 13.7\n"
          ]
        }
      ]
    },
    {
      "cell_type": "code",
      "source": [
        "#3.Python program to find the maximum of two numbers\n",
        "\n",
        "a = int(input(\"Enter first number: \"))\n",
        "b = int(input(\"Enter second number: \"))\n",
        "print(\"The maximum is:\", max(a, b))"
      ],
      "metadata": {
        "colab": {
          "base_uri": "https://localhost:8080/"
        },
        "id": "esoP2Xipgjhy",
        "outputId": "0187a374-c92c-406b-8e93-fe2f5c3bc9ba"
      },
      "execution_count": null,
      "outputs": [
        {
          "output_type": "stream",
          "name": "stdout",
          "text": [
            "Enter first number: 90\n",
            "Enter second number: 65\n",
            "The maximum is: 90\n"
          ]
        }
      ]
    },
    {
      "cell_type": "code",
      "source": [
        "#4.Python program to find factorial of given number\n",
        "\n",
        "def factorial(n):\n",
        "    if n == 0:\n",
        "        return 1\n",
        "    else:\n",
        "        return n * factorial(n-1)\n",
        "\n",
        "n = int(input(\"Enter a number: \"))\n",
        "print(\"The factorial is:\", factorial(n))"
      ],
      "metadata": {
        "colab": {
          "base_uri": "https://localhost:8080/"
        },
        "id": "6SdGOzMMiea5",
        "outputId": "344628be-0fb0-4f0c-fe50-5f83da5e4307"
      },
      "execution_count": null,
      "outputs": [
        {
          "output_type": "stream",
          "name": "stdout",
          "text": [
            "Enter a number: 3\n",
            "The factorial is: 6\n"
          ]
        }
      ]
    },
    {
      "cell_type": "code",
      "source": [
        "#5.Python program to swap elements at given positions\n",
        "\n",
        "a = input(\"Enter a = \")\n",
        "b = input(\"Enter b = \")\n",
        "\n",
        "temp = a\n",
        "a = b\n",
        "b = temp\n",
        "print(\"a =\",a)\n",
        "print(\"b =\",b)"
      ],
      "metadata": {
        "colab": {
          "base_uri": "https://localhost:8080/"
        },
        "id": "r71cawL_ieXg",
        "outputId": "dd856763-0d5a-4941-d3d3-2a96d374fa77"
      },
      "execution_count": null,
      "outputs": [
        {
          "output_type": "stream",
          "name": "stdout",
          "text": [
            "Enter a = 20\n",
            "Enter b = 0\n",
            "a = 0\n",
            "b = 20\n"
          ]
        }
      ]
    },
    {
      "cell_type": "code",
      "source": [
        "#6.Python code to merge dict\n",
        "\n",
        "dict_1 = {1: 'a', 2: 'b'}\n",
        "dict_2 = {2: 'c', 4: 'd'}\n",
        "\n",
        "print(dict_1 | dict_2)"
      ],
      "metadata": {
        "colab": {
          "base_uri": "https://localhost:8080/"
        },
        "id": "bEoBERB6ieUp",
        "outputId": "c083b457-7e84-4a16-a388-b7434c318f86"
      },
      "execution_count": null,
      "outputs": [
        {
          "output_type": "stream",
          "name": "stdout",
          "text": [
            "{1: 'a', 2: 'c', 4: 'd'}\n"
          ]
        }
      ]
    },
    {
      "cell_type": "code",
      "source": [
        "#7.Program to Find the size of tuples\n",
        "\n",
        "tpl = (1, 2, 3, 4, 5)\n",
        "print(\"Size of tuple:\", len(tpl))"
      ],
      "metadata": {
        "colab": {
          "base_uri": "https://localhost:8080/"
        },
        "id": "P3xpMmXEieRh",
        "outputId": "40e4d02e-8aa9-4c1f-b808-799806c42dc2"
      },
      "execution_count": null,
      "outputs": [
        {
          "output_type": "stream",
          "name": "stdout",
          "text": [
            "Size of tuple: 5\n"
          ]
        }
      ]
    },
    {
      "cell_type": "code",
      "source": [
        "#8.Python code to find sum of elements in given array.\n",
        "\n",
        "arr = [1, 2, 3, 4, 5]\n",
        "sum = 0\n",
        "for i in arr:\n",
        "    sum += i\n",
        "print(\"Sum of array elements:\", sum)"
      ],
      "metadata": {
        "colab": {
          "base_uri": "https://localhost:8080/"
        },
        "id": "9me-1iSbieOH",
        "outputId": "bf6a3649-8ba8-43ab-8ed5-a74077db8d87"
      },
      "execution_count": null,
      "outputs": [
        {
          "output_type": "stream",
          "name": "stdout",
          "text": [
            "Sum of array elements: 15\n"
          ]
        }
      ]
    },
    {
      "cell_type": "code",
      "source": [
        "#9.Python program to find maximum in arr[] of size n\n",
        "\n",
        "arr = [13, 12, 23, 64, 35]\n",
        "max = arr[0]\n",
        "for i in arr:\n",
        "    if i > max:\n",
        "        max = i\n",
        "print(\"Maximum in array:\", max)"
      ],
      "metadata": {
        "colab": {
          "base_uri": "https://localhost:8080/"
        },
        "id": "mbeH_bFAieKP",
        "outputId": "98a2a121-e54e-4473-ea3f-9fcce8cafa2c"
      },
      "execution_count": null,
      "outputs": [
        {
          "output_type": "stream",
          "name": "stdout",
          "text": [
            "Maximum in array: 64\n"
          ]
        }
      ]
    },
    {
      "cell_type": "code",
      "source": [
        "#10.Python program to find simple interest for given principal amount, time and rate of interest.\n",
        "\n",
        "def simple_interest(p, t, r):\n",
        "    return (p * t * r) / 100\n",
        "\n",
        "\n",
        "principal = float(input(\"Enter the principal amount: \"))\n",
        "time = float(input(\"Enter the time period (in years): \"))\n",
        "rate = float(input(\"Enter the rate of interest (per year): \"))\n",
        "\n",
        "interest = simple_interest(principal, time, rate)\n",
        "print(\"Simple interest:\", interest)"
      ],
      "metadata": {
        "colab": {
          "base_uri": "https://localhost:8080/"
        },
        "id": "RUZigljSgj2G",
        "outputId": "ca1e567e-b009-440b-a830-f04383244e0c"
      },
      "execution_count": null,
      "outputs": [
        {
          "output_type": "stream",
          "name": "stdout",
          "text": [
            "Enter the principal amount: 10000\n",
            "Enter the time period (in years): 4\n",
            "Enter the rate of interest (per year): 12\n",
            "Simple interest: 4800.0\n"
          ]
        }
      ]
    },
    {
      "cell_type": "code",
      "source": [
        "#11.Find the Length of a List Using len() Function\n",
        "\n",
        "lst = [1, 2, 3, 4, 5]\n",
        "print(\"Length of list:\", len(lst))"
      ],
      "metadata": {
        "colab": {
          "base_uri": "https://localhost:8080/"
        },
        "id": "sRFF8Vx_gk3M",
        "outputId": "d29fee33-7e48-49a1-9539-ea08e47e0c17"
      },
      "execution_count": null,
      "outputs": [
        {
          "output_type": "stream",
          "name": "stdout",
          "text": [
            "Length of list: 5\n"
          ]
        }
      ]
    },
    {
      "cell_type": "code",
      "source": [
        "#12.Python program to check whether element is present or not\n",
        "\n",
        "lst = [1, 2, 3, 4, 5]\n",
        "element = 3\n",
        "if element in lst:\n",
        "    print(\"Element is present in the list\")\n",
        "else:\n",
        "    print(\"Element is not present in the list\")"
      ],
      "metadata": {
        "colab": {
          "base_uri": "https://localhost:8080/"
        },
        "id": "uPn1jix7glsk",
        "outputId": "4de35913-36a6-4048-a879-5928e7b258fd"
      },
      "execution_count": null,
      "outputs": [
        {
          "output_type": "stream",
          "name": "stdout",
          "text": [
            "Element is present in the list\n"
          ]
        }
      ]
    },
    {
      "cell_type": "code",
      "source": [
        "#13.Python program to find area of triangle\n",
        "\n",
        "base = float(input(\"Enter the base of the triangle: \"))\n",
        "height = float(input(\"Enter the height of the triangle: \"))\n",
        "area = 0.5 * base * height\n",
        "print(\"The area of the triangle is:\", area)"
      ],
      "metadata": {
        "colab": {
          "base_uri": "https://localhost:8080/"
        },
        "id": "tqyOMuLEgmIM",
        "outputId": "8ae06abe-8642-47f0-8947-01b18f6df4d6"
      },
      "execution_count": null,
      "outputs": [
        {
          "output_type": "stream",
          "name": "stdout",
          "text": [
            "Enter the base of the triangle: 13\n",
            "Enter the height of the triangle: 24\n",
            "The area of the triangle is: 156.0\n"
          ]
        }
      ]
    },
    {
      "cell_type": "code",
      "source": [
        "#14.Python program to find area of circle\n",
        "\n",
        "radius = float(input(\"Enter the radius of the circle: \"))\n",
        "area = 3.14 * radius * radius\n",
        "print(\"The area of the circle is:\", area)"
      ],
      "metadata": {
        "colab": {
          "base_uri": "https://localhost:8080/"
        },
        "id": "mbkyC_WrgmsF",
        "outputId": "7baa1107-0267-47a8-94e8-54069ef4f0cf"
      },
      "execution_count": null,
      "outputs": [
        {
          "output_type": "stream",
          "name": "stdout",
          "text": [
            "Enter the radius of the circle: 43\n",
            "The area of the circle is: 5805.860000000001\n"
          ]
        }
      ]
    },
    {
      "cell_type": "code",
      "source": [
        "#15.Python program to Adding elements of the matrix.\n",
        "\n",
        "matrix = [[1, 2, 3], [4, 5, 6], [7, 8, 9]]\n",
        "sum = 0\n",
        "for row in matrix:\n",
        "    for element in row:\n",
        "        sum += element\n",
        "\n",
        "print(\"Sum of matrix elements:\", sum)\n",
        "\n"
      ],
      "metadata": {
        "id": "6V9gwovzggiH",
        "colab": {
          "base_uri": "https://localhost:8080/"
        },
        "outputId": "738628ca-13b7-42cd-dcb0-373d6bef94e9"
      },
      "execution_count": 5,
      "outputs": [
        {
          "output_type": "stream",
          "name": "stdout",
          "text": [
            "Sum of matrix elements: 45\n"
          ]
        }
      ]
    },
    {
      "cell_type": "code",
      "source": [
        "#16. Python Programs to Transpose a Matrix in Single Line\n",
        "\n",
        "matrix = [[1, 2, 3], [4, 5, 6], [7, 8, 9]]\n",
        "transpose = [[matrix[j][i] for j in range(len(matrix))] for i in range(len(matrix[0]))]\n",
        "\n",
        "print(\"Original matrix:\")\n",
        "for row in matrix:\n",
        "    print(row)\n",
        "\n",
        "print(\"Transposed matrix:\")\n",
        "for row in transpose:\n",
        "    print(row)"
      ],
      "metadata": {
        "id": "TqOoTay3gtOf",
        "colab": {
          "base_uri": "https://localhost:8080/"
        },
        "outputId": "46a871dc-2620-4dce-f732-83989b8c2a60"
      },
      "execution_count": 3,
      "outputs": [
        {
          "output_type": "stream",
          "name": "stdout",
          "text": [
            "Original matrix:\n",
            "[1, 2, 3]\n",
            "[4, 5, 6]\n",
            "[7, 8, 9]\n",
            "Transposed matrix:\n",
            "[1, 4, 7]\n",
            "[2, 5, 8]\n",
            "[3, 6, 9]\n"
          ]
        }
      ]
    },
    {
      "cell_type": "code",
      "source": [
        "#17. Python program to Reverse List\n",
        "\n",
        "lst = [1, 2, 3, 4, 5]\n",
        "lst.reverse()\n",
        "print(\"Reversed list:\", lst)"
      ],
      "metadata": {
        "colab": {
          "base_uri": "https://localhost:8080/"
        },
        "id": "rFkm2pWRgwBF",
        "outputId": "1d6d48c7-30f2-48d8-e979-e7180a456110"
      },
      "execution_count": null,
      "outputs": [
        {
          "output_type": "stream",
          "name": "stdout",
          "text": [
            "Reversed list: [5, 4, 3, 2, 1]\n"
          ]
        }
      ]
    },
    {
      "cell_type": "code",
      "source": [
        "#18.Python program to Insertion at the beginning in OrderedDict\n",
        "\n",
        "from collections import OrderedDict\n",
        "\n",
        "od = OrderedDict([('a', 1), ('b', 2), ('c', 3)])\n",
        "od.update({'d': 4})\n",
        "od.move_to_end('d', last=False)\n",
        "\n",
        "print(\"Updated OrderedDict:\", od)"
      ],
      "metadata": {
        "id": "SQcGNgpKg70O",
        "colab": {
          "base_uri": "https://localhost:8080/"
        },
        "outputId": "7ac0ed30-191a-4dbf-cf38-ea4ecfc84320"
      },
      "execution_count": 6,
      "outputs": [
        {
          "output_type": "stream",
          "name": "stdout",
          "text": [
            "Updated OrderedDict: OrderedDict([('d', 4), ('a', 1), ('b', 2), ('c', 3)])\n"
          ]
        }
      ]
    },
    {
      "cell_type": "code",
      "source": [
        "#19.Python program to Check order of character in string using OrderedDict( )\n",
        "\n",
        "from collections import OrderedDict\n",
        "\n",
        "def check_order(string, pattern):\n",
        "    od = OrderedDict.fromkeys(string)\n",
        "    ptrlen = 0\n",
        "    for key, value in od.items():\n",
        "        if key == pattern[ptrlen]:\n",
        "            ptrlen += 1\n",
        "        if ptrlen == len(pattern):\n",
        "            return True\n",
        "    return False\n",
        "\n",
        "print(check_order('hello', 'el'))"
      ],
      "metadata": {
        "id": "NSDAiGfThCuG",
        "colab": {
          "base_uri": "https://localhost:8080/"
        },
        "outputId": "0c979fbb-a9f1-438e-9d78-b21a9445765c"
      },
      "execution_count": 2,
      "outputs": [
        {
          "output_type": "stream",
          "name": "stdout",
          "text": [
            "True\n"
          ]
        }
      ]
    },
    {
      "cell_type": "code",
      "source": [
        "#20.Reverse Words in a Given String in Python Assignment 3\n",
        "\n",
        "def reverse_words(string):\n",
        "    words = string.split()\n",
        "    reversed_words = ' '.join(reversed(words))\n",
        "    return reversed_words\n",
        "\n",
        "string = \"Hello, world!\"\n",
        "reversed_string = reverse_words(string)\n",
        "print(reversed_string)"
      ],
      "metadata": {
        "colab": {
          "base_uri": "https://localhost:8080/"
        },
        "id": "O5RGkNPAc-6C",
        "outputId": "f1d7bef9-cfb9-41fb-a2aa-3927b4dd7496"
      },
      "execution_count": 11,
      "outputs": [
        {
          "output_type": "stream",
          "name": "stdout",
          "text": [
            "world! Hello,\n"
          ]
        }
      ]
    },
    {
      "cell_type": "code",
      "source": [
        "#21.Python for loop to iterate through the letters in a word\n",
        "\n",
        "word = \"hello\"\n",
        "for letter in word:\n",
        "    print(letter)"
      ],
      "metadata": {
        "colab": {
          "base_uri": "https://localhost:8080/"
        },
        "id": "Tg_3ojVAe98I",
        "outputId": "7499a816-5ca0-4019-e4bb-3e8528c52e80"
      },
      "execution_count": 12,
      "outputs": [
        {
          "output_type": "stream",
          "name": "stdout",
          "text": [
            "h\n",
            "e\n",
            "l\n",
            "l\n",
            "o\n"
          ]
        }
      ]
    },
    {
      "cell_type": "code",
      "source": [
        "#22.Python for loop using the range() function\n",
        "\n",
        "for i in range(0, 6):\n",
        "    print(i)\n",
        "\n"
      ],
      "metadata": {
        "colab": {
          "base_uri": "https://localhost:8080/"
        },
        "id": "0o1IDUoDfawi",
        "outputId": "20fa937c-5990-4855-ff43-610c4bc32954"
      },
      "execution_count": 16,
      "outputs": [
        {
          "output_type": "stream",
          "name": "stdout",
          "text": [
            "0\n",
            "1\n",
            "2\n",
            "3\n",
            "4\n",
            "5\n"
          ]
        }
      ]
    },
    {
      "cell_type": "code",
      "source": [
        "#23.Python for loop to iterate through a list\n",
        "\n",
        "lst = [1, 2, 3, 4, 5]\n",
        "for element in lst:\n",
        "    print(element)"
      ],
      "metadata": {
        "colab": {
          "base_uri": "https://localhost:8080/"
        },
        "id": "tTTKlfNDfxCl",
        "outputId": "e0968726-7c59-412e-8cf8-a4f208e42e51"
      },
      "execution_count": 14,
      "outputs": [
        {
          "output_type": "stream",
          "name": "stdout",
          "text": [
            "1\n",
            "2\n",
            "3\n",
            "4\n",
            "5\n"
          ]
        }
      ]
    },
    {
      "cell_type": "code",
      "source": [
        "#24.Python for loop to iterate through a dictionary\n",
        "\n",
        "dict = {'a': 1, 'b': 2, 'c': 3}\n",
        "for key, value in dict.items():\n",
        "    print(key, value)\n",
        "\n"
      ],
      "metadata": {
        "colab": {
          "base_uri": "https://localhost:8080/"
        },
        "id": "8s3tUoopf3pV",
        "outputId": "55d6995e-c78c-40d9-8d74-90e7ac841ce8"
      },
      "execution_count": 19,
      "outputs": [
        {
          "output_type": "stream",
          "name": "stdout",
          "text": [
            "a 1\n",
            "b 2\n",
            "c 3\n"
          ]
        }
      ]
    },
    {
      "cell_type": "code",
      "source": [
        "#25.Using else statement inside a for loop in Python\n",
        "\n",
        "for i in range(0, 6):\n",
        "    print(i)\n",
        "else:\n",
        "    print(\"Loop finished\")"
      ],
      "metadata": {
        "colab": {
          "base_uri": "https://localhost:8080/"
        },
        "id": "6Epps5XrgDBU",
        "outputId": "cdb05b85-5c91-4391-d8df-a6998d4e70d7"
      },
      "execution_count": 18,
      "outputs": [
        {
          "output_type": "stream",
          "name": "stdout",
          "text": [
            "0\n",
            "1\n",
            "2\n",
            "3\n",
            "4\n",
            "5\n",
            "Loop finished\n"
          ]
        }
      ]
    },
    {
      "cell_type": "code",
      "source": [
        "#26.Nested for loops in Python (one loop inside another loop)\n",
        "\n",
        "for i in range(1, 5):\n",
        "    for j in range(1, 5):\n",
        "        print(i, j)\n"
      ],
      "metadata": {
        "colab": {
          "base_uri": "https://localhost:8080/"
        },
        "id": "rv3VJv_KgG3K",
        "outputId": "7a82d7e5-1e80-430a-d12b-77546ae68ce0"
      },
      "execution_count": 23,
      "outputs": [
        {
          "output_type": "stream",
          "name": "stdout",
          "text": [
            "1 1\n",
            "1 2\n",
            "1 3\n",
            "1 4\n",
            "2 1\n",
            "2 2\n",
            "2 3\n",
            "2 4\n",
            "3 1\n",
            "3 2\n",
            "3 3\n",
            "3 4\n",
            "4 1\n",
            "4 2\n",
            "4 3\n",
            "4 4\n"
          ]
        }
      ]
    }
  ]
}