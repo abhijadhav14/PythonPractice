{
  "nbformat": 4,
  "nbformat_minor": 0,
  "metadata": {
    "colab": {
      "provenance": [],
      "authorship_tag": "ABX9TyNlPBrYBoEaDV/OYOS6U1Tu",
      "include_colab_link": true
    },
    "kernelspec": {
      "name": "python3",
      "display_name": "Python 3"
    },
    "language_info": {
      "name": "python"
    }
  },
  "cells": [
    {
      "cell_type": "markdown",
      "metadata": {
        "id": "view-in-github",
        "colab_type": "text"
      },
      "source": [
        "<a href=\"https://colab.research.google.com/github/abhijadhav14/PythonPractice/blob/main/BasicPy.ipynb\" target=\"_parent\"><img src=\"https://colab.research.google.com/assets/colab-badge.svg\" alt=\"Open In Colab\"/></a>"
      ]
    },
    {
      "cell_type": "code",
      "execution_count": 10,
      "metadata": {
        "colab": {
          "base_uri": "https://localhost:8080/"
        },
        "id": "Vt5XItNN5aeB",
        "outputId": "d12bebca-75be-4fd3-ba80-cdc6263fa278"
      },
      "outputs": [
        {
          "output_type": "stream",
          "name": "stdout",
          "text": [
            "Enter a = 20\n",
            "Enter b = 30\n",
            "the sum of 20 and 30 is 50\n"
          ]
        }
      ],
      "source": [
        "# 1. Python Program to implement simple addition\n",
        "a = input(\"Enter a = \")\n",
        "b = input(\"Enter b = \")\n",
        "sum = int(a) + int(b)\n",
        "print(\"the sum of {0} and {1} is {2}\".format(a,b,sum))"
      ]
    },
    {
      "cell_type": "code",
      "source": [
        "# 2. Python Program to find area of circle\n",
        "radius = float(input(\"Enter the radius of the circle: \"))\n",
        "area = 3.142 * radius**2\n",
        "print(\"The area of the circle is:\", area)\n"
      ],
      "metadata": {
        "colab": {
          "base_uri": "https://localhost:8080/"
        },
        "id": "RF6n5h7o8KX9",
        "outputId": "140506c9-c4b6-46db-f2b1-83842e3533e0"
      },
      "execution_count": 11,
      "outputs": [
        {
          "output_type": "stream",
          "name": "stdout",
          "text": [
            "Enter the radius of the circle: 4\n",
            "The area of the circle is: 50.272\n"
          ]
        }
      ]
    },
    {
      "cell_type": "code",
      "source": [
        "# 3. Python Program to calculate simple interest\n",
        "p = float(input(\"Enter principal amount: \"))\n",
        "r = float(input(\"Enter annual interest rate (in percentage): \"))\n",
        "t = float(input(\"Enter time in years: \"))\n",
        "\n",
        "simple_interest = (p * r * t) / 100\n",
        "\n",
        "print(\"Simple interest:\", simple_interest)\n"
      ],
      "metadata": {
        "colab": {
          "base_uri": "https://localhost:8080/"
        },
        "id": "ulHKOlRo_b2-",
        "outputId": "56237a31-51b2-4088-cff9-a37351ba40e4"
      },
      "execution_count": 6,
      "outputs": [
        {
          "output_type": "stream",
          "name": "stdout",
          "text": [
            "Enter principal amount: 1000\n",
            "Enter annual interest rate (in percentage): 10\n",
            "Enter time in years: 3\n",
            "Simple interest: 300.0\n"
          ]
        }
      ]
    },
    {
      "cell_type": "code",
      "source": [
        "# 4. Python Program to check weather given number is even or odd\n",
        "num = int(input(\"Enter a number: \"))\n",
        "if num % 2 == 0:\n",
        "  print(f\"{num} is even.\")\n",
        "else:\n",
        "  print(f\"{num} is odd.\")\n"
      ],
      "metadata": {
        "colab": {
          "base_uri": "https://localhost:8080/"
        },
        "id": "36GQLMcEAH90",
        "outputId": "dd7a6681-1c9a-4e91-d295-abba6c0c2be0"
      },
      "execution_count": 7,
      "outputs": [
        {
          "output_type": "stream",
          "name": "stdout",
          "text": [
            "Enter a number: 4\n",
            "4 is even.\n"
          ]
        }
      ]
    },
    {
      "cell_type": "code",
      "source": [
        "# 5. Python Program to check given string is palindrome or not\n",
        "string = input(\"Enter a string: \")\n",
        "\n",
        "def is_palindrome(s):\n",
        "    processed_string = ''.join(filter(str.isalnum, s)).lower()\n",
        "    return processed_string == processed_string[::-1]\n",
        "\n",
        "print(f\"'{string}' is a palindrome: {is_palindrome(string1)}\")\n",
        "\n"
      ],
      "metadata": {
        "colab": {
          "base_uri": "https://localhost:8080/"
        },
        "id": "hjlybwTBAZIQ",
        "outputId": "e9bd825e-5907-4a65-b768-c74d2bd88969"
      },
      "execution_count": 15,
      "outputs": [
        {
          "output_type": "stream",
          "name": "stdout",
          "text": [
            "Enter a string: ada\n",
            "'ada' is a palindrome: True\n"
          ]
        }
      ]
    },
    {
      "cell_type": "code",
      "source": [
        "# 6. Python Program to find square of a number\n",
        "num = float(input(\"Enter a number: \"))\n",
        "square = num ** 2\n",
        "print(f\"The square of {num} is {square}.\")"
      ],
      "metadata": {
        "colab": {
          "base_uri": "https://localhost:8080/"
        },
        "id": "R_bBtsYAB7Nc",
        "outputId": "34f99a90-97c7-4851-c0f1-b0f91972a0cf"
      },
      "execution_count": 17,
      "outputs": [
        {
          "output_type": "stream",
          "name": "stdout",
          "text": [
            "Enter a number: 3\n",
            "The square of 3.0 is 9.0.\n"
          ]
        }
      ]
    }
  ]
}