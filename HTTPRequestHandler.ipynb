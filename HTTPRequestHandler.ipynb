{
  "cells": [
    {
      "cell_type": "markdown",
      "metadata": {
        "id": "view-in-github",
        "colab_type": "text"
      },
      "source": [
        "<a href=\"https://colab.research.google.com/github/abhijadhav14/PythonPractice/blob/main/HTTPRequestHandler.ipynb\" target=\"_parent\"><img src=\"https://colab.research.google.com/assets/colab-badge.svg\" alt=\"Open In Colab\"/></a>"
      ]
    },
    {
      "cell_type": "code",
      "execution_count": null,
      "metadata": {
        "colab": {
          "base_uri": "https://localhost:8080/"
        },
        "id": "ftDwmthlELwD",
        "outputId": "85489032-b622-4b7d-a216-366e55e1960d"
      },
      "outputs": [
        {
          "name": "stdout",
          "output_type": "stream",
          "text": [
            "Python 3.8.10\n"
          ]
        }
      ],
      "source": [
        "! python --version"
      ]
    },
    {
      "cell_type": "code",
      "execution_count": null,
      "metadata": {
        "colab": {
          "background_save": true,
          "base_uri": "https://localhost:8080/"
        },
        "id": "gDHmbuiTESKo",
        "outputId": "63e05e04-74c6-4915-9353-377a2dbded45"
      },
      "outputs": [
        {
          "name": "stdout",
          "output_type": "stream",
          "text": [
            "serving at http://localhost:80\n",
            "to stop, close the browser and press CTRL+C\n"
          ]
        }
      ],
      "source": [
        "import http.server\n",
        "import socketserver\n",
        "import threading\n",
        "import webbrowser\n",
        "import time\n",
        "\n",
        "HOST = \"localhost\"\n",
        "PORT = 80\n",
        "\n",
        "\n",
        "class HttpRequestHandler(http.server.SimpleHTTPRequestHandler):\n",
        "    extensions_map = {\n",
        "        \"\": \"application/octet-stream\",\n",
        "        \".css\": \"text/css\",\n",
        "        \".html\": \"text/html\",\n",
        "        \".jpg\": \"image/jpg\",\n",
        "        \".js\": \"application/x-javascript\",\n",
        "        \".json\": \"application/json\",\n",
        "        \".manifest\": \"text/cache-manifest\",\n",
        "        \".pdf\": \"application/pdf\",\n",
        "        \".png\": \"image/png\",\n",
        "        \".svg\": \"image/svg+xml\",\n",
        "        \".wasm\": \"application/wasm\",\n",
        "        \".xml\": \"application/xml\",\n",
        "        \".xslt\": \"application/xml\",\n",
        "        \".wsdl\": \"text/xml\",\n",
        "    }\n",
        "\n",
        "def spawn_browser():\n",
        "    time.sleep (1)\n",
        "    webbrowser.open(f\"http://{HOST}:{PORT}\")\n",
        "\n",
        "try:\n",
        "    with socketserver.TCPServer((HOST, PORT), HttpRequestHandler) as httpd:\n",
        "        print(f\"serving at http://{HOST}:{PORT}\")\n",
        "        print(f\"to stop, close the browser and press CTRL+C\")\n",
        "        threading.Thread(target=spawn_browser).start()\n",
        "        httpd.serve_forever()\n",
        "except KeyboardInterrupt:\n",
        "    pass"
      ]
    },
    {
      "cell_type": "code",
      "execution_count": null,
      "metadata": {
        "id": "StUUbTZt99ck"
      },
      "outputs": [],
      "source": []
    }
  ],
  "metadata": {
    "colab": {
      "provenance": [],
      "authorship_tag": "ABX9TyMKWG/qCXUc+KTQyH5045ue",
      "include_colab_link": true
    },
    "kernelspec": {
      "display_name": "Python 3",
      "name": "python3"
    },
    "language_info": {
      "name": "python"
    }
  },
  "nbformat": 4,
  "nbformat_minor": 0
}