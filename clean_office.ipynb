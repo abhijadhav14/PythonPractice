{
  "nbformat": 4,
  "nbformat_minor": 0,
  "metadata": {
    "colab": {
      "provenance": [],
      "authorship_tag": "ABX9TyNTRNIYyutApEjPvTSienW0",
      "include_colab_link": true
    },
    "kernelspec": {
      "name": "python3",
      "display_name": "Python 3"
    },
    "language_info": {
      "name": "python"
    }
  },
  "cells": [
    {
      "cell_type": "markdown",
      "metadata": {
        "id": "view-in-github",
        "colab_type": "text"
      },
      "source": [
        "<a href=\"https://colab.research.google.com/github/abhijadhav14/PythonPractice/blob/main/clean_office.ipynb\" target=\"_parent\"><img src=\"https://colab.research.google.com/assets/colab-badge.svg\" alt=\"Open In Colab\"/></a>"
      ]
    },
    {
      "cell_type": "code",
      "execution_count": 1,
      "metadata": {
        "id": "e50sw3cld3Ww"
      },
      "outputs": [],
      "source": [
        "import datetime\n",
        "import time"
      ]
    },
    {
      "cell_type": "code",
      "source": [
        "class BackpackOrganizer:\n",
        "    def __init__(self, remind_interval_days=7):\n",
        "        self.last_organized = None\n",
        "        self.remind_interval = datetime.timedelta(days=remind_interval_days)\n",
        "\n",
        "    def organize(self):\n",
        "        print(\"Organizing your tech backpack...\")\n",
        "        time.sleep(1)\n",
        "        print(\"Tech backpack organized!\")\n",
        "        self.last_organized = datetime.datetime.now()\n",
        "\n",
        "    def check_if_organization_needed(self):\n",
        "        if self.last_organized is None:\n",
        "            print(\"You haven't organized your tech backpack yet!\")\n",
        "            return True\n",
        "\n",
        "        time_since_last_organized = datetime.datetime.now() - self.last_organized\n",
        "        if time_since_last_organized >= self.remind_interval:\n",
        "            print(f\"It's been {time_since_last_organized.days} days since you last organized your tech backpack.\")\n",
        "            return True\n",
        "        else:\n",
        "            days_until_next_reminder = (self.remind_interval - time_since_last_organized).days\n",
        "            print(f\"Your tech backpack was organized {time_since_last_organized.days} days ago.\")\n",
        "            print(f\"Next reminder in {days_until_next_reminder} days.\")\n",
        "            return False"
      ],
      "metadata": {
        "id": "pP-bnW24d6p-"
      },
      "execution_count": 2,
      "outputs": []
    },
    {
      "cell_type": "code",
      "source": [
        "def main():\n",
        "    organizer = BackpackOrganizer(remind_interval_days=7)\n",
        "\n",
        "    while True:\n",
        "        print(\"\\nChecking your tech backpack...\")\n",
        "        if organizer.check_if_organization_needed():\n",
        "            choice = input(\"Would you like to organize your tech backpack now? (yes/no): \")\n",
        "            if choice.lower() == 'yes':\n",
        "                organizer.organize()\n",
        "            else:\n",
        "                print(\"Okay, we'll remind you again later.\")\n",
        "\n",
        "        print(\"\\nTime passes...\")\n",
        "        time.sleep(2)\n",
        "        organizer.last_organized -= datetime.timedelta(days=3)  # Subtract 3 days from last_organized\n",
        "\n",
        "        choice = input(\"Continue simulation? (yes/no): \")\n",
        "        if choice.lower() != 'yes':\n",
        "            break\n",
        "\n",
        "    print(\"Backpack organizer reminder simulation ended.\")\n",
        "\n",
        "if __name__ == \"__main__\":\n",
        "    main()"
      ],
      "metadata": {
        "colab": {
          "base_uri": "https://localhost:8080/"
        },
        "id": "rtOQMvPQeAzg",
        "outputId": "e79ed1bd-e79f-4d46-c946-7544546b3d85"
      },
      "execution_count": 4,
      "outputs": [
        {
          "output_type": "stream",
          "name": "stdout",
          "text": [
            "\n",
            "Checking your tech backpack...\n",
            "You haven't organized your tech backpack yet!\n",
            "Would you like to organize your tech backpack now? (yes/no): yes\n",
            "Organizing your tech backpack...\n",
            "Tech backpack organized!\n",
            "\n",
            "Time passes...\n",
            "Continue simulation? (yes/no): yes\n",
            "\n",
            "Checking your tech backpack...\n",
            "Your tech backpack was organized 3 days ago.\n",
            "Next reminder in 3 days.\n",
            "\n",
            "Time passes...\n",
            "Continue simulation? (yes/no): yes\n",
            "\n",
            "Checking your tech backpack...\n",
            "Your tech backpack was organized 6 days ago.\n",
            "Next reminder in 0 days.\n",
            "\n",
            "Time passes...\n",
            "Continue simulation? (yes/no): yes\n",
            "\n",
            "Checking your tech backpack...\n",
            "It's been 9 days since you last organized your tech backpack.\n",
            "Would you like to organize your tech backpack now? (yes/no): yes\n",
            "Organizing your tech backpack...\n",
            "Tech backpack organized!\n",
            "\n",
            "Time passes...\n",
            "Continue simulation? (yes/no): yes\n",
            "\n",
            "Checking your tech backpack...\n",
            "Your tech backpack was organized 3 days ago.\n",
            "Next reminder in 3 days.\n",
            "\n",
            "Time passes...\n",
            "Continue simulation? (yes/no): no\n",
            "Backpack organizer reminder simulation ended.\n"
          ]
        }
      ]
    },
    {
      "cell_type": "code",
      "source": [],
      "metadata": {
        "id": "4tctK37FeDx6"
      },
      "execution_count": null,
      "outputs": []
    }
  ]
}