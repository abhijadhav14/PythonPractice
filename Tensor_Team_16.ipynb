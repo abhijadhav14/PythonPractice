{
  "nbformat": 4,
  "nbformat_minor": 0,
  "metadata": {
    "colab": {
      "provenance": [],
      "include_colab_link": true
    },
    "kernelspec": {
      "name": "python3",
      "display_name": "Python 3"
    },
    "language_info": {
      "name": "python"
    }
  },
  "cells": [
    {
      "cell_type": "markdown",
      "metadata": {
        "id": "view-in-github",
        "colab_type": "text"
      },
      "source": [
        "<a href=\"https://colab.research.google.com/github/abhijadhav14/PythonPractice/blob/main/Tensor_Team_16.ipynb\" target=\"_parent\"><img src=\"https://colab.research.google.com/assets/colab-badge.svg\" alt=\"Open In Colab\"/></a>"
      ]
    },
    {
      "cell_type": "code",
      "metadata": {
        "id": "6b7PNY0xloSH"
      },
      "source": [
        "import tensorflow.compat.v1 as tf\n",
        "tf.disable_v2_behavior()\n",
        "import numpy as np\n",
        "import pandas as pd\n",
        "import matplotlib.pyplot as plt\n",
        "import os"
      ],
      "execution_count": null,
      "outputs": []
    },
    {
      "cell_type": "code",
      "metadata": {
        "id": "6yFWbwDynlqt"
      },
      "source": [
        "learning_rate = 0.01\n",
        "epochs = 1000"
      ],
      "execution_count": null,
      "outputs": []
    },
    {
      "cell_type": "code",
      "metadata": {
        "id": "M_lMhfQfnusf"
      },
      "source": [
        "dataset = pd.read_csv('/content/16.txt')"
      ],
      "execution_count": null,
      "outputs": []
    },
    {
      "cell_type": "code",
      "metadata": {
        "colab": {
          "base_uri": "https://localhost:8080/",
          "height": 204
        },
        "id": "LiQxgyfYpd2j",
        "outputId": "dbe972d0-2af1-4fca-b7b3-a817e625af32"
      },
      "source": [
        "dataset.head()"
      ],
      "execution_count": null,
      "outputs": [
        {
          "output_type": "execute_result",
          "data": {
            "text/html": [
              "<div>\n",
              "<style scoped>\n",
              "    .dataframe tbody tr th:only-of-type {\n",
              "        vertical-align: middle;\n",
              "    }\n",
              "\n",
              "    .dataframe tbody tr th {\n",
              "        vertical-align: top;\n",
              "    }\n",
              "\n",
              "    .dataframe thead th {\n",
              "        text-align: right;\n",
              "    }\n",
              "</style>\n",
              "<table border=\"1\" class=\"dataframe\">\n",
              "  <thead>\n",
              "    <tr style=\"text-align: right;\">\n",
              "      <th></th>\n",
              "      <th>x</th>\n",
              "      <th>y</th>\n",
              "    </tr>\n",
              "  </thead>\n",
              "  <tbody>\n",
              "    <tr>\n",
              "      <th>0</th>\n",
              "      <td>11.340805</td>\n",
              "      <td>28.034063</td>\n",
              "    </tr>\n",
              "    <tr>\n",
              "      <th>1</th>\n",
              "      <td>8.954664</td>\n",
              "      <td>31.271212</td>\n",
              "    </tr>\n",
              "    <tr>\n",
              "      <th>2</th>\n",
              "      <td>8.405894</td>\n",
              "      <td>33.087672</td>\n",
              "    </tr>\n",
              "    <tr>\n",
              "      <th>3</th>\n",
              "      <td>14.674184</td>\n",
              "      <td>32.537440</td>\n",
              "    </tr>\n",
              "    <tr>\n",
              "      <th>4</th>\n",
              "      <td>11.085936</td>\n",
              "      <td>32.359369</td>\n",
              "    </tr>\n",
              "  </tbody>\n",
              "</table>\n",
              "</div>"
            ],
            "text/plain": [
              "           x          y\n",
              "0  11.340805  28.034063\n",
              "1   8.954664  31.271212\n",
              "2   8.405894  33.087672\n",
              "3  14.674184  32.537440\n",
              "4  11.085936  32.359369"
            ]
          },
          "metadata": {},
          "execution_count": 213
        }
      ]
    },
    {
      "cell_type": "code",
      "metadata": {
        "id": "mVrTigzzpiIf"
      },
      "source": [
        "train_x = dataset.iloc[:, :-1].values\n",
        "train_y = dataset.iloc[:, 1:].values"
      ],
      "execution_count": null,
      "outputs": []
    },
    {
      "cell_type": "code",
      "metadata": {
        "colab": {
          "base_uri": "https://localhost:8080/",
          "height": 265
        },
        "id": "ok68ge5Ypuuk",
        "outputId": "cff8197b-4c21-436f-bd80-f64466b1ea54"
      },
      "source": [
        "plt.plot(train_x,train_y,'o')\n",
        "plt.show()"
      ],
      "execution_count": null,
      "outputs": [
        {
          "output_type": "display_data",
          "data": {
            "image/png": "[encoded data removed]",
            "text/plain": [
              "<Figure size 432x288 with 1 Axes>"
            ]
          },
          "metadata": {
            "needs_background": "light"
          }
        }
      ]
    },
    {
      "cell_type": "code",
      "metadata": {
        "id": "9F-5Vh8ZqDa7"
      },
      "source": [
        "X = tf.placeholder(tf.float32)\n",
        "Y = tf.placeholder(tf.float32)\n",
        "W= tf.Variable(np.random.randn(),name='weight')\n",
        "B= tf.Variable(np.random.randn(),name='bias')"
      ],
      "execution_count": null,
      "outputs": []
    },
    {
      "cell_type": "code",
      "metadata": {
        "id": "YRvwSFIhrkuy"
      },
      "source": [
        "pred = tf.add(tf.multiply(X,W),B)\n",
        "\n",
        "cost = tf.reduce_sum((pred - Y) ** 2 ) / (2 * 599 )\n",
        "\n",
        "optimizer = tf.train.GradientDescentOptimizer(learning_rate).minimize(cost)"
      ],
      "execution_count": null,
      "outputs": []
    },
    {
      "cell_type": "code",
      "metadata": {
        "id": "JcSPKRBbuUzX"
      },
      "source": [
        "init = tf.global_variables_initializer()"
      ],
      "execution_count": null,
      "outputs": []
    },
    {
      "cell_type": "markdown",
      "metadata": {
        "id": "qaFTW0NlfZPa"
      },
      "source": [
        "TASK -- 1"
      ]
    },
    {
      "cell_type": "code",
      "metadata": {
        "colab": {
          "base_uri": "https://localhost:8080/"
        },
        "id": "qEP92kpa0Dc5",
        "outputId": "9d12da27-68ce-40ba-9285-9037d87c7631"
      },
      "source": [
        "jhist =[]\n",
        "ehist =[]\n",
        "with tf.Session() as sesh:\n",
        "    sesh.run(init)\n",
        "\n",
        "    for epoch in range(epochs):\n",
        "        for x, y in zip(train_x, train_y):\n",
        "            sesh.run(optimizer, feed_dict={X: x, Y: y})\n",
        "\n",
        "        if not epoch % 1 :\n",
        "            c = sesh.run(cost, feed_dict={X: train_x, Y: train_y})\n",
        "            w = sesh.run(W)\n",
        "            b = sesh.run(B)\n",
        "            jhist.append(sesh.run(cost, feed_dict={X: train_x, Y: train_y}))\n",
        "            ehist.append(epochs % 20)\n",
        "            print(f'epoch: {epoch:04d} c={c:.4f} w={w:.4f} b={b:.4f} ')"
      ],
      "execution_count": null,
      "outputs": [
        {
          "output_type": "stream",
          "name": "stdout",
          "text": [
            "epoch: 0000 c=95.2719 w=1.9225 b=0.8378 \n",
            "epoch: 0001 c=61.0393 w=2.4937 b=0.9572 \n",
            "epoch: 0002 c=41.9968 w=2.9190 b=1.0504 \n",
            "epoch: 0003 c=31.4006 w=3.2354 b=1.1240 \n",
            "epoch: 0004 c=25.5002 w=3.4706 b=1.1831 \n",
            "epoch: 0005 c=22.2102 w=3.6453 b=1.2314 \n",
            "epoch: 0006 c=20.3711 w=3.7748 b=1.2716 \n",
            "epoch: 0007 c=19.3382 w=3.8706 b=1.3057 \n",
            "epoch: 0008 c=18.7532 w=3.9414 b=1.3353 \n",
            "epoch: 0009 c=18.4168 w=3.9934 b=1.3615 \n",
            "epoch: 0010 c=18.2184 w=4.0314 b=1.3852 \n",
            "epoch: 0011 c=18.0966 w=4.0591 b=1.4070 \n",
            "epoch: 0012 c=18.0172 w=4.0789 b=1.4274 \n",
            "epoch: 0013 c=17.9612 w=4.0930 b=1.4468 \n",
            "epoch: 0014 c=17.9182 w=4.1027 b=1.4654 \n",
            "epoch: 0015 c=17.8824 w=4.1093 b=1.4834 \n",
            "epoch: 0016 c=17.8505 w=4.1134 b=1.5009 \n",
            "epoch: 0017 c=17.8208 w=4.1158 b=1.5181 \n",
            "epoch: 0018 c=17.7923 w=4.1168 b=1.5351 \n",
            "epoch: 0019 c=17.7645 w=4.1168 b=1.5518 \n",
            "epoch: 0020 c=17.7371 w=4.1160 b=1.5685 \n",
            "epoch: 0021 c=17.7098 w=4.1148 b=1.5850 \n",
            "epoch: 0022 c=17.6827 w=4.1131 b=1.6014 \n",
            "epoch: 0023 c=17.6557 w=4.1111 b=1.6177 \n",
            "epoch: 0024 c=17.6288 w=4.1089 b=1.6340 \n",
            "epoch: 0025 c=17.6019 w=4.1065 b=1.6502 \n",
            "epoch: 0026 c=17.5750 w=4.1039 b=1.6664 \n",
            "epoch: 0027 c=17.5482 w=4.1013 b=1.6826 \n",
            "epoch: 0028 c=17.5215 w=4.0987 b=1.6987 \n",
            "epoch: 0029 c=17.4948 w=4.0959 b=1.7149 \n",
            "epoch: 0030 c=17.4681 w=4.0932 b=1.7310 \n",
            "epoch: 0031 c=17.4415 w=4.0904 b=1.7470 \n",
            "epoch: 0032 c=17.4149 w=4.0876 b=1.7631 \n",
            "epoch: 0033 c=17.3884 w=4.0847 b=1.7791 \n",
            "epoch: 0034 c=17.3620 w=4.0819 b=1.7952 \n",
            "epoch: 0035 c=17.3355 w=4.0790 b=1.8112 \n",
            "epoch: 0036 c=17.3091 w=4.0762 b=1.8272 \n",
            "epoch: 0037 c=17.2828 w=4.0733 b=1.8431 \n",
            "epoch: 0038 c=17.2565 w=4.0705 b=1.8591 \n",
            "epoch: 0039 c=17.2303 w=4.0676 b=1.8751 \n",
            "epoch: 0040 c=17.2041 w=4.0648 b=1.8910 \n",
            "epoch: 0041 c=17.1779 w=4.0619 b=1.9069 \n",
            "epoch: 0042 c=17.1519 w=4.0591 b=1.9228 \n",
            "epoch: 0043 c=17.1258 w=4.0562 b=1.9387 \n",
            "epoch: 0044 c=17.0998 w=4.0534 b=1.9546 \n",
            "epoch: 0045 c=17.0738 w=4.0506 b=1.9704 \n",
            "epoch: 0046 c=17.0479 w=4.0477 b=1.9863 \n",
            "epoch: 0047 c=17.0221 w=4.0449 b=2.0021 \n",
            "epoch: 0048 c=16.9963 w=4.0420 b=2.0179 \n",
            "epoch: 0049 c=16.9705 w=4.0392 b=2.0337 \n",
            "epoch: 0050 c=16.9448 w=4.0364 b=2.0495 \n",
            "epoch: 0051 c=16.9191 w=4.0336 b=2.0653 \n",
            "epoch: 0052 c=16.8934 w=4.0307 b=2.0811 \n",
            "epoch: 0053 c=16.8679 w=4.0279 b=2.0968 \n",
            "epoch: 0054 c=16.8423 w=4.0251 b=2.1125 \n",
            "epoch: 0055 c=16.8168 w=4.0223 b=2.1283 \n",
            "epoch: 0056 c=16.7914 w=4.0194 b=2.1440 \n",
            "epoch: 0057 c=16.7660 w=4.0166 b=2.1596 \n",
            "epoch: 0058 c=16.7406 w=4.0138 b=2.1753 \n",
            "epoch: 0059 c=16.7153 w=4.0110 b=2.1910 \n",
            "epoch: 0060 c=16.6901 w=4.0082 b=2.2066 \n",
            "epoch: 0061 c=16.6648 w=4.0054 b=2.2223 \n",
            "epoch: 0062 c=16.6397 w=4.0026 b=2.2379 \n",
            "epoch: 0063 c=16.6145 w=3.9998 b=2.2535 \n",
            "epoch: 0064 c=16.5895 w=3.9970 b=2.2691 \n",
            "epoch: 0065 c=16.5644 w=3.9942 b=2.2846 \n",
            "epoch: 0066 c=16.5394 w=3.9914 b=2.3002 \n",
            "epoch: 0067 c=16.5145 w=3.9886 b=2.3158 \n",
            "epoch: 0068 c=16.4896 w=3.9858 b=2.3313 \n",
            "epoch: 0069 c=16.4647 w=3.9831 b=2.3468 \n",
            "epoch: 0070 c=16.4399 w=3.9803 b=2.3623 \n",
            "epoch: 0071 c=16.4151 w=3.9775 b=2.3778 \n",
            "epoch: 0072 c=16.3904 w=3.9747 b=2.3933 \n",
            "epoch: 0073 c=16.3658 w=3.9720 b=2.4088 \n",
            "epoch: 0074 c=16.3411 w=3.9692 b=2.4242 \n",
            "epoch: 0075 c=16.3165 w=3.9664 b=2.4396 \n",
            "epoch: 0076 c=16.2920 w=3.9637 b=2.4551 \n",
            "epoch: 0077 c=16.2675 w=3.9609 b=2.4705 \n",
            "epoch: 0078 c=16.2430 w=3.9581 b=2.4859 \n",
            "epoch: 0079 c=16.2186 w=3.9554 b=2.5012 \n",
            "epoch: 0080 c=16.1942 w=3.9526 b=2.5166 \n",
            "epoch: 0081 c=16.1699 w=3.9499 b=2.5320 \n",
            "epoch: 0082 c=16.1456 w=3.9471 b=2.5473 \n",
            "epoch: 0083 c=16.1214 w=3.9444 b=2.5626 \n",
            "epoch: 0084 c=16.0972 w=3.9416 b=2.5779 \n",
            "epoch: 0085 c=16.0731 w=3.9389 b=2.5932 \n",
            "epoch: 0086 c=16.0490 w=3.9361 b=2.6085 \n",
            "epoch: 0087 c=16.0249 w=3.9334 b=2.6238 \n",
            "epoch: 0088 c=16.0009 w=3.9307 b=2.6391 \n",
            "epoch: 0089 c=15.9769 w=3.9279 b=2.6543 \n",
            "epoch: 0090 c=15.9530 w=3.9252 b=2.6695 \n",
            "epoch: 0091 c=15.9291 w=3.9225 b=2.6847 \n",
            "epoch: 0092 c=15.9052 w=3.9197 b=2.6999 \n",
            "epoch: 0093 c=15.8814 w=3.9170 b=2.7151 \n",
            "epoch: 0094 c=15.8577 w=3.9143 b=2.7303 \n",
            "epoch: 0095 c=15.8340 w=3.9116 b=2.7455 \n",
            "epoch: 0096 c=15.8103 w=3.9089 b=2.7606 \n",
            "epoch: 0097 c=15.7867 w=3.9061 b=2.7757 \n",
            "epoch: 0098 c=15.7631 w=3.9034 b=2.7909 \n",
            "epoch: 0099 c=15.7395 w=3.9007 b=2.8060 \n",
            "epoch: 0100 c=15.7160 w=3.8980 b=2.8211 \n",
            "epoch: 0101 c=15.6925 w=3.8953 b=2.8361 \n",
            "epoch: 0102 c=15.6691 w=3.8926 b=2.8512 \n",
            "epoch: 0103 c=15.6457 w=3.8899 b=2.8663 \n",
            "epoch: 0104 c=15.6224 w=3.8872 b=2.8813 \n",
            "epoch: 0105 c=15.5991 w=3.8845 b=2.8963 \n",
            "epoch: 0106 c=15.5759 w=3.8818 b=2.9113 \n",
            "epoch: 0107 c=15.5527 w=3.8791 b=2.9263 \n",
            "epoch: 0108 c=15.5295 w=3.8765 b=2.9413 \n",
            "epoch: 0109 c=15.5064 w=3.8738 b=2.9563 \n",
            "epoch: 0110 c=15.4833 w=3.8711 b=2.9712 \n",
            "epoch: 0111 c=15.4602 w=3.8684 b=2.9862 \n",
            "epoch: 0112 c=15.4372 w=3.8657 b=3.0011 \n",
            "epoch: 0113 c=15.4143 w=3.8631 b=3.0160 \n",
            "epoch: 0114 c=15.3913 w=3.8604 b=3.0309 \n",
            "epoch: 0115 c=15.3685 w=3.8577 b=3.0458 \n",
            "epoch: 0116 c=15.3456 w=3.8550 b=3.0607 \n",
            "epoch: 0117 c=15.3228 w=3.8524 b=3.0756 \n",
            "epoch: 0118 c=15.3001 w=3.8497 b=3.0904 \n",
            "epoch: 0119 c=15.2774 w=3.8471 b=3.1052 \n",
            "epoch: 0120 c=15.2547 w=3.8444 b=3.1201 \n",
            "epoch: 0121 c=15.2321 w=3.8417 b=3.1349 \n",
            "epoch: 0122 c=15.2095 w=3.8391 b=3.1497 \n",
            "epoch: 0123 c=15.1869 w=3.8364 b=3.1645 \n",
            "epoch: 0124 c=15.1644 w=3.8338 b=3.1792 \n",
            "epoch: 0125 c=15.1420 w=3.8311 b=3.1940 \n",
            "epoch: 0126 c=15.1195 w=3.8285 b=3.2087 \n",
            "epoch: 0127 c=15.0971 w=3.8259 b=3.2235 \n",
            "epoch: 0128 c=15.0748 w=3.8232 b=3.2382 \n",
            "epoch: 0129 c=15.0525 w=3.8206 b=3.2529 \n",
            "epoch: 0130 c=15.0302 w=3.8180 b=3.2676 \n",
            "epoch: 0131 c=15.0080 w=3.8153 b=3.2822 \n",
            "epoch: 0132 c=14.9858 w=3.8127 b=3.2969 \n",
            "epoch: 0133 c=14.9637 w=3.8101 b=3.3116 \n",
            "epoch: 0134 c=14.9415 w=3.8074 b=3.3262 \n",
            "epoch: 0135 c=14.9195 w=3.8048 b=3.3408 \n",
            "epoch: 0136 c=14.8975 w=3.8022 b=3.3554 \n",
            "epoch: 0137 c=14.8755 w=3.7996 b=3.3700 \n",
            "epoch: 0138 c=14.8535 w=3.7970 b=3.3846 \n",
            "epoch: 0139 c=14.8316 w=3.7943 b=3.3992 \n",
            "epoch: 0140 c=14.8098 w=3.7917 b=3.4137 \n",
            "epoch: 0141 c=14.7879 w=3.7891 b=3.4283 \n",
            "epoch: 0142 c=14.7661 w=3.7865 b=3.4428 \n",
            "epoch: 0143 c=14.7444 w=3.7839 b=3.4573 \n",
            "epoch: 0144 c=14.7227 w=3.7813 b=3.4718 \n",
            "epoch: 0145 c=14.7010 w=3.7787 b=3.4863 \n",
            "epoch: 0146 c=14.6794 w=3.7761 b=3.5008 \n",
            "epoch: 0147 c=14.6578 w=3.7735 b=3.5153 \n",
            "epoch: 0148 c=14.6362 w=3.7709 b=3.5297 \n",
            "epoch: 0149 c=14.6147 w=3.7683 b=3.5442 \n",
            "epoch: 0150 c=14.5932 w=3.7658 b=3.5586 \n",
            "epoch: 0151 c=14.5718 w=3.7632 b=3.5730 \n",
            "epoch: 0152 c=14.5504 w=3.7606 b=3.5874 \n",
            "epoch: 0153 c=14.5290 w=3.7580 b=3.6018 \n",
            "epoch: 0154 c=14.5077 w=3.7554 b=3.6162 \n",
            "epoch: 0155 c=14.4864 w=3.7529 b=3.6305 \n",
            "epoch: 0156 c=14.4652 w=3.7503 b=3.6449 \n",
            "epoch: 0157 c=14.4440 w=3.7477 b=3.6592 \n",
            "epoch: 0158 c=14.4228 w=3.7452 b=3.6735 \n",
            "epoch: 0159 c=14.4017 w=3.7426 b=3.6878 \n",
            "epoch: 0160 c=14.3806 w=3.7400 b=3.7021 \n",
            "epoch: 0161 c=14.3595 w=3.7375 b=3.7164 \n",
            "epoch: 0162 c=14.3385 w=3.7349 b=3.7307 \n",
            "epoch: 0163 c=14.3175 w=3.7323 b=3.7449 \n",
            "epoch: 0164 c=14.2966 w=3.7298 b=3.7592 \n",
            "epoch: 0165 c=14.2757 w=3.7272 b=3.7734 \n",
            "epoch: 0166 c=14.2548 w=3.7247 b=3.7876 \n",
            "epoch: 0167 c=14.2340 w=3.7221 b=3.8018 \n",
            "epoch: 0168 c=14.2132 w=3.7196 b=3.8160 \n",
            "epoch: 0169 c=14.1925 w=3.7170 b=3.8302 \n",
            "epoch: 0170 c=14.1718 w=3.7145 b=3.8444 \n",
            "epoch: 0171 c=14.1511 w=3.7120 b=3.8585 \n",
            "epoch: 0172 c=14.1304 w=3.7094 b=3.8727 \n",
            "epoch: 0173 c=14.1098 w=3.7069 b=3.8868 \n",
            "epoch: 0174 c=14.0893 w=3.7044 b=3.9009 \n",
            "epoch: 0175 c=14.0687 w=3.7018 b=3.9150 \n",
            "epoch: 0176 c=14.0483 w=3.6993 b=3.9291 \n",
            "epoch: 0177 c=14.0278 w=3.6968 b=3.9432 \n",
            "epoch: 0178 c=14.0074 w=3.6943 b=3.9573 \n",
            "epoch: 0179 c=13.9870 w=3.6917 b=3.9713 \n",
            "epoch: 0180 c=13.9666 w=3.6892 b=3.9854 \n",
            "epoch: 0181 c=13.9463 w=3.6867 b=3.9994 \n",
            "epoch: 0182 c=13.9261 w=3.6842 b=4.0134 \n",
            "epoch: 0183 c=13.9058 w=3.6817 b=4.0274 \n",
            "epoch: 0184 c=13.8856 w=3.6792 b=4.0414 \n",
            "epoch: 0185 c=13.8655 w=3.6767 b=4.0554 \n",
            "epoch: 0186 c=13.8454 w=3.6742 b=4.0693 \n",
            "epoch: 0187 c=13.8253 w=3.6717 b=4.0833 \n",
            "epoch: 0188 c=13.8052 w=3.6692 b=4.0972 \n",
            "epoch: 0189 c=13.7852 w=3.6667 b=4.1111 \n",
            "epoch: 0190 c=13.7652 w=3.6642 b=4.1251 \n",
            "epoch: 0191 c=13.7453 w=3.6617 b=4.1390 \n",
            "epoch: 0192 c=13.7254 w=3.6592 b=4.1529 \n",
            "epoch: 0193 c=13.7055 w=3.6567 b=4.1667 \n",
            "epoch: 0194 c=13.6856 w=3.6542 b=4.1806 \n",
            "epoch: 0195 c=13.6658 w=3.6517 b=4.1945 \n",
            "epoch: 0196 c=13.6461 w=3.6492 b=4.2083 \n",
            "epoch: 0197 c=13.6263 w=3.6468 b=4.2221 \n",
            "epoch: 0198 c=13.6066 w=3.6443 b=4.2360 \n",
            "epoch: 0199 c=13.5870 w=3.6418 b=4.2498 \n",
            "epoch: 0200 c=13.5673 w=3.6393 b=4.2636 \n",
            "epoch: 0201 c=13.5477 w=3.6369 b=4.2773 \n",
            "epoch: 0202 c=13.5282 w=3.6344 b=4.2911 \n",
            "epoch: 0203 c=13.5087 w=3.6319 b=4.3049 \n",
            "epoch: 0204 c=13.4892 w=3.6295 b=4.3186 \n",
            "epoch: 0205 c=13.4698 w=3.6270 b=4.3323 \n",
            "epoch: 0206 c=13.4503 w=3.6245 b=4.3460 \n",
            "epoch: 0207 c=13.4310 w=3.6221 b=4.3597 \n",
            "epoch: 0208 c=13.4116 w=3.6196 b=4.3734 \n",
            "epoch: 0209 c=13.3923 w=3.6172 b=4.3871 \n",
            "epoch: 0210 c=13.3730 w=3.6147 b=4.4008 \n",
            "epoch: 0211 c=13.3538 w=3.6123 b=4.4144 \n",
            "epoch: 0212 c=13.3346 w=3.6098 b=4.4281 \n",
            "epoch: 0213 c=13.3154 w=3.6074 b=4.4417 \n",
            "epoch: 0214 c=13.2963 w=3.6049 b=4.4553 \n",
            "epoch: 0215 c=13.2772 w=3.6025 b=4.4689 \n",
            "epoch: 0216 c=13.2581 w=3.6001 b=4.4825 \n",
            "epoch: 0217 c=13.2391 w=3.5976 b=4.4961 \n",
            "epoch: 0218 c=13.2201 w=3.5952 b=4.5097 \n",
            "epoch: 0219 c=13.2011 w=3.5928 b=4.5232 \n",
            "epoch: 0220 c=13.1822 w=3.5903 b=4.5368 \n",
            "epoch: 0221 c=13.1633 w=3.5879 b=4.5503 \n",
            "epoch: 0222 c=13.1444 w=3.5855 b=4.5638 \n",
            "epoch: 0223 c=13.1256 w=3.5831 b=4.5773 \n",
            "epoch: 0224 c=13.1068 w=3.5806 b=4.5908 \n",
            "epoch: 0225 c=13.0880 w=3.5782 b=4.6043 \n",
            "epoch: 0226 c=13.0693 w=3.5758 b=4.6178 \n",
            "epoch: 0227 c=13.0506 w=3.5734 b=4.6312 \n",
            "epoch: 0228 c=13.0320 w=3.5710 b=4.6447 \n",
            "epoch: 0229 c=13.0133 w=3.5686 b=4.6581 \n",
            "epoch: 0230 c=12.9947 w=3.5662 b=4.6716 \n",
            "epoch: 0231 c=12.9762 w=3.5638 b=4.6850 \n",
            "epoch: 0232 c=12.9577 w=3.5614 b=4.6984 \n",
            "epoch: 0233 c=12.9392 w=3.5590 b=4.7118 \n",
            "epoch: 0234 c=12.9207 w=3.5566 b=4.7251 \n",
            "epoch: 0235 c=12.9023 w=3.5542 b=4.7385 \n",
            "epoch: 0236 c=12.8839 w=3.5518 b=4.7518 \n",
            "epoch: 0237 c=12.8656 w=3.5494 b=4.7652 \n",
            "epoch: 0238 c=12.8472 w=3.5470 b=4.7785 \n",
            "epoch: 0239 c=12.8289 w=3.5446 b=4.7918 \n",
            "epoch: 0240 c=12.8107 w=3.5422 b=4.8051 \n",
            "epoch: 0241 c=12.7925 w=3.5398 b=4.8184 \n",
            "epoch: 0242 c=12.7743 w=3.5375 b=4.8317 \n",
            "epoch: 0243 c=12.7561 w=3.5351 b=4.8449 \n",
            "epoch: 0244 c=12.7380 w=3.5327 b=4.8582 \n",
            "epoch: 0245 c=12.7199 w=3.5303 b=4.8714 \n",
            "epoch: 0246 c=12.7018 w=3.5279 b=4.8847 \n",
            "epoch: 0247 c=12.6838 w=3.5256 b=4.8979 \n",
            "epoch: 0248 c=12.6658 w=3.5232 b=4.9111 \n",
            "epoch: 0249 c=12.6478 w=3.5208 b=4.9243 \n",
            "epoch: 0250 c=12.6299 w=3.5185 b=4.9375 \n",
            "epoch: 0251 c=12.6120 w=3.5161 b=4.9507 \n",
            "epoch: 0252 c=12.5941 w=3.5138 b=4.9638 \n",
            "epoch: 0253 c=12.5763 w=3.5114 b=4.9770 \n",
            "epoch: 0254 c=12.5585 w=3.5090 b=4.9901 \n",
            "epoch: 0255 c=12.5407 w=3.5067 b=5.0032 \n",
            "epoch: 0256 c=12.5229 w=3.5043 b=5.0163 \n",
            "epoch: 0257 c=12.5052 w=3.5020 b=5.0294 \n",
            "epoch: 0258 c=12.4876 w=3.4996 b=5.0425 \n",
            "epoch: 0259 c=12.4699 w=3.4973 b=5.0556 \n",
            "epoch: 0260 c=12.4523 w=3.4950 b=5.0687 \n",
            "epoch: 0261 c=12.4347 w=3.4926 b=5.0817 \n",
            "epoch: 0262 c=12.4172 w=3.4903 b=5.0948 \n",
            "epoch: 0263 c=12.3997 w=3.4879 b=5.1078 \n",
            "epoch: 0264 c=12.3822 w=3.4856 b=5.1208 \n",
            "epoch: 0265 c=12.3647 w=3.4833 b=5.1338 \n",
            "epoch: 0266 c=12.3473 w=3.4809 b=5.1468 \n",
            "epoch: 0267 c=12.3299 w=3.4786 b=5.1598 \n",
            "epoch: 0268 c=12.3126 w=3.4763 b=5.1728 \n",
            "epoch: 0269 c=12.2952 w=3.4740 b=5.1857 \n",
            "epoch: 0270 c=12.2779 w=3.4716 b=5.1987 \n",
            "epoch: 0271 c=12.2607 w=3.4693 b=5.2116 \n",
            "epoch: 0272 c=12.2434 w=3.4670 b=5.2245 \n",
            "epoch: 0273 c=12.2262 w=3.4647 b=5.2374 \n",
            "epoch: 0274 c=12.2090 w=3.4624 b=5.2503 \n",
            "epoch: 0275 c=12.1919 w=3.4601 b=5.2632 \n",
            "epoch: 0276 c=12.1748 w=3.4578 b=5.2761 \n",
            "epoch: 0277 c=12.1577 w=3.4555 b=5.2890 \n",
            "epoch: 0278 c=12.1407 w=3.4531 b=5.3018 \n",
            "epoch: 0279 c=12.1236 w=3.4508 b=5.3147 \n",
            "epoch: 0280 c=12.1067 w=3.4485 b=5.3275 \n",
            "epoch: 0281 c=12.0897 w=3.4462 b=5.3403 \n",
            "epoch: 0282 c=12.0728 w=3.4439 b=5.3531 \n",
            "epoch: 0283 c=12.0559 w=3.4417 b=5.3659 \n",
            "epoch: 0284 c=12.0390 w=3.4394 b=5.3787 \n",
            "epoch: 0285 c=12.0222 w=3.4371 b=5.3915 \n",
            "epoch: 0286 c=12.0054 w=3.4348 b=5.4042 \n",
            "epoch: 0287 c=11.9886 w=3.4325 b=5.4170 \n",
            "epoch: 0288 c=11.9719 w=3.4302 b=5.4297 \n",
            "epoch: 0289 c=11.9552 w=3.4279 b=5.4425 \n",
            "epoch: 0290 c=11.9385 w=3.4256 b=5.4552 \n",
            "epoch: 0291 c=11.9218 w=3.4234 b=5.4679 \n",
            "epoch: 0292 c=11.9052 w=3.4211 b=5.4806 \n",
            "epoch: 0293 c=11.8886 w=3.4188 b=5.4933 \n",
            "epoch: 0294 c=11.8720 w=3.4165 b=5.5059 \n",
            "epoch: 0295 c=11.8555 w=3.4143 b=5.5186 \n",
            "epoch: 0296 c=11.8390 w=3.4120 b=5.5312 \n",
            "epoch: 0297 c=11.8225 w=3.4097 b=5.5439 \n",
            "epoch: 0298 c=11.8061 w=3.4075 b=5.5565 \n",
            "epoch: 0299 c=11.7897 w=3.4052 b=5.5691 \n",
            "epoch: 0300 c=11.7733 w=3.4030 b=5.5817 \n",
            "epoch: 0301 c=11.7569 w=3.4007 b=5.5943 \n",
            "epoch: 0302 c=11.7406 w=3.3984 b=5.6069 \n",
            "epoch: 0303 c=11.7243 w=3.3962 b=5.6195 \n",
            "epoch: 0304 c=11.7080 w=3.3939 b=5.6320 \n",
            "epoch: 0305 c=11.6917 w=3.3917 b=5.6446 \n",
            "epoch: 0306 c=11.6755 w=3.3894 b=5.6571 \n",
            "epoch: 0307 c=11.6593 w=3.3872 b=5.6696 \n",
            "epoch: 0308 c=11.6432 w=3.3849 b=5.6821 \n",
            "epoch: 0309 c=11.6271 w=3.3827 b=5.6946 \n",
            "epoch: 0310 c=11.6110 w=3.3805 b=5.7071 \n",
            "epoch: 0311 c=11.5949 w=3.3782 b=5.7196 \n",
            "epoch: 0312 c=11.5789 w=3.3760 b=5.7321 \n",
            "epoch: 0313 c=11.5629 w=3.3738 b=5.7445 \n",
            "epoch: 0314 c=11.5469 w=3.3715 b=5.7570 \n",
            "epoch: 0315 c=11.5309 w=3.3693 b=5.7694 \n",
            "epoch: 0316 c=11.5150 w=3.3671 b=5.7818 \n",
            "epoch: 0317 c=11.4991 w=3.3648 b=5.7943 \n",
            "epoch: 0318 c=11.4833 w=3.3626 b=5.8066 \n",
            "epoch: 0319 c=11.4674 w=3.3604 b=5.8190 \n",
            "epoch: 0320 c=11.4516 w=3.3582 b=5.8314 \n",
            "epoch: 0321 c=11.4358 w=3.3560 b=5.8438 \n",
            "epoch: 0322 c=11.4201 w=3.3537 b=5.8561 \n",
            "epoch: 0323 c=11.4044 w=3.3515 b=5.8685 \n",
            "epoch: 0324 c=11.3887 w=3.3493 b=5.8808 \n",
            "epoch: 0325 c=11.3730 w=3.3471 b=5.8931 \n",
            "epoch: 0326 c=11.3574 w=3.3449 b=5.9054 \n",
            "epoch: 0327 c=11.3418 w=3.3427 b=5.9177 \n",
            "epoch: 0328 c=11.3262 w=3.3405 b=5.9300 \n",
            "epoch: 0329 c=11.3106 w=3.3383 b=5.9423 \n",
            "epoch: 0330 c=11.2951 w=3.3361 b=5.9546 \n",
            "epoch: 0331 c=11.2796 w=3.3339 b=5.9668 \n",
            "epoch: 0332 c=11.2642 w=3.3317 b=5.9791 \n",
            "epoch: 0333 c=11.2487 w=3.3295 b=5.9913 \n",
            "epoch: 0334 c=11.2333 w=3.3273 b=6.0035 \n",
            "epoch: 0335 c=11.2180 w=3.3251 b=6.0157 \n",
            "epoch: 0336 c=11.2026 w=3.3229 b=6.0279 \n",
            "epoch: 0337 c=11.1873 w=3.3207 b=6.0401 \n",
            "epoch: 0338 c=11.1720 w=3.3186 b=6.0523 \n",
            "epoch: 0339 c=11.1567 w=3.3164 b=6.0644 \n",
            "epoch: 0340 c=11.1414 w=3.3142 b=6.0766 \n",
            "epoch: 0341 c=11.1262 w=3.3120 b=6.0887 \n",
            "epoch: 0342 c=11.1110 w=3.3098 b=6.1009 \n",
            "epoch: 0343 c=11.0959 w=3.3077 b=6.1130 \n",
            "epoch: 0344 c=11.0808 w=3.3055 b=6.1251 \n",
            "epoch: 0345 c=11.0656 w=3.3033 b=6.1372 \n",
            "epoch: 0346 c=11.0506 w=3.3012 b=6.1493 \n",
            "epoch: 0347 c=11.0355 w=3.2990 b=6.1614 \n",
            "epoch: 0348 c=11.0205 w=3.2968 b=6.1734 \n",
            "epoch: 0349 c=11.0055 w=3.2947 b=6.1855 \n",
            "epoch: 0350 c=10.9905 w=3.2925 b=6.1975 \n",
            "epoch: 0351 c=10.9756 w=3.2904 b=6.2096 \n",
            "epoch: 0352 c=10.9606 w=3.2882 b=6.2216 \n",
            "epoch: 0353 c=10.9458 w=3.2861 b=6.2336 \n",
            "epoch: 0354 c=10.9309 w=3.2839 b=6.2456 \n",
            "epoch: 0355 c=10.9161 w=3.2817 b=6.2576 \n",
            "epoch: 0356 c=10.9012 w=3.2796 b=6.2696 \n",
            "epoch: 0357 c=10.8865 w=3.2775 b=6.2816 \n",
            "epoch: 0358 c=10.8717 w=3.2753 b=6.2935 \n",
            "epoch: 0359 c=10.8570 w=3.2732 b=6.3055 \n",
            "epoch: 0360 c=10.8423 w=3.2710 b=6.3174 \n",
            "epoch: 0361 c=10.8276 w=3.2689 b=6.3293 \n",
            "epoch: 0362 c=10.8129 w=3.2667 b=6.3413 \n",
            "epoch: 0363 c=10.7983 w=3.2646 b=6.3532 \n",
            "epoch: 0364 c=10.7837 w=3.2625 b=6.3651 \n",
            "epoch: 0365 c=10.7691 w=3.2603 b=6.3769 \n",
            "epoch: 0366 c=10.7546 w=3.2582 b=6.3888 \n",
            "epoch: 0367 c=10.7401 w=3.2561 b=6.4007 \n",
            "epoch: 0368 c=10.7256 w=3.2540 b=6.4125 \n",
            "epoch: 0369 c=10.7111 w=3.2518 b=6.4244 \n",
            "epoch: 0370 c=10.6967 w=3.2497 b=6.4362 \n",
            "epoch: 0371 c=10.6822 w=3.2476 b=6.4480 \n",
            "epoch: 0372 c=10.6679 w=3.2455 b=6.4598 \n",
            "epoch: 0373 c=10.6535 w=3.2434 b=6.4716 \n",
            "epoch: 0374 c=10.6391 w=3.2412 b=6.4834 \n",
            "epoch: 0375 c=10.6248 w=3.2391 b=6.4952 \n",
            "epoch: 0376 c=10.6105 w=3.2370 b=6.5070 \n",
            "epoch: 0377 c=10.5963 w=3.2349 b=6.5187 \n",
            "epoch: 0378 c=10.5820 w=3.2328 b=6.5305 \n",
            "epoch: 0379 c=10.5678 w=3.2307 b=6.5422 \n",
            "epoch: 0380 c=10.5536 w=3.2286 b=6.5539 \n",
            "epoch: 0381 c=10.5395 w=3.2265 b=6.5657 \n",
            "epoch: 0382 c=10.5254 w=3.2244 b=6.5774 \n",
            "epoch: 0383 c=10.5113 w=3.2223 b=6.5890 \n",
            "epoch: 0384 c=10.4972 w=3.2202 b=6.6007 \n",
            "epoch: 0385 c=10.4831 w=3.2181 b=6.6124 \n",
            "epoch: 0386 c=10.4691 w=3.2160 b=6.6241 \n",
            "epoch: 0387 c=10.4551 w=3.2139 b=6.6357 \n",
            "epoch: 0388 c=10.4411 w=3.2119 b=6.6473 \n",
            "epoch: 0389 c=10.4272 w=3.2098 b=6.6590 \n",
            "epoch: 0390 c=10.4132 w=3.2077 b=6.6706 \n",
            "epoch: 0391 c=10.3993 w=3.2056 b=6.6822 \n",
            "epoch: 0392 c=10.3854 w=3.2035 b=6.6938 \n",
            "epoch: 0393 c=10.3716 w=3.2014 b=6.7054 \n",
            "epoch: 0394 c=10.3577 w=3.1994 b=6.7170 \n",
            "epoch: 0395 c=10.3439 w=3.1973 b=6.7285 \n",
            "epoch: 0396 c=10.3302 w=3.1952 b=6.7401 \n",
            "epoch: 0397 c=10.3164 w=3.1932 b=6.7516 \n",
            "epoch: 0398 c=10.3027 w=3.1911 b=6.7632 \n",
            "epoch: 0399 c=10.2890 w=3.1890 b=6.7747 \n",
            "epoch: 0400 c=10.2753 w=3.1870 b=6.7862 \n",
            "epoch: 0401 c=10.2616 w=3.1849 b=6.7977 \n",
            "epoch: 0402 c=10.2480 w=3.1828 b=6.8092 \n",
            "epoch: 0403 c=10.2344 w=3.1808 b=6.8207 \n",
            "epoch: 0404 c=10.2208 w=3.1787 b=6.8322 \n",
            "epoch: 0405 c=10.2072 w=3.1767 b=6.8436 \n",
            "epoch: 0406 c=10.1937 w=3.1746 b=6.8551 \n",
            "epoch: 0407 c=10.1802 w=3.1725 b=6.8665 \n",
            "epoch: 0408 c=10.1667 w=3.1705 b=6.8780 \n",
            "epoch: 0409 c=10.1533 w=3.1684 b=6.8894 \n",
            "epoch: 0410 c=10.1398 w=3.1664 b=6.9008 \n",
            "epoch: 0411 c=10.1264 w=3.1644 b=6.9122 \n",
            "epoch: 0412 c=10.1130 w=3.1623 b=6.9236 \n",
            "epoch: 0413 c=10.0997 w=3.1603 b=6.9350 \n",
            "epoch: 0414 c=10.0863 w=3.1582 b=6.9463 \n",
            "epoch: 0415 c=10.0730 w=3.1562 b=6.9577 \n",
            "epoch: 0416 c=10.0597 w=3.1542 b=6.9690 \n",
            "epoch: 0417 c=10.0465 w=3.1521 b=6.9804 \n",
            "epoch: 0418 c=10.0332 w=3.1501 b=6.9917 \n",
            "epoch: 0419 c=10.0200 w=3.1481 b=7.0030 \n",
            "epoch: 0420 c=10.0068 w=3.1460 b=7.0143 \n",
            "epoch: 0421 c=9.9936 w=3.1440 b=7.0256 \n",
            "epoch: 0422 c=9.9805 w=3.1420 b=7.0369 \n",
            "epoch: 0423 c=9.9674 w=3.1400 b=7.0482 \n",
            "epoch: 0424 c=9.9543 w=3.1379 b=7.0595 \n",
            "epoch: 0425 c=9.9412 w=3.1359 b=7.0707 \n",
            "epoch: 0426 c=9.9281 w=3.1339 b=7.0820 \n",
            "epoch: 0427 c=9.9151 w=3.1319 b=7.0932 \n",
            "epoch: 0428 c=9.9021 w=3.1299 b=7.1045 \n",
            "epoch: 0429 c=9.8891 w=3.1279 b=7.1157 \n",
            "epoch: 0430 c=9.8761 w=3.1259 b=7.1269 \n",
            "epoch: 0431 c=9.8632 w=3.1238 b=7.1381 \n",
            "epoch: 0432 c=9.8503 w=3.1218 b=7.1493 \n",
            "epoch: 0433 c=9.8374 w=3.1198 b=7.1604 \n",
            "epoch: 0434 c=9.8245 w=3.1178 b=7.1716 \n",
            "epoch: 0435 c=9.8117 w=3.1158 b=7.1828 \n",
            "epoch: 0436 c=9.7989 w=3.1138 b=7.1939 \n",
            "epoch: 0437 c=9.7861 w=3.1118 b=7.2050 \n",
            "epoch: 0438 c=9.7733 w=3.1098 b=7.2162 \n",
            "epoch: 0439 c=9.7606 w=3.1079 b=7.2273 \n",
            "epoch: 0440 c=9.7478 w=3.1059 b=7.2384 \n",
            "epoch: 0441 c=9.7351 w=3.1039 b=7.2495 \n",
            "epoch: 0442 c=9.7224 w=3.1019 b=7.2606 \n",
            "epoch: 0443 c=9.7098 w=3.0999 b=7.2716 \n",
            "epoch: 0444 c=9.6971 w=3.0979 b=7.2827 \n",
            "epoch: 0445 c=9.6845 w=3.0959 b=7.2938 \n",
            "epoch: 0446 c=9.6719 w=3.0939 b=7.3048 \n",
            "epoch: 0447 c=9.6594 w=3.0920 b=7.3158 \n",
            "epoch: 0448 c=9.6468 w=3.0900 b=7.3269 \n",
            "epoch: 0449 c=9.6343 w=3.0880 b=7.3379 \n",
            "epoch: 0450 c=9.6218 w=3.0860 b=7.3489 \n",
            "epoch: 0451 c=9.6093 w=3.0841 b=7.3599 \n",
            "epoch: 0452 c=9.5969 w=3.0821 b=7.3709 \n",
            "epoch: 0453 c=9.5844 w=3.0801 b=7.3818 \n",
            "epoch: 0454 c=9.5720 w=3.0782 b=7.3928 \n",
            "epoch: 0455 c=9.5597 w=3.0762 b=7.4038 \n",
            "epoch: 0456 c=9.5473 w=3.0742 b=7.4147 \n",
            "epoch: 0457 c=9.5350 w=3.0723 b=7.4256 \n",
            "epoch: 0458 c=9.5226 w=3.0703 b=7.4366 \n",
            "epoch: 0459 c=9.5103 w=3.0684 b=7.4475 \n",
            "epoch: 0460 c=9.4981 w=3.0664 b=7.4584 \n",
            "epoch: 0461 c=9.4858 w=3.0645 b=7.4693 \n",
            "epoch: 0462 c=9.4736 w=3.0625 b=7.4802 \n",
            "epoch: 0463 c=9.4614 w=3.0605 b=7.4910 \n",
            "epoch: 0464 c=9.4492 w=3.0586 b=7.5019 \n",
            "epoch: 0465 c=9.4370 w=3.0567 b=7.5128 \n",
            "epoch: 0466 c=9.4249 w=3.0547 b=7.5236 \n",
            "epoch: 0467 c=9.4127 w=3.0528 b=7.5345 \n",
            "epoch: 0468 c=9.4006 w=3.0508 b=7.5453 \n",
            "epoch: 0469 c=9.3886 w=3.0489 b=7.5561 \n",
            "epoch: 0470 c=9.3765 w=3.0469 b=7.5669 \n",
            "epoch: 0471 c=9.3645 w=3.0450 b=7.5777 \n",
            "epoch: 0472 c=9.3525 w=3.0431 b=7.5885 \n",
            "epoch: 0473 c=9.3405 w=3.0411 b=7.5993 \n",
            "epoch: 0474 c=9.3285 w=3.0392 b=7.6101 \n",
            "epoch: 0475 c=9.3165 w=3.0373 b=7.6208 \n",
            "epoch: 0476 c=9.3046 w=3.0354 b=7.6316 \n",
            "epoch: 0477 c=9.2927 w=3.0334 b=7.6423 \n",
            "epoch: 0478 c=9.2808 w=3.0315 b=7.6531 \n",
            "epoch: 0479 c=9.2690 w=3.0296 b=7.6638 \n",
            "epoch: 0480 c=9.2571 w=3.0277 b=7.6745 \n",
            "epoch: 0481 c=9.2453 w=3.0257 b=7.6852 \n",
            "epoch: 0482 c=9.2335 w=3.0238 b=7.6959 \n",
            "epoch: 0483 c=9.2217 w=3.0219 b=7.7066 \n",
            "epoch: 0484 c=9.2100 w=3.0200 b=7.7172 \n",
            "epoch: 0485 c=9.1983 w=3.0181 b=7.7279 \n",
            "epoch: 0486 c=9.1865 w=3.0162 b=7.7385 \n",
            "epoch: 0487 c=9.1749 w=3.0143 b=7.7492 \n",
            "epoch: 0488 c=9.1632 w=3.0123 b=7.7598 \n",
            "epoch: 0489 c=9.1515 w=3.0104 b=7.7705 \n",
            "epoch: 0490 c=9.1399 w=3.0085 b=7.7811 \n",
            "epoch: 0491 c=9.1283 w=3.0066 b=7.7917 \n",
            "epoch: 0492 c=9.1167 w=3.0047 b=7.8023 \n",
            "epoch: 0493 c=9.1051 w=3.0028 b=7.8129 \n",
            "epoch: 0494 c=9.0936 w=3.0009 b=7.8234 \n",
            "epoch: 0495 c=9.0821 w=2.9990 b=7.8340 \n",
            "epoch: 0496 c=9.0706 w=2.9972 b=7.8446 \n",
            "epoch: 0497 c=9.0591 w=2.9953 b=7.8551 \n",
            "epoch: 0498 c=9.0476 w=2.9934 b=7.8657 \n",
            "epoch: 0499 c=9.0362 w=2.9915 b=7.8762 \n",
            "epoch: 0500 c=9.0247 w=2.9896 b=7.8867 \n",
            "epoch: 0501 c=9.0133 w=2.9877 b=7.8972 \n",
            "epoch: 0502 c=9.0020 w=2.9858 b=7.9077 \n",
            "epoch: 0503 c=8.9906 w=2.9839 b=7.9182 \n",
            "epoch: 0504 c=8.9793 w=2.9821 b=7.9287 \n",
            "epoch: 0505 c=8.9679 w=2.9802 b=7.9392 \n",
            "epoch: 0506 c=8.9567 w=2.9783 b=7.9496 \n",
            "epoch: 0507 c=8.9454 w=2.9764 b=7.9601 \n",
            "epoch: 0508 c=8.9341 w=2.9746 b=7.9705 \n",
            "epoch: 0509 c=8.9229 w=2.9727 b=7.9810 \n",
            "epoch: 0510 c=8.9117 w=2.9708 b=7.9914 \n",
            "epoch: 0511 c=8.9005 w=2.9690 b=8.0018 \n",
            "epoch: 0512 c=8.8893 w=2.9671 b=8.0122 \n",
            "epoch: 0513 c=8.8781 w=2.9652 b=8.0226 \n",
            "epoch: 0514 c=8.8670 w=2.9634 b=8.0330 \n",
            "epoch: 0515 c=8.8559 w=2.9615 b=8.0434 \n",
            "epoch: 0516 c=8.8448 w=2.9596 b=8.0538 \n",
            "epoch: 0517 c=8.8337 w=2.9578 b=8.0641 \n",
            "epoch: 0518 c=8.8227 w=2.9559 b=8.0744 \n",
            "epoch: 0519 c=8.8116 w=2.9541 b=8.0848 \n",
            "epoch: 0520 c=8.8006 w=2.9522 b=8.0951 \n",
            "epoch: 0521 c=8.7896 w=2.9504 b=8.1054 \n",
            "epoch: 0522 c=8.7787 w=2.9485 b=8.1157 \n",
            "epoch: 0523 c=8.7677 w=2.9467 b=8.1260 \n",
            "epoch: 0524 c=8.7568 w=2.9448 b=8.1363 \n",
            "epoch: 0525 c=8.7458 w=2.9430 b=8.1466 \n",
            "epoch: 0526 c=8.7350 w=2.9411 b=8.1569 \n",
            "epoch: 0527 c=8.7241 w=2.9393 b=8.1672 \n",
            "epoch: 0528 c=8.7132 w=2.9375 b=8.1774 \n",
            "epoch: 0529 c=8.7024 w=2.9356 b=8.1877 \n",
            "epoch: 0530 c=8.6915 w=2.9338 b=8.1979 \n",
            "epoch: 0531 c=8.6807 w=2.9320 b=8.2082 \n",
            "epoch: 0532 c=8.6700 w=2.9301 b=8.2184 \n",
            "epoch: 0533 c=8.6592 w=2.9283 b=8.2286 \n",
            "epoch: 0534 c=8.6484 w=2.9265 b=8.2388 \n",
            "epoch: 0535 c=8.6377 w=2.9246 b=8.2490 \n",
            "epoch: 0536 c=8.6270 w=2.9228 b=8.2592 \n",
            "epoch: 0537 c=8.6163 w=2.9210 b=8.2694 \n",
            "epoch: 0538 c=8.6056 w=2.9192 b=8.2796 \n",
            "epoch: 0539 c=8.5950 w=2.9173 b=8.2897 \n",
            "epoch: 0540 c=8.5843 w=2.9155 b=8.2999 \n",
            "epoch: 0541 c=8.5737 w=2.9137 b=8.3100 \n",
            "epoch: 0542 c=8.5632 w=2.9119 b=8.3201 \n",
            "epoch: 0543 c=8.5526 w=2.9101 b=8.3303 \n",
            "epoch: 0544 c=8.5421 w=2.9082 b=8.3404 \n",
            "epoch: 0545 c=8.5315 w=2.9064 b=8.3505 \n",
            "epoch: 0546 c=8.5210 w=2.9046 b=8.3606 \n",
            "epoch: 0547 c=8.5105 w=2.9028 b=8.3706 \n",
            "epoch: 0548 c=8.5000 w=2.9010 b=8.3807 \n",
            "epoch: 0549 c=8.4896 w=2.8992 b=8.3908 \n",
            "epoch: 0550 c=8.4791 w=2.8974 b=8.4009 \n",
            "epoch: 0551 c=8.4687 w=2.8956 b=8.4109 \n",
            "epoch: 0552 c=8.4583 w=2.8938 b=8.4210 \n",
            "epoch: 0553 c=8.4479 w=2.8920 b=8.4310 \n",
            "epoch: 0554 c=8.4375 w=2.8902 b=8.4410 \n",
            "epoch: 0555 c=8.4272 w=2.8884 b=8.4510 \n",
            "epoch: 0556 c=8.4169 w=2.8866 b=8.4610 \n",
            "epoch: 0557 c=8.4066 w=2.8848 b=8.4710 \n",
            "epoch: 0558 c=8.3963 w=2.8830 b=8.4810 \n",
            "epoch: 0559 c=8.3860 w=2.8812 b=8.4910 \n",
            "epoch: 0560 c=8.3757 w=2.8794 b=8.5010 \n",
            "epoch: 0561 c=8.3655 w=2.8777 b=8.5109 \n",
            "epoch: 0562 c=8.3553 w=2.8759 b=8.5209 \n",
            "epoch: 0563 c=8.3451 w=2.8741 b=8.5308 \n",
            "epoch: 0564 c=8.3349 w=2.8723 b=8.5408 \n",
            "epoch: 0565 c=8.3248 w=2.8705 b=8.5507 \n",
            "epoch: 0566 c=8.3146 w=2.8688 b=8.5606 \n",
            "epoch: 0567 c=8.3045 w=2.8670 b=8.5705 \n",
            "epoch: 0568 c=8.2944 w=2.8652 b=8.5804 \n",
            "epoch: 0569 c=8.2843 w=2.8634 b=8.5903 \n",
            "epoch: 0570 c=8.2743 w=2.8617 b=8.6001 \n",
            "epoch: 0571 c=8.2642 w=2.8599 b=8.6100 \n",
            "epoch: 0572 c=8.2542 w=2.8581 b=8.6199 \n",
            "epoch: 0573 c=8.2442 w=2.8564 b=8.6297 \n",
            "epoch: 0574 c=8.2342 w=2.8546 b=8.6395 \n",
            "epoch: 0575 c=8.2242 w=2.8528 b=8.6494 \n",
            "epoch: 0576 c=8.2143 w=2.8511 b=8.6592 \n",
            "epoch: 0577 c=8.2043 w=2.8493 b=8.6690 \n",
            "epoch: 0578 c=8.1944 w=2.8475 b=8.6788 \n",
            "epoch: 0579 c=8.1845 w=2.8458 b=8.6886 \n",
            "epoch: 0580 c=8.1746 w=2.8440 b=8.6984 \n",
            "epoch: 0581 c=8.1648 w=2.8423 b=8.7082 \n",
            "epoch: 0582 c=8.1549 w=2.8405 b=8.7179 \n",
            "epoch: 0583 c=8.1451 w=2.8388 b=8.7277 \n",
            "epoch: 0584 c=8.1353 w=2.8370 b=8.7375 \n",
            "epoch: 0585 c=8.1255 w=2.8353 b=8.7472 \n",
            "epoch: 0586 c=8.1157 w=2.8335 b=8.7569 \n",
            "epoch: 0587 c=8.1059 w=2.8318 b=8.7667 \n",
            "epoch: 0588 c=8.0962 w=2.8301 b=8.7764 \n",
            "epoch: 0589 c=8.0864 w=2.8283 b=8.7861 \n",
            "epoch: 0590 c=8.0767 w=2.8266 b=8.7958 \n",
            "epoch: 0591 c=8.0670 w=2.8248 b=8.8055 \n",
            "epoch: 0592 c=8.0573 w=2.8231 b=8.8152 \n",
            "epoch: 0593 c=8.0477 w=2.8214 b=8.8249 \n",
            "epoch: 0594 c=8.0380 w=2.8196 b=8.8346 \n",
            "epoch: 0595 c=8.0284 w=2.8179 b=8.8442 \n",
            "epoch: 0596 c=8.0188 w=2.8162 b=8.8539 \n",
            "epoch: 0597 c=8.0092 w=2.8144 b=8.8635 \n",
            "epoch: 0598 c=7.9996 w=2.8127 b=8.8731 \n",
            "epoch: 0599 c=7.9901 w=2.8110 b=8.8827 \n",
            "epoch: 0600 c=7.9806 w=2.8093 b=8.8924 \n",
            "epoch: 0601 c=7.9710 w=2.8075 b=8.9020 \n",
            "epoch: 0602 c=7.9615 w=2.8058 b=8.9116 \n",
            "epoch: 0603 c=7.9521 w=2.8041 b=8.9211 \n",
            "epoch: 0604 c=7.9426 w=2.8024 b=8.9307 \n",
            "epoch: 0605 c=7.9332 w=2.8007 b=8.9403 \n",
            "epoch: 0606 c=7.9237 w=2.7989 b=8.9498 \n",
            "epoch: 0607 c=7.9143 w=2.7972 b=8.9594 \n",
            "epoch: 0608 c=7.9049 w=2.7955 b=8.9689 \n",
            "epoch: 0609 c=7.8955 w=2.7938 b=8.9785 \n",
            "epoch: 0610 c=7.8862 w=2.7921 b=8.9880 \n",
            "epoch: 0611 c=7.8768 w=2.7904 b=8.9975 \n",
            "epoch: 0612 c=7.8675 w=2.7887 b=9.0070 \n",
            "epoch: 0613 c=7.8582 w=2.7870 b=9.0165 \n",
            "epoch: 0614 c=7.8489 w=2.7853 b=9.0260 \n",
            "epoch: 0615 c=7.8396 w=2.7836 b=9.0355 \n",
            "epoch: 0616 c=7.8303 w=2.7819 b=9.0450 \n",
            "epoch: 0617 c=7.8211 w=2.7802 b=9.0544 \n",
            "epoch: 0618 c=7.8118 w=2.7785 b=9.0639 \n",
            "epoch: 0619 c=7.8026 w=2.7768 b=9.0733 \n",
            "epoch: 0620 c=7.7934 w=2.7751 b=9.0828 \n",
            "epoch: 0621 c=7.7843 w=2.7734 b=9.0922 \n",
            "epoch: 0622 c=7.7751 w=2.7717 b=9.1016 \n",
            "epoch: 0623 c=7.7660 w=2.7700 b=9.1111 \n",
            "epoch: 0624 c=7.7568 w=2.7683 b=9.1205 \n",
            "epoch: 0625 c=7.7477 w=2.7667 b=9.1299 \n",
            "epoch: 0626 c=7.7386 w=2.7650 b=9.1392 \n",
            "epoch: 0627 c=7.7295 w=2.7633 b=9.1486 \n",
            "epoch: 0628 c=7.7205 w=2.7616 b=9.1580 \n",
            "epoch: 0629 c=7.7114 w=2.7599 b=9.1674 \n",
            "epoch: 0630 c=7.7024 w=2.7583 b=9.1767 \n",
            "epoch: 0631 c=7.6934 w=2.7566 b=9.1861 \n",
            "epoch: 0632 c=7.6844 w=2.7549 b=9.1954 \n",
            "epoch: 0633 c=7.6754 w=2.7532 b=9.2047 \n",
            "epoch: 0634 c=7.6664 w=2.7516 b=9.2141 \n",
            "epoch: 0635 c=7.6574 w=2.7499 b=9.2234 \n",
            "epoch: 0636 c=7.6485 w=2.7482 b=9.2327 \n",
            "epoch: 0637 c=7.6396 w=2.7466 b=9.2420 \n",
            "epoch: 0638 c=7.6306 w=2.7449 b=9.2513 \n",
            "epoch: 0639 c=7.6218 w=2.7432 b=9.2606 \n",
            "epoch: 0640 c=7.6129 w=2.7416 b=9.2699 \n",
            "epoch: 0641 c=7.6040 w=2.7399 b=9.2791 \n",
            "epoch: 0642 c=7.5952 w=2.7382 b=9.2884 \n",
            "epoch: 0643 c=7.5864 w=2.7366 b=9.2977 \n",
            "epoch: 0644 c=7.5775 w=2.7349 b=9.3069 \n",
            "epoch: 0645 c=7.5688 w=2.7333 b=9.3161 \n",
            "epoch: 0646 c=7.5600 w=2.7316 b=9.3253 \n",
            "epoch: 0647 c=7.5512 w=2.7300 b=9.3346 \n",
            "epoch: 0648 c=7.5425 w=2.7283 b=9.3438 \n",
            "epoch: 0649 c=7.5337 w=2.7267 b=9.3530 \n",
            "epoch: 0650 c=7.5250 w=2.7250 b=9.3622 \n",
            "epoch: 0651 c=7.5163 w=2.7234 b=9.3713 \n",
            "epoch: 0652 c=7.5076 w=2.7217 b=9.3805 \n",
            "epoch: 0653 c=7.4990 w=2.7201 b=9.3897 \n",
            "epoch: 0654 c=7.4903 w=2.7184 b=9.3988 \n",
            "epoch: 0655 c=7.4817 w=2.7168 b=9.4080 \n",
            "epoch: 0656 c=7.4731 w=2.7151 b=9.4171 \n",
            "epoch: 0657 c=7.4645 w=2.7135 b=9.4263 \n",
            "epoch: 0658 c=7.4559 w=2.7119 b=9.4354 \n",
            "epoch: 0659 c=7.4473 w=2.7102 b=9.4445 \n",
            "epoch: 0660 c=7.4387 w=2.7086 b=9.4536 \n",
            "epoch: 0661 c=7.4302 w=2.7070 b=9.4627 \n",
            "epoch: 0662 c=7.4216 w=2.7053 b=9.4718 \n",
            "epoch: 0663 c=7.4131 w=2.7037 b=9.4809 \n",
            "epoch: 0664 c=7.4046 w=2.7021 b=9.4900 \n",
            "epoch: 0665 c=7.3962 w=2.7005 b=9.4991 \n",
            "epoch: 0666 c=7.3877 w=2.6988 b=9.5081 \n",
            "epoch: 0667 c=7.3792 w=2.6972 b=9.5171 \n",
            "epoch: 0668 c=7.3708 w=2.6956 b=9.5262 \n",
            "epoch: 0669 c=7.3624 w=2.6940 b=9.5352 \n",
            "epoch: 0670 c=7.3540 w=2.6924 b=9.5442 \n",
            "epoch: 0671 c=7.3456 w=2.6907 b=9.5532 \n",
            "epoch: 0672 c=7.3373 w=2.6891 b=9.5622 \n",
            "epoch: 0673 c=7.3289 w=2.6875 b=9.5712 \n",
            "epoch: 0674 c=7.3206 w=2.6859 b=9.5802 \n",
            "epoch: 0675 c=7.3122 w=2.6843 b=9.5892 \n",
            "epoch: 0676 c=7.3039 w=2.6827 b=9.5982 \n",
            "epoch: 0677 c=7.2956 w=2.6811 b=9.6072 \n",
            "epoch: 0678 c=7.2873 w=2.6795 b=9.6161 \n",
            "epoch: 0679 c=7.2790 w=2.6779 b=9.6251 \n",
            "epoch: 0680 c=7.2708 w=2.6762 b=9.6340 \n",
            "epoch: 0681 c=7.2625 w=2.6746 b=9.6430 \n",
            "epoch: 0682 c=7.2543 w=2.6730 b=9.6519 \n",
            "epoch: 0683 c=7.2461 w=2.6714 b=9.6608 \n",
            "epoch: 0684 c=7.2379 w=2.6698 b=9.6697 \n",
            "epoch: 0685 c=7.2297 w=2.6682 b=9.6787 \n",
            "epoch: 0686 c=7.2216 w=2.6667 b=9.6876 \n",
            "epoch: 0687 c=7.2134 w=2.6651 b=9.6964 \n",
            "epoch: 0688 c=7.2053 w=2.6635 b=9.7053 \n",
            "epoch: 0689 c=7.1971 w=2.6619 b=9.7142 \n",
            "epoch: 0690 c=7.1890 w=2.6603 b=9.7231 \n",
            "epoch: 0691 c=7.1809 w=2.6587 b=9.7319 \n",
            "epoch: 0692 c=7.1729 w=2.6571 b=9.7408 \n",
            "epoch: 0693 c=7.1648 w=2.6555 b=9.7496 \n",
            "epoch: 0694 c=7.1567 w=2.6539 b=9.7585 \n",
            "epoch: 0695 c=7.1487 w=2.6524 b=9.7673 \n",
            "epoch: 0696 c=7.1407 w=2.6508 b=9.7761 \n",
            "epoch: 0697 c=7.1327 w=2.6492 b=9.7849 \n",
            "epoch: 0698 c=7.1247 w=2.6476 b=9.7937 \n",
            "epoch: 0699 c=7.1167 w=2.6460 b=9.8025 \n",
            "epoch: 0700 c=7.1087 w=2.6445 b=9.8113 \n",
            "epoch: 0701 c=7.1008 w=2.6429 b=9.8201 \n",
            "epoch: 0702 c=7.0929 w=2.6413 b=9.8288 \n",
            "epoch: 0703 c=7.0850 w=2.6397 b=9.8376 \n",
            "epoch: 0704 c=7.0771 w=2.6382 b=9.8463 \n",
            "epoch: 0705 c=7.0692 w=2.6366 b=9.8551 \n",
            "epoch: 0706 c=7.0613 w=2.6350 b=9.8638 \n",
            "epoch: 0707 c=7.0534 w=2.6335 b=9.8725 \n",
            "epoch: 0708 c=7.0456 w=2.6319 b=9.8812 \n",
            "epoch: 0709 c=7.0378 w=2.6304 b=9.8900 \n",
            "epoch: 0710 c=7.0299 w=2.6288 b=9.8987 \n",
            "epoch: 0711 c=7.0221 w=2.6272 b=9.9073 \n",
            "epoch: 0712 c=7.0144 w=2.6257 b=9.9160 \n",
            "epoch: 0713 c=7.0066 w=2.6241 b=9.9247 \n",
            "epoch: 0714 c=6.9988 w=2.6226 b=9.9334 \n",
            "epoch: 0715 c=6.9911 w=2.6210 b=9.9421 \n",
            "epoch: 0716 c=6.9833 w=2.6195 b=9.9507 \n",
            "epoch: 0717 c=6.9756 w=2.6179 b=9.9594 \n",
            "epoch: 0718 c=6.9679 w=2.6164 b=9.9680 \n",
            "epoch: 0719 c=6.9602 w=2.6148 b=9.9767 \n",
            "epoch: 0720 c=6.9525 w=2.6133 b=9.9853 \n",
            "epoch: 0721 c=6.9449 w=2.6117 b=9.9939 \n",
            "epoch: 0722 c=6.9372 w=2.6102 b=10.0025 \n",
            "epoch: 0723 c=6.9296 w=2.6086 b=10.0111 \n",
            "epoch: 0724 c=6.9219 w=2.6071 b=10.0197 \n",
            "epoch: 0725 c=6.9143 w=2.6055 b=10.0283 \n",
            "epoch: 0726 c=6.9067 w=2.6040 b=10.0369 \n",
            "epoch: 0727 c=6.8992 w=2.6025 b=10.0454 \n",
            "epoch: 0728 c=6.8916 w=2.6009 b=10.0540 \n",
            "epoch: 0729 c=6.8840 w=2.5994 b=10.0626 \n",
            "epoch: 0730 c=6.8765 w=2.5979 b=10.0711 \n",
            "epoch: 0731 c=6.8690 w=2.5963 b=10.0797 \n",
            "epoch: 0732 c=6.8615 w=2.5948 b=10.0882 \n",
            "epoch: 0733 c=6.8540 w=2.5933 b=10.0967 \n",
            "epoch: 0734 c=6.8465 w=2.5917 b=10.1052 \n",
            "epoch: 0735 c=6.8390 w=2.5902 b=10.1137 \n",
            "epoch: 0736 c=6.8316 w=2.5887 b=10.1222 \n",
            "epoch: 0737 c=6.8241 w=2.5872 b=10.1307 \n",
            "epoch: 0738 c=6.8167 w=2.5857 b=10.1392 \n",
            "epoch: 0739 c=6.8092 w=2.5841 b=10.1477 \n",
            "epoch: 0740 c=6.8018 w=2.5826 b=10.1562 \n",
            "epoch: 0741 c=6.7944 w=2.5811 b=10.1646 \n",
            "epoch: 0742 c=6.7870 w=2.5796 b=10.1731 \n",
            "epoch: 0743 c=6.7797 w=2.5781 b=10.1816 \n",
            "epoch: 0744 c=6.7723 w=2.5765 b=10.1900 \n",
            "epoch: 0745 c=6.7650 w=2.5750 b=10.1984 \n",
            "epoch: 0746 c=6.7576 w=2.5735 b=10.2069 \n",
            "epoch: 0747 c=6.7503 w=2.5720 b=10.2153 \n",
            "epoch: 0748 c=6.7430 w=2.5705 b=10.2237 \n",
            "epoch: 0749 c=6.7357 w=2.5690 b=10.2321 \n",
            "epoch: 0750 c=6.7285 w=2.5675 b=10.2405 \n",
            "epoch: 0751 c=6.7212 w=2.5660 b=10.2489 \n",
            "epoch: 0752 c=6.7140 w=2.5645 b=10.2572 \n",
            "epoch: 0753 c=6.7068 w=2.5630 b=10.2656 \n",
            "epoch: 0754 c=6.6995 w=2.5615 b=10.2740 \n",
            "epoch: 0755 c=6.6923 w=2.5600 b=10.2823 \n",
            "epoch: 0756 c=6.6852 w=2.5585 b=10.2906 \n",
            "epoch: 0757 c=6.6780 w=2.5570 b=10.2990 \n",
            "epoch: 0758 c=6.6708 w=2.5555 b=10.3073 \n",
            "epoch: 0759 c=6.6637 w=2.5540 b=10.3156 \n",
            "epoch: 0760 c=6.6565 w=2.5525 b=10.3239 \n",
            "epoch: 0761 c=6.6494 w=2.5510 b=10.3322 \n",
            "epoch: 0762 c=6.6423 w=2.5495 b=10.3405 \n",
            "epoch: 0763 c=6.6352 w=2.5481 b=10.3488 \n",
            "epoch: 0764 c=6.6281 w=2.5466 b=10.3571 \n",
            "epoch: 0765 c=6.6210 w=2.5451 b=10.3654 \n",
            "epoch: 0766 c=6.6139 w=2.5436 b=10.3737 \n",
            "epoch: 0767 c=6.6069 w=2.5421 b=10.3820 \n",
            "epoch: 0768 c=6.5998 w=2.5406 b=10.3903 \n",
            "epoch: 0769 c=6.5928 w=2.5392 b=10.3985 \n",
            "epoch: 0770 c=6.5857 w=2.5377 b=10.4068 \n",
            "epoch: 0771 c=6.5787 w=2.5362 b=10.4150 \n",
            "epoch: 0772 c=6.5717 w=2.5347 b=10.4233 \n",
            "epoch: 0773 c=6.5647 w=2.5332 b=10.4315 \n",
            "epoch: 0774 c=6.5578 w=2.5318 b=10.4398 \n",
            "epoch: 0775 c=6.5508 w=2.5303 b=10.4480 \n",
            "epoch: 0776 c=6.5439 w=2.5288 b=10.4562 \n",
            "epoch: 0777 c=6.5369 w=2.5273 b=10.4644 \n",
            "epoch: 0778 c=6.5300 w=2.5259 b=10.4725 \n",
            "epoch: 0779 c=6.5231 w=2.5244 b=10.4807 \n",
            "epoch: 0780 c=6.5162 w=2.5229 b=10.4889 \n",
            "epoch: 0781 c=6.5094 w=2.5215 b=10.4970 \n",
            "epoch: 0782 c=6.5025 w=2.5200 b=10.5052 \n",
            "epoch: 0783 c=6.4957 w=2.5186 b=10.5133 \n",
            "epoch: 0784 c=6.4888 w=2.5171 b=10.5214 \n",
            "epoch: 0785 c=6.4820 w=2.5156 b=10.5296 \n",
            "epoch: 0786 c=6.4752 w=2.5142 b=10.5377 \n",
            "epoch: 0787 c=6.4684 w=2.5127 b=10.5458 \n",
            "epoch: 0788 c=6.4616 w=2.5113 b=10.5539 \n",
            "epoch: 0789 c=6.4548 w=2.5098 b=10.5620 \n",
            "epoch: 0790 c=6.4480 w=2.5084 b=10.5701 \n",
            "epoch: 0791 c=6.4413 w=2.5069 b=10.5782 \n",
            "epoch: 0792 c=6.4345 w=2.5055 b=10.5863 \n",
            "epoch: 0793 c=6.4278 w=2.5040 b=10.5944 \n",
            "epoch: 0794 c=6.4211 w=2.5026 b=10.6025 \n",
            "epoch: 0795 c=6.4144 w=2.5011 b=10.6105 \n",
            "epoch: 0796 c=6.4077 w=2.4997 b=10.6186 \n",
            "epoch: 0797 c=6.4010 w=2.4982 b=10.6267 \n",
            "epoch: 0798 c=6.3943 w=2.4968 b=10.6347 \n",
            "epoch: 0799 c=6.3876 w=2.4954 b=10.6427 \n",
            "epoch: 0800 c=6.3810 w=2.4939 b=10.6508 \n",
            "epoch: 0801 c=6.3744 w=2.4925 b=10.6588 \n",
            "epoch: 0802 c=6.3678 w=2.4910 b=10.6668 \n",
            "epoch: 0803 c=6.3612 w=2.4896 b=10.6748 \n",
            "epoch: 0804 c=6.3546 w=2.4882 b=10.6828 \n",
            "epoch: 0805 c=6.3480 w=2.4867 b=10.6908 \n",
            "epoch: 0806 c=6.3414 w=2.4853 b=10.6987 \n",
            "epoch: 0807 c=6.3348 w=2.4839 b=10.7067 \n",
            "epoch: 0808 c=6.3283 w=2.4825 b=10.7147 \n",
            "epoch: 0809 c=6.3218 w=2.4810 b=10.7226 \n",
            "epoch: 0810 c=6.3152 w=2.4796 b=10.7306 \n",
            "epoch: 0811 c=6.3087 w=2.4782 b=10.7385 \n",
            "epoch: 0812 c=6.3022 w=2.4768 b=10.7464 \n",
            "epoch: 0813 c=6.2958 w=2.4753 b=10.7543 \n",
            "epoch: 0814 c=6.2893 w=2.4739 b=10.7623 \n",
            "epoch: 0815 c=6.2828 w=2.4725 b=10.7702 \n",
            "epoch: 0816 c=6.2764 w=2.4711 b=10.7781 \n",
            "epoch: 0817 c=6.2699 w=2.4697 b=10.7860 \n",
            "epoch: 0818 c=6.2635 w=2.4682 b=10.7939 \n",
            "epoch: 0819 c=6.2571 w=2.4668 b=10.8018 \n",
            "epoch: 0820 c=6.2506 w=2.4654 b=10.8097 \n",
            "epoch: 0821 c=6.2442 w=2.4640 b=10.8176 \n",
            "epoch: 0822 c=6.2378 w=2.4626 b=10.8254 \n",
            "epoch: 0823 c=6.2315 w=2.4612 b=10.8333 \n",
            "epoch: 0824 c=6.2251 w=2.4598 b=10.8411 \n",
            "epoch: 0825 c=6.2187 w=2.4584 b=10.8490 \n",
            "epoch: 0826 c=6.2124 w=2.4570 b=10.8568 \n",
            "epoch: 0827 c=6.2061 w=2.4556 b=10.8647 \n",
            "epoch: 0828 c=6.1998 w=2.4542 b=10.8725 \n",
            "epoch: 0829 c=6.1935 w=2.4528 b=10.8803 \n",
            "epoch: 0830 c=6.1872 w=2.4514 b=10.8881 \n",
            "epoch: 0831 c=6.1809 w=2.4500 b=10.8959 \n",
            "epoch: 0832 c=6.1746 w=2.4486 b=10.9037 \n",
            "epoch: 0833 c=6.1683 w=2.4472 b=10.9115 \n",
            "epoch: 0834 c=6.1621 w=2.4458 b=10.9193 \n",
            "epoch: 0835 c=6.1559 w=2.4444 b=10.9270 \n",
            "epoch: 0836 c=6.1496 w=2.4430 b=10.9348 \n",
            "epoch: 0837 c=6.1434 w=2.4416 b=10.9425 \n",
            "epoch: 0838 c=6.1372 w=2.4402 b=10.9503 \n",
            "epoch: 0839 c=6.1310 w=2.4388 b=10.9580 \n",
            "epoch: 0840 c=6.1249 w=2.4374 b=10.9658 \n",
            "epoch: 0841 c=6.1187 w=2.4360 b=10.9735 \n",
            "epoch: 0842 c=6.1125 w=2.4347 b=10.9812 \n",
            "epoch: 0843 c=6.1064 w=2.4333 b=10.9889 \n",
            "epoch: 0844 c=6.1003 w=2.4319 b=10.9966 \n",
            "epoch: 0845 c=6.0941 w=2.4305 b=11.0043 \n",
            "epoch: 0846 c=6.0880 w=2.4291 b=11.0120 \n",
            "epoch: 0847 c=6.0819 w=2.4277 b=11.0197 \n",
            "epoch: 0848 c=6.0758 w=2.4264 b=11.0274 \n",
            "epoch: 0849 c=6.0697 w=2.4250 b=11.0351 \n",
            "epoch: 0850 c=6.0637 w=2.4236 b=11.0427 \n",
            "epoch: 0851 c=6.0576 w=2.4222 b=11.0504 \n",
            "epoch: 0852 c=6.0516 w=2.4209 b=11.0581 \n",
            "epoch: 0853 c=6.0455 w=2.4195 b=11.0657 \n",
            "epoch: 0854 c=6.0395 w=2.4181 b=11.0734 \n",
            "epoch: 0855 c=6.0335 w=2.4168 b=11.0810 \n",
            "epoch: 0856 c=6.0275 w=2.4154 b=11.0886 \n",
            "epoch: 0857 c=6.0215 w=2.4140 b=11.0963 \n",
            "epoch: 0858 c=6.0155 w=2.4127 b=11.1039 \n",
            "epoch: 0859 c=6.0095 w=2.4113 b=11.1115 \n",
            "epoch: 0860 c=6.0035 w=2.4099 b=11.1191 \n",
            "epoch: 0861 c=5.9976 w=2.4086 b=11.1267 \n",
            "epoch: 0862 c=5.9916 w=2.4072 b=11.1343 \n",
            "epoch: 0863 c=5.9857 w=2.4058 b=11.1419 \n",
            "epoch: 0864 c=5.9798 w=2.4045 b=11.1495 \n",
            "epoch: 0865 c=5.9738 w=2.4031 b=11.1570 \n",
            "epoch: 0866 c=5.9679 w=2.4018 b=11.1646 \n",
            "epoch: 0867 c=5.9620 w=2.4004 b=11.1722 \n",
            "epoch: 0868 c=5.9562 w=2.3991 b=11.1797 \n",
            "epoch: 0869 c=5.9503 w=2.3977 b=11.1873 \n",
            "epoch: 0870 c=5.9444 w=2.3964 b=11.1948 \n",
            "epoch: 0871 c=5.9386 w=2.3950 b=11.2023 \n",
            "epoch: 0872 c=5.9327 w=2.3937 b=11.2098 \n",
            "epoch: 0873 c=5.9269 w=2.3923 b=11.2174 \n",
            "epoch: 0874 c=5.9211 w=2.3910 b=11.2249 \n",
            "epoch: 0875 c=5.9153 w=2.3896 b=11.2324 \n",
            "epoch: 0876 c=5.9095 w=2.3883 b=11.2398 \n",
            "epoch: 0877 c=5.9037 w=2.3869 b=11.2473 \n",
            "epoch: 0878 c=5.8980 w=2.3856 b=11.2548 \n",
            "epoch: 0879 c=5.8922 w=2.3843 b=11.2623 \n",
            "epoch: 0880 c=5.8865 w=2.3829 b=11.2697 \n",
            "epoch: 0881 c=5.8807 w=2.3816 b=11.2772 \n",
            "epoch: 0882 c=5.8750 w=2.3802 b=11.2846 \n",
            "epoch: 0883 c=5.8693 w=2.3789 b=11.2921 \n",
            "epoch: 0884 c=5.8635 w=2.3776 b=11.2995 \n",
            "epoch: 0885 c=5.8578 w=2.3762 b=11.3070 \n",
            "epoch: 0886 c=5.8521 w=2.3749 b=11.3144 \n",
            "epoch: 0887 c=5.8465 w=2.3736 b=11.3218 \n",
            "epoch: 0888 c=5.8408 w=2.3723 b=11.3292 \n",
            "epoch: 0889 c=5.8351 w=2.3709 b=11.3366 \n",
            "epoch: 0890 c=5.8295 w=2.3696 b=11.3440 \n",
            "epoch: 0891 c=5.8239 w=2.3683 b=11.3514 \n",
            "epoch: 0892 c=5.8182 w=2.3669 b=11.3588 \n",
            "epoch: 0893 c=5.8126 w=2.3656 b=11.3661 \n",
            "epoch: 0894 c=5.8070 w=2.3643 b=11.3735 \n",
            "epoch: 0895 c=5.8014 w=2.3630 b=11.3809 \n",
            "epoch: 0896 c=5.7958 w=2.3617 b=11.3883 \n",
            "epoch: 0897 c=5.7902 w=2.3603 b=11.3956 \n",
            "epoch: 0898 c=5.7847 w=2.3590 b=11.4030 \n",
            "epoch: 0899 c=5.7791 w=2.3577 b=11.4103 \n",
            "epoch: 0900 c=5.7735 w=2.3564 b=11.4176 \n",
            "epoch: 0901 c=5.7680 w=2.3551 b=11.4250 \n",
            "epoch: 0902 c=5.7625 w=2.3538 b=11.4323 \n",
            "epoch: 0903 c=5.7569 w=2.3525 b=11.4396 \n",
            "epoch: 0904 c=5.7514 w=2.3511 b=11.4469 \n",
            "epoch: 0905 c=5.7459 w=2.3498 b=11.4542 \n",
            "epoch: 0906 c=5.7404 w=2.3485 b=11.4615 \n",
            "epoch: 0907 c=5.7350 w=2.3472 b=11.4688 \n",
            "epoch: 0908 c=5.7295 w=2.3459 b=11.4761 \n",
            "epoch: 0909 c=5.7240 w=2.3446 b=11.4834 \n",
            "epoch: 0910 c=5.7186 w=2.3433 b=11.4907 \n",
            "epoch: 0911 c=5.7131 w=2.3420 b=11.4979 \n",
            "epoch: 0912 c=5.7077 w=2.3407 b=11.5052 \n",
            "epoch: 0913 c=5.7022 w=2.3394 b=11.5125 \n",
            "epoch: 0914 c=5.6968 w=2.3381 b=11.5197 \n",
            "epoch: 0915 c=5.6914 w=2.3368 b=11.5269 \n",
            "epoch: 0916 c=5.6860 w=2.3355 b=11.5342 \n",
            "epoch: 0917 c=5.6806 w=2.3342 b=11.5414 \n",
            "epoch: 0918 c=5.6753 w=2.3329 b=11.5486 \n",
            "epoch: 0919 c=5.6699 w=2.3316 b=11.5558 \n",
            "epoch: 0920 c=5.6645 w=2.3303 b=11.5630 \n",
            "epoch: 0921 c=5.6592 w=2.3290 b=11.5702 \n",
            "epoch: 0922 c=5.6539 w=2.3277 b=11.5774 \n",
            "epoch: 0923 c=5.6486 w=2.3265 b=11.5846 \n",
            "epoch: 0924 c=5.6432 w=2.3252 b=11.5918 \n",
            "epoch: 0925 c=5.6379 w=2.3239 b=11.5989 \n",
            "epoch: 0926 c=5.6327 w=2.3226 b=11.6061 \n",
            "epoch: 0927 c=5.6274 w=2.3213 b=11.6132 \n",
            "epoch: 0928 c=5.6221 w=2.3200 b=11.6204 \n",
            "epoch: 0929 c=5.6168 w=2.3188 b=11.6275 \n",
            "epoch: 0930 c=5.6116 w=2.3175 b=11.6347 \n",
            "epoch: 0931 c=5.6063 w=2.3162 b=11.6418 \n",
            "epoch: 0932 c=5.6011 w=2.3149 b=11.6489 \n",
            "epoch: 0933 c=5.5959 w=2.3136 b=11.6561 \n",
            "epoch: 0934 c=5.5906 w=2.3124 b=11.6632 \n",
            "epoch: 0935 c=5.5854 w=2.3111 b=11.6703 \n",
            "epoch: 0936 c=5.5802 w=2.3098 b=11.6774 \n",
            "epoch: 0937 c=5.5750 w=2.3085 b=11.6844 \n",
            "epoch: 0938 c=5.5699 w=2.3073 b=11.6915 \n",
            "epoch: 0939 c=5.5647 w=2.3060 b=11.6986 \n",
            "epoch: 0940 c=5.5595 w=2.3047 b=11.7057 \n",
            "epoch: 0941 c=5.5544 w=2.3035 b=11.7127 \n",
            "epoch: 0942 c=5.5492 w=2.3022 b=11.7198 \n",
            "epoch: 0943 c=5.5441 w=2.3009 b=11.7269 \n",
            "epoch: 0944 c=5.5390 w=2.2997 b=11.7339 \n",
            "epoch: 0945 c=5.5338 w=2.2984 b=11.7410 \n",
            "epoch: 0946 c=5.5287 w=2.2972 b=11.7480 \n",
            "epoch: 0947 c=5.5236 w=2.2959 b=11.7550 \n",
            "epoch: 0948 c=5.5186 w=2.2946 b=11.7620 \n",
            "epoch: 0949 c=5.5135 w=2.2934 b=11.7690 \n",
            "epoch: 0950 c=5.5084 w=2.2921 b=11.7761 \n",
            "epoch: 0951 c=5.5034 w=2.2909 b=11.7831 \n",
            "epoch: 0952 c=5.4983 w=2.2896 b=11.7900 \n",
            "epoch: 0953 c=5.4933 w=2.2884 b=11.7970 \n",
            "epoch: 0954 c=5.4882 w=2.2871 b=11.8040 \n",
            "epoch: 0955 c=5.4832 w=2.2858 b=11.8110 \n",
            "epoch: 0956 c=5.4782 w=2.2846 b=11.8180 \n",
            "epoch: 0957 c=5.4732 w=2.2834 b=11.8249 \n",
            "epoch: 0958 c=5.4682 w=2.2821 b=11.8319 \n",
            "epoch: 0959 c=5.4632 w=2.2809 b=11.8389 \n",
            "epoch: 0960 c=5.4582 w=2.2796 b=11.8458 \n",
            "epoch: 0961 c=5.4532 w=2.2784 b=11.8527 \n",
            "epoch: 0962 c=5.4483 w=2.2771 b=11.8597 \n",
            "epoch: 0963 c=5.4433 w=2.2759 b=11.8666 \n",
            "epoch: 0964 c=5.4384 w=2.2746 b=11.8735 \n",
            "epoch: 0965 c=5.4334 w=2.2734 b=11.8805 \n",
            "epoch: 0966 c=5.4285 w=2.2722 b=11.8874 \n",
            "epoch: 0967 c=5.4236 w=2.2709 b=11.8943 \n",
            "epoch: 0968 c=5.4187 w=2.2697 b=11.9012 \n",
            "epoch: 0969 c=5.4138 w=2.2684 b=11.9081 \n",
            "epoch: 0970 c=5.4089 w=2.2672 b=11.9150 \n",
            "epoch: 0971 c=5.4040 w=2.2660 b=11.9219 \n",
            "epoch: 0972 c=5.3991 w=2.2647 b=11.9287 \n",
            "epoch: 0973 c=5.3943 w=2.2635 b=11.9356 \n",
            "epoch: 0974 c=5.3894 w=2.2623 b=11.9424 \n",
            "epoch: 0975 c=5.3846 w=2.2611 b=11.9493 \n",
            "epoch: 0976 c=5.3797 w=2.2598 b=11.9561 \n",
            "epoch: 0977 c=5.3749 w=2.2586 b=11.9630 \n",
            "epoch: 0978 c=5.3701 w=2.2574 b=11.9698 \n",
            "epoch: 0979 c=5.3653 w=2.2561 b=11.9766 \n",
            "epoch: 0980 c=5.3605 w=2.2549 b=11.9834 \n",
            "epoch: 0981 c=5.3557 w=2.2537 b=11.9903 \n",
            "epoch: 0982 c=5.3509 w=2.2525 b=11.9971 \n",
            "epoch: 0983 c=5.3461 w=2.2513 b=12.0039 \n",
            "epoch: 0984 c=5.3413 w=2.2500 b=12.0107 \n",
            "epoch: 0985 c=5.3366 w=2.2488 b=12.0174 \n",
            "epoch: 0986 c=5.3318 w=2.2476 b=12.0242 \n",
            "epoch: 0987 c=5.3271 w=2.2464 b=12.0310 \n",
            "epoch: 0988 c=5.3224 w=2.2452 b=12.0378 \n",
            "epoch: 0989 c=5.3176 w=2.2440 b=12.0445 \n",
            "epoch: 0990 c=5.3129 w=2.2428 b=12.0513 \n",
            "epoch: 0991 c=5.3082 w=2.2415 b=12.0581 \n",
            "epoch: 0992 c=5.3035 w=2.2403 b=12.0648 \n",
            "epoch: 0993 c=5.2988 w=2.2391 b=12.0715 \n",
            "epoch: 0994 c=5.2941 w=2.2379 b=12.0783 \n",
            "epoch: 0995 c=5.2894 w=2.2367 b=12.0850 \n",
            "epoch: 0996 c=5.2848 w=2.2355 b=12.0918 \n",
            "epoch: 0997 c=5.2801 w=2.2343 b=12.0985 \n",
            "epoch: 0998 c=5.2755 w=2.2331 b=12.1052 \n",
            "epoch: 0999 c=5.2708 w=2.2319 b=12.1119 \n"
          ]
        }
      ]
    },
    {
      "cell_type": "code",
      "metadata": {
        "colab": {
          "base_uri": "https://localhost:8080/",
          "height": 265
        },
        "id": "YStDueARGPPh",
        "outputId": "d67d2a25-e6ee-430b-b8e3-58fa11963026"
      },
      "source": [
        "a_list = list(range(-1, 999))\n",
        "plt.plot(a_list, jhist, '-r')\n",
        "plt.show()\n"
      ],
      "execution_count": null,
      "outputs": [
        {
          "output_type": "display_data",
          "data": {
            "image/png": "[encoded data removed]",
            "text/plain": [
              "<Figure size 432x288 with 1 Axes>"
            ]
          },
          "metadata": {
            "needs_background": "light"
          }
        }
      ]
    },
    {
      "cell_type": "markdown",
      "metadata": {
        "id": "VApx7EOIiD1V"
      },
      "source": [
        "TASK -- 2"
      ]
    },
    {
      "cell_type": "code",
      "metadata": {
        "id": "CHPrIBziiota"
      },
      "source": [
        "learning_rate = 0.01\n",
        "epochs = 10"
      ],
      "execution_count": null,
      "outputs": []
    },
    {
      "cell_type": "code",
      "metadata": {
        "id": "uTnMkDxVje7Z"
      },
      "source": [
        "pred = tf.add(tf.multiply(X,W),B)\n",
        "\n",
        "cost = tf.reduce_sum((pred - Y) ** 2 ) / (2 * 599 )\n",
        "\n",
        "optimizer = tf.train.GradientDescentOptimizer(learning_rate).minimize(cost)"
      ],
      "execution_count": null,
      "outputs": []
    },
    {
      "cell_type": "code",
      "metadata": {
        "colab": {
          "base_uri": "https://localhost:8080/"
        },
        "id": "h8jlsAtXGad9",
        "outputId": "74b95fb0-d0b6-4778-b74c-065c0136934a"
      },
      "source": [
        "jhists =[]\n",
        "ehist =[]\n",
        "with tf.Session() as sesh:\n",
        "    sesh.run(init)\n",
        "\n",
        "    for epoch in range(epochs):\n",
        "        for x, y in zip(train_x, train_y):\n",
        "            sesh.run(optimizer, feed_dict={X: x, Y: y})\n",
        "\n",
        "        if  epoch == 5 :\n",
        "            c = sesh.run(cost, feed_dict={X: train_x, Y: train_y})\n",
        "            w = sesh.run(W)\n",
        "            b = sesh.run(B)\n",
        "            jhists.append(sesh.run(cost, feed_dict={X: train_x, Y: train_y}))\n",
        "            ehist.append(epochs % 20)\n",
        "            print(f'epoch: {epoch:04d} c={c:.4f} w={w:.4f} b={b:.4f} ')"
      ],
      "execution_count": null,
      "outputs": [
        {
          "output_type": "stream",
          "name": "stdout",
          "text": [
            "epoch: 0005 c=22.2102 w=3.6453 b=1.2314 \n"
          ]
        }
      ]
    },
    {
      "cell_type": "code",
      "metadata": {
        "colab": {
          "base_uri": "https://localhost:8080/"
        },
        "id": "QRNgKQmbjiYw",
        "outputId": "e743b451-22ac-45bf-c969-f50963723d62"
      },
      "source": [
        "learning_rate = 0.02\n",
        "epochs = 10\n",
        "pred = tf.add(tf.multiply(X,W),B)\n",
        "\n",
        "cost = tf.reduce_sum((pred - Y) ** 2 ) / (2 * 599 )\n",
        "\n",
        "optimizer = tf.train.GradientDescentOptimizer(learning_rate).minimize(cost)\n",
        "\n",
        "jhists =[]\n",
        "ehist =[]\n",
        "with tf.Session() as sesh:\n",
        "    sesh.run(init)\n",
        "\n",
        "    for epoch in range(epochs):\n",
        "        for x, y in zip(train_x, train_y):\n",
        "            sesh.run(optimizer, feed_dict={X: x, Y: y})\n",
        "\n",
        "        if  epoch == 5 :\n",
        "            c = sesh.run(cost, feed_dict={X: train_x, Y: train_y})\n",
        "            w = sesh.run(W)\n",
        "            b = sesh.run(B)\n",
        "            jhists.append(sesh.run(cost, feed_dict={X: train_x, Y: train_y}))\n",
        "            ehist.append(epochs % 20)\n",
        "            print(f'epoch: {epoch:04d} c={c:.4f} w={w:.4f} b={b:.4f} ')\n"
      ],
      "execution_count": null,
      "outputs": [
        {
          "output_type": "stream",
          "name": "stdout",
          "text": [
            "epoch: 0005 c=18.0900 w=4.0619 b=1.4072 \n"
          ]
        }
      ]
    },
    {
      "cell_type": "code",
      "metadata": {
        "colab": {
          "base_uri": "https://localhost:8080/"
        },
        "id": "5Pj_U8WjlsNP",
        "outputId": "f791ae17-3141-4b67-bce1-e315a3ec8b31"
      },
      "source": [
        "learning_rate = 0.03\n",
        "epochs = 10\n",
        "pred = tf.add(tf.multiply(X,W),B)\n",
        "\n",
        "cost = tf.reduce_sum((pred - Y) ** 2 ) / (2 * 599 )\n",
        "\n",
        "optimizer = tf.train.GradientDescentOptimizer(learning_rate).minimize(cost)\n",
        "\n",
        "jhists =[]\n",
        "ehist =[]\n",
        "with tf.Session() as sesh:\n",
        "    sesh.run(init)\n",
        "\n",
        "    for epoch in range(epochs):\n",
        "        for x, y in zip(train_x, train_y):\n",
        "            sesh.run(optimizer, feed_dict={X: x, Y: y})\n",
        "\n",
        "        if  epoch == 5 :\n",
        "            c = sesh.run(cost, feed_dict={X: train_x, Y: train_y})\n",
        "            w = sesh.run(W)\n",
        "            b = sesh.run(B)\n",
        "            jhists.append(sesh.run(cost, feed_dict={X: train_x, Y: train_y}))\n",
        "            ehist.append(epochs % 20)\n",
        "            print(f'epoch: {epoch:04d} c={c:.4f} w={w:.4f} b={b:.4f} ')\n"
      ],
      "execution_count": null,
      "outputs": [
        {
          "output_type": "stream",
          "name": "stdout",
          "text": [
            "epoch: 0005 c=17.8204 w=4.1210 b=1.5184 \n"
          ]
        }
      ]
    },
    {
      "cell_type": "code",
      "metadata": {
        "colab": {
          "base_uri": "https://localhost:8080/"
        },
        "id": "qvfVPRq_mOBa",
        "outputId": "22f45d0b-c9aa-4d07-d350-a7d85347c6e9"
      },
      "source": [
        "learning_rate = 0.04\n",
        "epochs = 10\n",
        "pred = tf.add(tf.multiply(X,W),B)\n",
        "\n",
        "cost = tf.reduce_sum((pred - Y) ** 2 ) / (2 * 599 )\n",
        "\n",
        "optimizer = tf.train.GradientDescentOptimizer(learning_rate).minimize(cost)\n",
        "\n",
        "jhists =[]\n",
        "ehist =[]\n",
        "with tf.Session() as sesh:\n",
        "    sesh.run(init)\n",
        "\n",
        "    for epoch in range(epochs):\n",
        "        for x, y in zip(train_x, train_y):\n",
        "            sesh.run(optimizer, feed_dict={X: x, Y: y})\n",
        "\n",
        "        if  epoch == 5 :\n",
        "            c = sesh.run(cost, feed_dict={X: train_x, Y: train_y})\n",
        "            w = sesh.run(W)\n",
        "            b = sesh.run(B)\n",
        "            jhists.append(sesh.run(cost, feed_dict={X: train_x, Y: train_y}))\n",
        "            ehist.append(epochs % 20)\n",
        "            print(f'epoch: {epoch:04d} c={c:.4f} w={w:.4f} b={b:.4f} ')"
      ],
      "execution_count": null,
      "outputs": [
        {
          "output_type": "stream",
          "name": "stdout",
          "text": [
            "epoch: 0005 c=17.6582 w=4.1183 b=1.6180 \n"
          ]
        }
      ]
    },
    {
      "cell_type": "code",
      "metadata": {
        "colab": {
          "base_uri": "https://localhost:8080/"
        },
        "id": "THbpUKeKmv8L",
        "outputId": "0e214699-522e-4470-d1b4-cad346988005"
      },
      "source": [
        "learning_rate = 0.05\n",
        "epochs = 10\n",
        "pred = tf.add(tf.multiply(X,W),B)\n",
        "\n",
        "cost = tf.reduce_sum((pred - Y) ** 2 ) / (2 * 599 )\n",
        "\n",
        "optimizer = tf.train.GradientDescentOptimizer(learning_rate).minimize(cost)\n",
        "\n",
        "jhists =[]\n",
        "ehist =[]\n",
        "with tf.Session() as sesh:\n",
        "    sesh.run(init)\n",
        "\n",
        "    for epoch in range(epochs):\n",
        "        for x, y in zip(train_x, train_y):\n",
        "            sesh.run(optimizer, feed_dict={X: x, Y: y})\n",
        "\n",
        "        if  epoch == 5 :\n",
        "            c = sesh.run(cost, feed_dict={X: train_x, Y: train_y})\n",
        "            w = sesh.run(W)\n",
        "            b = sesh.run(B)\n",
        "            jhists.append(sesh.run(cost, feed_dict={X: train_x, Y: train_y}))\n",
        "            ehist.append(epochs % 20)\n",
        "            print(f'epoch: {epoch:04d} c={c:.4f} w={w:.4f} b={b:.4f} ')"
      ],
      "execution_count": null,
      "outputs": [
        {
          "output_type": "stream",
          "name": "stdout",
          "text": [
            "epoch: 0005 c=17.4986 w=4.1048 b=1.7152 \n"
          ]
        }
      ]
    },
    {
      "cell_type": "code",
      "metadata": {
        "colab": {
          "base_uri": "https://localhost:8080/"
        },
        "id": "27HQ03IpnJlq",
        "outputId": "b5923159-c641-4169-c58b-346dcaedfc68"
      },
      "source": [
        "learning_rate = 0.06\n",
        "epochs = 10\n",
        "pred = tf.add(tf.multiply(X,W),B)\n",
        "\n",
        "cost = tf.reduce_sum((pred - Y) ** 2 ) / (2 * 599 )\n",
        "\n",
        "optimizer = tf.train.GradientDescentOptimizer(learning_rate).minimize(cost)\n",
        "\n",
        "jhists =[]\n",
        "ehist =[]\n",
        "with tf.Session() as sesh:\n",
        "    sesh.run(init)\n",
        "\n",
        "    for epoch in range(epochs):\n",
        "        for x, y in zip(train_x, train_y):\n",
        "            sesh.run(optimizer, feed_dict={X: x, Y: y})\n",
        "\n",
        "        if  epoch == 5 :\n",
        "            c = sesh.run(cost, feed_dict={X: train_x, Y: train_y})\n",
        "            w = sesh.run(W)\n",
        "            b = sesh.run(B)\n",
        "            jhists.append(sesh.run(cost, feed_dict={X: train_x, Y: train_y}))\n",
        "            ehist.append(epochs % 20)\n",
        "            print(f'epoch: {epoch:04d} c={c:.4f} w={w:.4f} b={b:.4f} ')"
      ],
      "execution_count": null,
      "outputs": [
        {
          "output_type": "stream",
          "name": "stdout",
          "text": [
            "epoch: 0005 c=17.3402 w=4.0890 b=1.8115 \n"
          ]
        }
      ]
    },
    {
      "cell_type": "code",
      "metadata": {
        "colab": {
          "base_uri": "https://localhost:8080/"
        },
        "id": "l0VQNgf2nR3D",
        "outputId": "fbaecfab-369b-4185-9e30-b3d7e84b9d6f"
      },
      "source": [
        "learning_rate = 0.07\n",
        "epochs = 10\n",
        "pred = tf.add(tf.multiply(X,W),B)\n",
        "\n",
        "cost = tf.reduce_sum((pred - Y) ** 2 ) / (2 * 599 )\n",
        "\n",
        "optimizer = tf.train.GradientDescentOptimizer(learning_rate).minimize(cost)\n",
        "\n",
        "jhists =[]\n",
        "ehist =[]\n",
        "with tf.Session() as sesh:\n",
        "    sesh.run(init)\n",
        "\n",
        "    for epoch in range(epochs):\n",
        "        for x, y in zip(train_x, train_y):\n",
        "            sesh.run(optimizer, feed_dict={X: x, Y: y})\n",
        "\n",
        "        if  epoch == 5 :\n",
        "            c = sesh.run(cost, feed_dict={X: train_x, Y: train_y})\n",
        "            w = sesh.run(W)\n",
        "            b = sesh.run(B)\n",
        "            jhists.append(sesh.run(cost, feed_dict={X: train_x, Y: train_y}))\n",
        "            ehist.append(epochs % 20)\n",
        "            print(f'epoch: {epoch:04d} c={c:.4f} w={w:.4f} b={b:.4f} ')"
      ],
      "execution_count": null,
      "outputs": [
        {
          "output_type": "stream",
          "name": "stdout",
          "text": [
            "epoch: 0005 c=17.1832 w=4.0726 b=1.9071 \n"
          ]
        }
      ]
    },
    {
      "cell_type": "code",
      "metadata": {
        "colab": {
          "base_uri": "https://localhost:8080/"
        },
        "id": "hNVFageWnyAu",
        "outputId": "b423fbcc-fed0-46f9-a098-c1094ac2e16b"
      },
      "source": [
        "learning_rate = 0.08\n",
        "epochs = 10\n",
        "pred = tf.add(tf.multiply(X,W),B)\n",
        "\n",
        "cost = tf.reduce_sum((pred - Y) ** 2 ) / (2 * 599 )\n",
        "\n",
        "optimizer = tf.train.GradientDescentOptimizer(learning_rate).minimize(cost)\n",
        "\n",
        "jhists =[]\n",
        "ehist =[]\n",
        "with tf.Session() as sesh:\n",
        "    sesh.run(init)\n",
        "\n",
        "    for epoch in range(epochs):\n",
        "        for x, y in zip(train_x, train_y):\n",
        "            sesh.run(optimizer, feed_dict={X: x, Y: y})\n",
        "\n",
        "        if  epoch == 5 :\n",
        "            c = sesh.run(cost, feed_dict={X: train_x, Y: train_y})\n",
        "            w = sesh.run(W)\n",
        "            b = sesh.run(B)\n",
        "            jhists.append(sesh.run(cost, feed_dict={X: train_x, Y: train_y}))\n",
        "            ehist.append(epochs % 20)\n",
        "            print(f'epoch: {epoch:04d} c={c:.4f} w={w:.4f} b={b:.4f} ')"
      ],
      "execution_count": null,
      "outputs": [
        {
          "output_type": "stream",
          "name": "stdout",
          "text": [
            "epoch: 0005 c=17.0277 w=4.0557 b=2.0021 \n"
          ]
        }
      ]
    },
    {
      "cell_type": "code",
      "metadata": {
        "colab": {
          "base_uri": "https://localhost:8080/"
        },
        "id": "7mepxOC6oWIc",
        "outputId": "701cd6b4-7f4e-4bfb-e975-a10d4c385ab8"
      },
      "source": [
        "learning_rate = 0.09\n",
        "epochs = 10\n",
        "pred = tf.add(tf.multiply(X,W),B)\n",
        "\n",
        "cost = tf.reduce_sum((pred - Y) ** 2 ) / (2 * 599 )\n",
        "\n",
        "optimizer = tf.train.GradientDescentOptimizer(learning_rate).minimize(cost)\n",
        "\n",
        "jhists =[]\n",
        "ehist =[]\n",
        "with tf.Session() as sesh:\n",
        "    sesh.run(init)\n",
        "\n",
        "    for epoch in range(epochs):\n",
        "        for x, y in zip(train_x, train_y):\n",
        "            sesh.run(optimizer, feed_dict={X: x, Y: y})\n",
        "\n",
        "        if  epoch == 5 :\n",
        "            c = sesh.run(cost, feed_dict={X: train_x, Y: train_y})\n",
        "            w = sesh.run(W)\n",
        "            b = sesh.run(B)\n",
        "            jhists.append(sesh.run(cost, feed_dict={X: train_x, Y: train_y}))\n",
        "            ehist.append(epochs % 20)\n",
        "            print(f'epoch: {epoch:04d} c={c:.4f} w={w:.4f} b={b:.4f} ')"
      ],
      "execution_count": null,
      "outputs": [
        {
          "output_type": "stream",
          "name": "stdout",
          "text": [
            "epoch: 0005 c=16.8736 w=4.0385 b=2.0966 \n"
          ]
        }
      ]
    },
    {
      "cell_type": "code",
      "metadata": {
        "colab": {
          "base_uri": "https://localhost:8080/"
        },
        "id": "0mkjTrVKoegW",
        "outputId": "7a41cc4e-0de3-4861-b3bd-319f596d3225"
      },
      "source": [
        "learning_rate = 0.1\n",
        "epochs = 10\n",
        "pred = tf.add(tf.multiply(X,W),B)\n",
        "\n",
        "cost = tf.reduce_sum((pred - Y) ** 2 ) / (2 * 599 )\n",
        "\n",
        "optimizer = tf.train.GradientDescentOptimizer(learning_rate).minimize(cost)\n",
        "\n",
        "jhists =[]\n",
        "ehist =[]\n",
        "with tf.Session() as sesh:\n",
        "    sesh.run(init)\n",
        "\n",
        "    for epoch in range(epochs):\n",
        "        for x, y in zip(train_x, train_y):\n",
        "            sesh.run(optimizer, feed_dict={X: x, Y: y})\n",
        "\n",
        "        if  epoch == 5 :\n",
        "            c = sesh.run(cost, feed_dict={X: train_x, Y: train_y})\n",
        "            w = sesh.run(W)\n",
        "            b = sesh.run(B)\n",
        "            jhists.append(sesh.run(cost, feed_dict={X: train_x, Y: train_y}))\n",
        "            ehist.append(epochs % 20)\n",
        "            print(f'epoch: {epoch:04d} c={c:.4f} w={w:.4f} b={b:.4f} ')"
      ],
      "execution_count": null,
      "outputs": [
        {
          "output_type": "stream",
          "name": "stdout",
          "text": [
            "epoch: 0005 c=16.7210 w=4.0210 b=2.1906 \n"
          ]
        }
      ]
    },
    {
      "cell_type": "code",
      "metadata": {
        "colab": {
          "base_uri": "https://localhost:8080/",
          "height": 265
        },
        "id": "AbtwrB8_GgjQ",
        "outputId": "03ee1e91-237e-4491-e426-b4a1117e08fa"
      },
      "source": [
        "cort = [21.7956,21.6631,21.5382,21.4092,21.2763,21.1417,21.0075,20.8752,20.7452,20.6179]\n",
        "lr = [0.01,0.02,0.03,0.04,0.05,0.06,0.07,0.08,0.09,0.1]\n",
        "plt.plot(lr,cort, '-r')\n",
        "plt.xlim(0, 0.1)\n",
        "plt.show()\n"
      ],
      "execution_count": null,
      "outputs": [
        {
          "output_type": "display_data",
          "data": {
            "image/png": "[encoded data removed]",
            "text/plain": [
              "<Figure size 432x288 with 1 Axes>"
            ]
          },
          "metadata": {
            "needs_background": "light"
          }
        }
      ]
    },
    {
      "cell_type": "markdown",
      "metadata": {
        "id": "WLYpqpEAxKpe"
      },
      "source": [
        "Task -- 3\n"
      ]
    },
    {
      "cell_type": "code",
      "metadata": {
        "colab": {
          "base_uri": "https://localhost:8080/"
        },
        "id": "Frztg2S1wnWq",
        "outputId": "de898a39-2b73-4446-a027-d0006cca4a5d"
      },
      "source": [
        "learning_rate = 0.01\n",
        "epochs = 10\n",
        "pred = tf.add(tf.multiply(X,W),B)\n",
        "\n",
        "cost = tf.reduce_sum((pred - Y) ** 2 ) / (2 * 599 )\n",
        "\n",
        "optimizer = tf.train.GradientDescentOptimizer(learning_rate).minimize(cost)\n",
        "\n",
        "jhiste =[]\n",
        "ehist =[]\n",
        "with tf.Session() as sesh:\n",
        "    sesh.run(init)\n",
        "\n",
        "    for epoch in range(epochs):\n",
        "        for x, y in zip(train_x, train_y):\n",
        "            sesh.run(optimizer, feed_dict={X: x, Y: y})\n",
        "\n",
        "        if not epoch % 1 :\n",
        "            c = sesh.run(cost, feed_dict={X: train_x, Y: train_y})\n",
        "            w = sesh.run(W)\n",
        "            b = sesh.run(B)\n",
        "            jhiste.append(sesh.run(W))\n",
        "            ehist.append(epochs % 20)\n",
        "            print(f'epoch: {epoch:04d} c={c:.4f} w={w:.4f} b={b:.4f} ')"
      ],
      "execution_count": null,
      "outputs": [
        {
          "output_type": "stream",
          "name": "stdout",
          "text": [
            "epoch: 0000 c=95.2719 w=1.9225 b=0.8378 \n",
            "epoch: 0001 c=61.0393 w=2.4937 b=0.9572 \n",
            "epoch: 0002 c=41.9968 w=2.9190 b=1.0504 \n",
            "epoch: 0003 c=31.4006 w=3.2354 b=1.1240 \n",
            "epoch: 0004 c=25.5002 w=3.4706 b=1.1831 \n",
            "epoch: 0005 c=22.2102 w=3.6453 b=1.2314 \n",
            "epoch: 0006 c=20.3711 w=3.7748 b=1.2716 \n",
            "epoch: 0007 c=19.3382 w=3.8706 b=1.3057 \n",
            "epoch: 0008 c=18.7532 w=3.9414 b=1.3353 \n",
            "epoch: 0009 c=18.4168 w=3.9934 b=1.3615 \n"
          ]
        }
      ]
    },
    {
      "cell_type": "code",
      "metadata": {
        "colab": {
          "base_uri": "https://localhost:8080/",
          "height": 265
        },
        "id": "jYCd2NBWyfhr",
        "outputId": "13d3182a-9d24-475e-e246-1079b8168fb9"
      },
      "source": [
        "b_list = list(range(-1, 9))\n",
        "plt.plot(b_list, jhiste, '-r')\n",
        "plt.show()"
      ],
      "execution_count": null,
      "outputs": [
        {
          "output_type": "display_data",
          "data": {
            "image/png": "[encoded data removed]",
            "text/plain": [
              "<Figure size 432x288 with 1 Axes>"
            ]
          },
          "metadata": {
            "needs_background": "light"
          }
        }
      ]
    },
    {
      "cell_type": "code",
      "metadata": {
        "colab": {
          "base_uri": "https://localhost:8080/"
        },
        "id": "C6XDXhLXzaXb",
        "outputId": "48d59da6-fec0-45f8-81cc-982f6266186f"
      },
      "source": [
        "learning_rate = 1\n",
        "epochs = 10\n",
        "pred = tf.add(tf.multiply(X,W),B)\n",
        "\n",
        "cost = tf.reduce_sum((pred - Y) ** 2 ) / (2 * 599 )\n",
        "\n",
        "optimizer = tf.train.GradientDescentOptimizer(learning_rate).minimize(cost)\n",
        "\n",
        "t3 =[]\n",
        "ehist =[]\n",
        "with tf.Session() as sesh:\n",
        "    sesh.run(init)\n",
        "\n",
        "    for epoch in range(epochs):\n",
        "        for x, y in zip(train_x, train_y):\n",
        "            sesh.run(optimizer, feed_dict={X: x, Y: y})\n",
        "\n",
        "        if not epoch % 1 :\n",
        "            c = sesh.run(cost, feed_dict={X: train_x, Y: train_y})\n",
        "            w = sesh.run(W)\n",
        "            b = sesh.run(B)\n",
        "            t3.append(sesh.run(B))\n",
        "            ehist.append(epochs % 20)\n",
        "            print(f'epoch: {epoch:04d} c={c:.4f} w={w:.4f} b={b:.4f} ')"
      ],
      "execution_count": null,
      "outputs": [
        {
          "output_type": "stream",
          "name": "stdout",
          "text": [
            "epoch: 0000 c=16.6960 w=3.6449 b=2.7642 \n",
            "epoch: 0001 c=14.4326 w=3.4002 b=4.2131 \n",
            "epoch: 0002 c=12.5405 w=3.1766 b=5.5370 \n",
            "epoch: 0003 c=10.9586 w=2.9724 b=6.7465 \n",
            "epoch: 0004 c=9.6357 w=2.7857 b=7.8516 \n",
            "epoch: 0005 c=8.5294 w=2.6152 b=8.8613 \n",
            "epoch: 0006 c=7.6039 w=2.4594 b=9.7838 \n",
            "epoch: 0007 c=6.8296 w=2.3171 b=10.6267 \n",
            "epoch: 0008 c=6.1817 w=2.1870 b=11.3968 \n",
            "epoch: 0009 c=5.6394 w=2.0682 b=12.1004 \n"
          ]
        }
      ]
    },
    {
      "cell_type": "code",
      "metadata": {
        "colab": {
          "base_uri": "https://localhost:8080/",
          "height": 265
        },
        "id": "aPNMiGrqzqH7",
        "outputId": "65a28821-e7a7-4876-a142-71c2d62c7e36"
      },
      "source": [
        "C_list = list(range(-1, 9))\n",
        "plt.plot(C_list, t3, '-r')\n",
        "plt.show()"
      ],
      "execution_count": null,
      "outputs": [
        {
          "output_type": "display_data",
          "data": {
            "image/png": "[encoded data removed]",
            "text/plain": [
              "<Figure size 432x288 with 1 Axes>"
            ]
          },
          "metadata": {
            "needs_background": "light"
          }
        }
      ]
    },
    {
      "cell_type": "markdown",
      "metadata": {
        "id": "QTeMjtZPz6Uw"
      },
      "source": [
        "Task -- 4"
      ]
    },
    {
      "cell_type": "code",
      "metadata": {
        "colab": {
          "base_uri": "https://localhost:8080/"
        },
        "id": "qw6rBtrwz8tD",
        "outputId": "958ad4e3-363e-4e6d-f376-25d1bfbb70ff"
      },
      "source": [
        "learning_rate = 1\n",
        "epochs = 10\n",
        "pred = tf.add(tf.multiply(X,W),B)\n",
        "\n",
        "cost = tf.reduce_sum((pred - Y) ** 2 ) / (2 * 599 )\n",
        "\n",
        "optimizer = tf.train.GradientDescentOptimizer(learning_rate).minimize(cost)\n",
        "\n",
        "t3 =[]\n",
        "ehist =[]\n",
        "with tf.Session() as sesh:\n",
        "    sesh.run(init)\n",
        "\n",
        "    for epoch in range(epochs):\n",
        "        for x, y in zip(train_x, train_y):\n",
        "            sesh.run(optimizer, feed_dict={X: x, Y: y})\n",
        "\n",
        "        if not epoch % 1 :\n",
        "            c = sesh.run(cost, feed_dict={X: train_x, Y: train_y})\n",
        "            w = sesh.run(W)\n",
        "            b = sesh.run(B)\n",
        "            t3.append(sesh.run(B))\n",
        "            ehist.append(epochs % 20)\n",
        "            print(f'epoch: {epoch:04d} c={c:.4f} w={w:.4f} b={b:.4f} ')\n",
        "\n",
        "            if c <=10:\n",
        "              break\n",
        "\n"
      ],
      "execution_count": null,
      "outputs": [
        {
          "output_type": "stream",
          "name": "stdout",
          "text": [
            "epoch: 0000 c=16.6960 w=3.6449 b=2.7642 \n",
            "epoch: 0001 c=14.4326 w=3.4002 b=4.2131 \n",
            "epoch: 0002 c=12.5405 w=3.1766 b=5.5370 \n",
            "epoch: 0003 c=10.9586 w=2.9724 b=6.7465 \n",
            "epoch: 0004 c=9.6357 w=2.7857 b=7.8516 \n"
          ]
        }
      ]
    },
    {
      "cell_type": "markdown",
      "metadata": {
        "id": "PxCNUdNh0-R_"
      },
      "source": [
        "Task -- 5"
      ]
    },
    {
      "cell_type": "code",
      "metadata": {
        "id": "LWmvbAeN1B2F"
      },
      "source": [
        "from sklearn.model_selection import train_test_split"
      ],
      "execution_count": null,
      "outputs": []
    },
    {
      "cell_type": "code",
      "metadata": {
        "id": "c5MTARrD33S9"
      },
      "source": [
        "x_train, x_test, y_train, y_test = train_test_split(train_x,train_y,test_size=0.30)"
      ],
      "execution_count": null,
      "outputs": []
    },
    {
      "cell_type": "code",
      "metadata": {
        "id": "nABHcJrV43Gm"
      },
      "source": [
        "pred = tf.add(tf.multiply(X,W),B)\n",
        "\n",
        "cost = tf.reduce_sum((pred - Y) ** 2 ) / (2 * 599 )\n",
        "\n",
        "optimizer = tf.train.GradientDescentOptimizer(learning_rate).minimize(cost)"
      ],
      "execution_count": null,
      "outputs": []
    },
    {
      "cell_type": "code",
      "metadata": {
        "colab": {
          "base_uri": "https://localhost:8080/"
        },
        "id": "Hwl35gIl6gBo",
        "outputId": "46c042a0-f74e-430d-b701-dfec69e9ce67"
      },
      "source": [
        "jhists =[]\n",
        "ehist =[]\n",
        "with tf.Session() as sesh:\n",
        "    sesh.run(init)\n",
        "\n",
        "    for epoch in range(epochs):\n",
        "        for x, y in zip(x_train, y_train):\n",
        "            sesh.run(optimizer, feed_dict={X: x, Y: y})\n",
        "\n",
        "        if  epoch == 5 :\n",
        "            c = sesh.run(cost, feed_dict={X: x_train, Y: y_train})\n",
        "            w = sesh.run(W)\n",
        "            b = sesh.run(B)\n",
        "            jhists.append(sesh.run(cost, feed_dict={X: x_train, Y: y_train}))\n",
        "            ehist.append(epochs % 20)\n",
        "            print(f' cost of train data set={c:.4f}  ')"
      ],
      "execution_count": null,
      "outputs": [
        {
          "output_type": "stream",
          "name": "stdout",
          "text": [
            " cost of train data set=7.1257  \n"
          ]
        }
      ]
    },
    {
      "cell_type": "code",
      "metadata": {
        "colab": {
          "base_uri": "https://localhost:8080/"
        },
        "id": "4qV6XUtD9X3W",
        "outputId": "3390ce0a-cf5e-4283-9969-5b5ef69ebeca"
      },
      "source": [
        "jhists =[]\n",
        "ehist =[]\n",
        "with tf.Session() as sesh:\n",
        "    sesh.run(init)\n",
        "\n",
        "    for epoch in range(epochs):\n",
        "        for x, y in zip(x_test, y_test):\n",
        "            sesh.run(optimizer, feed_dict={X: x, Y: y})\n",
        "\n",
        "        if  epoch == 5 :\n",
        "            c = sesh.run(cost, feed_dict={X: x_test, Y: y_test})\n",
        "            w = sesh.run(W)\n",
        "            b = sesh.run(B)\n",
        "            jhists.append(sesh.run(cost, feed_dict={X: x_test, Y: y_test}))\n",
        "            ehist.append(epochs % 20)\n",
        "            print(f' cost of train data set={c:.4f}  ')"
      ],
      "execution_count": null,
      "outputs": [
        {
          "output_type": "stream",
          "name": "stdout",
          "text": [
            " cost of train data set=3.9861  \n"
          ]
        }
      ]
    }
  ]
}