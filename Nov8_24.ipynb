{
  "nbformat": 4,
  "nbformat_minor": 0,
  "metadata": {
    "colab": {
      "provenance": [],
      "authorship_tag": "ABX9TyOTOfPpu14Uyj+OK/RvLV4s",
      "include_colab_link": true
    },
    "kernelspec": {
      "name": "python3",
      "display_name": "Python 3"
    },
    "language_info": {
      "name": "python"
    }
  },
  "cells": [
    {
      "cell_type": "markdown",
      "metadata": {
        "id": "view-in-github",
        "colab_type": "text"
      },
      "source": [
        "<a href=\"https://colab.research.google.com/github/abhijadhav14/PythonPractice/blob/main/Nov8_24.ipynb\" target=\"_parent\"><img src=\"https://colab.research.google.com/assets/colab-badge.svg\" alt=\"Open In Colab\"/></a>"
      ]
    },
    {
      "cell_type": "code",
      "execution_count": 4,
      "metadata": {
        "colab": {
          "base_uri": "https://localhost:8080/"
        },
        "id": "b16IPONFIXbv",
        "outputId": "cb08e6c3-8d8a-453e-babb-f68e198304be"
      },
      "outputs": [
        {
          "output_type": "stream",
          "name": "stdout",
          "text": [
            "Enter a = 10\n",
            "Enter b = 30\n",
            "the sum of 10 and 30 is 40\n"
          ]
        }
      ],
      "source": [
        "a = input(\"Enter a = \")\n",
        "b = input(\"Enter b = \")\n",
        "sum = int(a) + int(b)\n",
        "print(\"the sum of {0} and {1} is {2}\".format(a,b,sum))"
      ]
    },
    {
      "cell_type": "code",
      "source": [
        "a = input(\"Enter a = \")\n",
        "b = input(\"Enter b = \")\n",
        "\n",
        "temp = a\n",
        "a = b\n",
        "b = temp\n",
        "#a, b = b, a\n",
        "\n",
        "print(\"a= \",a)\n",
        "print(\"b= \",b)\n",
        "\n"
      ],
      "metadata": {
        "id": "YvHWqyTiKtK3",
        "colab": {
          "base_uri": "https://localhost:8080/"
        },
        "outputId": "b8c738f3-7029-4439-f8ee-4f3151ba721f"
      },
      "execution_count": 7,
      "outputs": [
        {
          "output_type": "stream",
          "name": "stdout",
          "text": [
            "Enter a = 10\n",
            "Enter b = 20\n",
            "a=  20\n",
            "b=  10\n"
          ]
        }
      ]
    },
    {
      "cell_type": "code",
      "source": [
        "def greet():\n",
        "    print(\"Hello\")\n",
        "\n",
        "print(\"Good Morning\")\n",
        "greet()"
      ],
      "metadata": {
        "colab": {
          "base_uri": "https://localhost:8080/"
        },
        "id": "zdhWNllgU56a",
        "outputId": "0a98c4db-3d08-4af4-b45e-ee983ee99c6d"
      },
      "execution_count": 24,
      "outputs": [
        {
          "output_type": "stream",
          "name": "stdout",
          "text": [
            "Good Morning\n",
            "Hello\n"
          ]
        }
      ]
    },
    {
      "cell_type": "code",
      "source": [
        "def sum(a, b):\n",
        "    return a + b\n",
        "\n",
        "num1 = 10\n",
        "num2 = 5\n",
        "sum_result = sum(num1, num2)\n",
        "print(f\"The sum of {num1} and {num2} is: {sum_result}\")"
      ],
      "metadata": {
        "colab": {
          "base_uri": "https://localhost:8080/"
        },
        "id": "l-rr_fdkWIgZ",
        "outputId": "a1aed8ff-bf11-4368-bf13-ee8449689814"
      },
      "execution_count": 23,
      "outputs": [
        {
          "output_type": "stream",
          "name": "stdout",
          "text": [
            "The sum of 10 and 5 is: 15\n"
          ]
        }
      ]
    },
    {
      "cell_type": "code",
      "source": [
        "def compound_interest(principal, rate, time):\n",
        "    amount = principal * (pow((1 + (rate / 100)), time))\n",
        "    interest = amount - principal\n",
        "    #return interest\n",
        "    print(\"Compound Interest is \",interest)\n",
        "\n",
        "\n",
        "compound_interest(10000,10.25,5)"
      ],
      "metadata": {
        "colab": {
          "base_uri": "https://localhost:8080/"
        },
        "id": "axCGOSZvWbJ1",
        "outputId": "d6bfeef9-2b6e-4c8c-a71e-19a7bbf1103f"
      },
      "execution_count": 28,
      "outputs": [
        {
          "output_type": "stream",
          "name": "stdout",
          "text": [
            "Compound Interest is  6288.946267774416\n"
          ]
        }
      ]
    },
    {
      "cell_type": "code",
      "source": [],
      "metadata": {
        "id": "aEpJCMfgXhr4"
      },
      "execution_count": null,
      "outputs": []
    }
  ]
}