{
  "nbformat": 4,
  "nbformat_minor": 0,
  "metadata": {
    "colab": {
      "provenance": [],
      "mount_file_id": "1rUznu79xfDlfG680rhc-yvctKBnFBG2e",
      "authorship_tag": "ABX9TyMrJWxbpgnaZHTCcsDdbPjd",
      "include_colab_link": true
    },
    "kernelspec": {
      "name": "python3",
      "display_name": "Python 3"
    },
    "language_info": {
      "name": "python"
    }
  },
  "cells": [
    {
      "cell_type": "markdown",
      "metadata": {
        "id": "view-in-github",
        "colab_type": "text"
      },
      "source": [
        "<a href=\"https://colab.research.google.com/github/abhijadhav14/PythonPractice/blob/main/Advance_PyP_DS_Numpy%26Pandas.ipynb\" target=\"_parent\"><img src=\"https://colab.research.google.com/assets/colab-badge.svg\" alt=\"Open In Colab\"/></a>"
      ]
    },
    {
      "cell_type": "code",
      "execution_count": 8,
      "metadata": {
        "colab": {
          "base_uri": "https://localhost:8080/"
        },
        "id": "x5zeg6QSiir8",
        "outputId": "946fc246-d48c-4d56-c971-744f9eb62bcc"
      },
      "outputs": [
        {
          "output_type": "stream",
          "name": "stdout",
          "text": [
            "Element is present at index 3\n"
          ]
        }
      ],
      "source": [
        "#1.Python Program for Linear Search Iterative Approach\n",
        "\n",
        "def linear_search(arr, x):\n",
        "\n",
        "  for i in range(len(arr)):\n",
        "    if arr[i] == x:\n",
        "      return i\n",
        "  return -1\n",
        "\n",
        "\n",
        "my_list = [2, 4, 0, 1, 9]\n",
        "target = 1\n",
        "result = linear_search(my_list, target)\n",
        "\n",
        "if result != -1:\n",
        "  print(\"Element is present at index\", str(result))\n",
        "else:\n",
        "  print(\"Element is not present in array\")"
      ]
    },
    {
      "cell_type": "code",
      "source": [
        "#2.Python program for implementation of Bubble Sort\n",
        "\n",
        "def bubble_sort(arr):\n",
        "    n = len(arr)\n",
        "    for i in range(n-1):\n",
        "        for j in range(0, n-i-1):\n",
        "            if arr[j] > arr[j + 1] :\n",
        "                arr[j], arr[j + 1] = arr[j + 1], arr[j]\n",
        "    return arr\n",
        "\n",
        "my_array = [14, 53, 25, 27, 11, 40]\n",
        "sorted_array = bubble_sort(my_array)\n",
        "print(\"Sorted array:\", sorted_array)"
      ],
      "metadata": {
        "colab": {
          "base_uri": "https://localhost:8080/"
        },
        "id": "NHBN3pKmi8eu",
        "outputId": "c2e53eba-84d1-4b8e-8558-cf46f26ed731"
      },
      "execution_count": 9,
      "outputs": [
        {
          "output_type": "stream",
          "name": "stdout",
          "text": [
            "Sorted array: [11, 14, 25, 27, 40, 53]\n"
          ]
        }
      ]
    },
    {
      "cell_type": "code",
      "source": [
        "#3.Python Program for Insertion Sort\n",
        "\n",
        "def insertion_sort(arr):\n",
        "    for i in range(1, len(arr)):\n",
        "        key = arr[i]\n",
        "        j = i-1\n",
        "        while j >=0 and key < arr[j] :\n",
        "                arr[j+1] = arr[j]\n",
        "                j -= 1\n",
        "        arr[j+1] = key\n",
        "    return arr\n",
        "\n",
        "sorted_array = insertion_sort(my_array)\n",
        "print(\"Sorted array:\", sorted_array)"
      ],
      "metadata": {
        "colab": {
          "base_uri": "https://localhost:8080/"
        },
        "id": "7efXbsJSlY-_",
        "outputId": "b9b53c15-8e0c-4079-8e8c-858bf69da885"
      },
      "execution_count": 11,
      "outputs": [
        {
          "output_type": "stream",
          "name": "stdout",
          "text": [
            "Sorted array: [11, 14, 25, 27, 40, 53]\n"
          ]
        }
      ]
    },
    {
      "cell_type": "code",
      "source": [
        "#4.Python Program for Recursive Insertion Sort\n",
        "\n",
        "def insertion_sort_recursive(arr, n):\n",
        "    if n <= 1:\n",
        "        return\n",
        "\n",
        "    insertion_sort_recursive(arr, n - 1)\n",
        "    last = arr[n - 1]\n",
        "    j = n - 2\n",
        "\n",
        "    while (j >= 0 and arr[j] > last):\n",
        "        arr[j + 1] = arr[j]\n",
        "        j = j - 1\n",
        "\n",
        "    arr[j + 1] = last\n",
        "\n",
        "my_array = [14, 53, 25, 27, 11, 40]\n",
        "insertion_sort_recursive(my_array, len(my_array))\n",
        "print(\"Sorted array:\", my_array)"
      ],
      "metadata": {
        "colab": {
          "base_uri": "https://localhost:8080/"
        },
        "id": "aayKz0q-lfGy",
        "outputId": "815883bb-2173-4b5d-aef1-0ac3f33869b4"
      },
      "execution_count": 15,
      "outputs": [
        {
          "output_type": "stream",
          "name": "stdout",
          "text": [
            "Sorted array: [11, 14, 25, 27, 40, 53]\n"
          ]
        }
      ]
    },
    {
      "cell_type": "code",
      "source": [
        "#5.Python program for linear search\n",
        "\n",
        "def linear_search(arr, x):\n",
        "    for i in range(len(arr)):\n",
        "        print(f\"Checking element at index {i}: {arr[i]}\")  # Print current element\n",
        "        if arr[i] == x:\n",
        "            return i\n",
        "    return -1\n",
        "\n",
        "my_list = [2, 4, 0, 1, 9]\n",
        "target = 1\n",
        "result = linear_search(my_list, target)\n",
        "\n",
        "if result != -1:\n",
        "    print(\"Element is present at index\", str(result))\n",
        "else:\n",
        "    print(\"Element is not present in array\")"
      ],
      "metadata": {
        "colab": {
          "base_uri": "https://localhost:8080/"
        },
        "id": "zwN183fqlity",
        "outputId": "91136030-83c7-41cf-ae30-45da33f1c37d"
      },
      "execution_count": 16,
      "outputs": [
        {
          "output_type": "stream",
          "name": "stdout",
          "text": [
            "Checking element at index 0: 2\n",
            "Checking element at index 1: 4\n",
            "Checking element at index 2: 0\n",
            "Checking element at index 3: 1\n",
            "Element is present at index 3\n"
          ]
        }
      ]
    },
    {
      "cell_type": "code",
      "source": [
        "#6.Python program to compute the eigenvalues and right eigenvectors of a given square array using NumPY\n",
        "\n",
        "import numpy as np\n",
        "\n",
        "def compute_eigenvalues_eigenvectors(array):\n",
        "   try:\n",
        "        eigenvalues, eigenvectors = np.linalg.eig(array)\n",
        "        return eigenvalues, eigenvectors\n",
        "   except np.linalg.LinAlgError:\n",
        "        print(\"Error: Input array is not a valid square array.\")\n",
        "        return None\n",
        "\n",
        "\n",
        "square_array = np.array([[1, 2], [3, 4]])\n",
        "results = compute_eigenvalues_eigenvectors(square_array)\n",
        "\n",
        "if results:\n",
        "  eigenvalues, eigenvectors = results\n",
        "  print(\"Eigenvalues:\", eigenvalues)\n",
        "  print(\"Eigenvectors:\\n\", eigenvectors)"
      ],
      "metadata": {
        "colab": {
          "base_uri": "https://localhost:8080/"
        },
        "id": "TUeJhEdtlrB4",
        "outputId": "5bd1b6b8-98c0-469f-988f-938081c36ba2"
      },
      "execution_count": 21,
      "outputs": [
        {
          "output_type": "stream",
          "name": "stdout",
          "text": [
            "Eigenvalues: [-0.37228132  5.37228132]\n",
            "Eigenvectors:\n",
            " [[-0.82456484 -0.41597356]\n",
            " [ 0.56576746 -0.90937671]]\n"
          ]
        }
      ]
    },
    {
      "cell_type": "code",
      "source": [
        "#7.Python program to acess Data Along Multiple Dimensions Arrays in Python Numpy\n",
        "\n",
        "import numpy as np\n",
        "\n",
        "def access_elements(arr, indices):\n",
        "\n",
        "    try:\n",
        "        element = arr[indices]\n",
        "        return element\n",
        "    except IndexError:\n",
        "        print(\"Invalid indices provided.\")\n",
        "        return None\n",
        "\n",
        "my_array = np.array([[[1, 2, 3], [4, 5, 6]], [[7, 8, 9], [10, 11, 12]]])\n",
        "\n",
        "element_1 = access_elements(my_array, (0, 1, 2))\n",
        "print(f\"Element at (0,1,2): {element_1}\")\n",
        "\n",
        "element_2 = access_elements(my_array, (1, 0, 1))\n",
        "print(f\"Element at (1,0,1): {element_2}\")\n",
        "\n",
        "element_3 = access_elements(my_array, (2, 0, 0))\n",
        "print(f\"Element at (2,0,0): {element_3}\")"
      ],
      "metadata": {
        "colab": {
          "base_uri": "https://localhost:8080/"
        },
        "id": "PLjFVRM3l16z",
        "outputId": "f889b30c-f4d0-4bf2-cf31-76327229e25f"
      },
      "execution_count": 22,
      "outputs": [
        {
          "output_type": "stream",
          "name": "stdout",
          "text": [
            "Element at (0,1,2): 6\n",
            "Element at (1,0,1): 8\n",
            "Invalid indices provided.\n",
            "Element at (2,0,0): None\n"
          ]
        }
      ]
    },
    {
      "cell_type": "code",
      "source": [
        "#8.Python Pandas program for Merging, Joining, and Concatenating\n",
        "\n",
        "import pandas as pd\n",
        "\n",
        "data1 = {'key': ['K0', 'K1', 'K2', 'K3'],\n",
        "         'A': ['A0', 'A1', 'A2', 'A3'],\n",
        "         'B': ['B0', 'B1', 'B2', 'B3']}\n",
        "df1 = pd.DataFrame(data1)\n",
        "\n",
        "\n",
        "data2 = {'key': ['K0', 'K1', 'K2', 'K3'],\n",
        "         'C': ['C0', 'C1', 'C2', 'C3'],\n",
        "         'D': ['D0', 'D1', 'D2', 'D3']}\n",
        "df2 = pd.DataFrame(data2)\n",
        "\n",
        "merged_df = pd.merge(df1, df2, on='key')\n",
        "print(\"Merged DataFrame:\")\n",
        "print(merged_df)\n",
        "\n",
        "\n",
        "joined_df = df1.join(df2.set_index('key'), on='key')\n",
        "print(\"\\nJoined DataFrame:\")\n",
        "print(joined_df)\n",
        "\n",
        "concatenated_df = pd.concat([df1, df2], axis=0, ignore_index=True)\n",
        "print(\"\\nConcatenated DataFrame:\")\n",
        "concatenated_df"
      ],
      "metadata": {
        "colab": {
          "base_uri": "https://localhost:8080/",
          "height": 568
        },
        "id": "LbQbQR5pwT1z",
        "outputId": "1472fc8d-be49-4bba-9116-8e508bf36840"
      },
      "execution_count": 25,
      "outputs": [
        {
          "output_type": "stream",
          "name": "stdout",
          "text": [
            "Merged DataFrame:\n",
            "  key   A   B   C   D\n",
            "0  K0  A0  B0  C0  D0\n",
            "1  K1  A1  B1  C1  D1\n",
            "2  K2  A2  B2  C2  D2\n",
            "3  K3  A3  B3  C3  D3\n",
            "\n",
            "Joined DataFrame:\n",
            "  key   A   B   C   D\n",
            "0  K0  A0  B0  C0  D0\n",
            "1  K1  A1  B1  C1  D1\n",
            "2  K2  A2  B2  C2  D2\n",
            "3  K3  A3  B3  C3  D3\n",
            "\n",
            "Concatenated DataFrame:\n"
          ]
        },
        {
          "output_type": "execute_result",
          "data": {
            "text/plain": [
              "  key    A    B    C    D\n",
              "0  K0   A0   B0  NaN  NaN\n",
              "1  K1   A1   B1  NaN  NaN\n",
              "2  K2   A2   B2  NaN  NaN\n",
              "3  K3   A3   B3  NaN  NaN\n",
              "4  K0  NaN  NaN   C0   D0\n",
              "5  K1  NaN  NaN   C1   D1\n",
              "6  K2  NaN  NaN   C2   D2\n",
              "7  K3  NaN  NaN   C3   D3"
            ],
            "text/html": [
              "\n",
              "  <div id=\"df-72a9a25d-8324-4ab0-aaa0-19337445efeb\" class=\"colab-df-container\">\n",
              "    <div>\n",
              "<style scoped>\n",
              "    .dataframe tbody tr th:only-of-type {\n",
              "        vertical-align: middle;\n",
              "    }\n",
              "\n",
              "    .dataframe tbody tr th {\n",
              "        vertical-align: top;\n",
              "    }\n",
              "\n",
              "    .dataframe thead th {\n",
              "        text-align: right;\n",
              "    }\n",
              "</style>\n",
              "<table border=\"1\" class=\"dataframe\">\n",
              "  <thead>\n",
              "    <tr style=\"text-align: right;\">\n",
              "      <th></th>\n",
              "      <th>key</th>\n",
              "      <th>A</th>\n",
              "      <th>B</th>\n",
              "      <th>C</th>\n",
              "      <th>D</th>\n",
              "    </tr>\n",
              "  </thead>\n",
              "  <tbody>\n",
              "    <tr>\n",
              "      <th>0</th>\n",
              "      <td>K0</td>\n",
              "      <td>A0</td>\n",
              "      <td>B0</td>\n",
              "      <td>NaN</td>\n",
              "      <td>NaN</td>\n",
              "    </tr>\n",
              "    <tr>\n",
              "      <th>1</th>\n",
              "      <td>K1</td>\n",
              "      <td>A1</td>\n",
              "      <td>B1</td>\n",
              "      <td>NaN</td>\n",
              "      <td>NaN</td>\n",
              "    </tr>\n",
              "    <tr>\n",
              "      <th>2</th>\n",
              "      <td>K2</td>\n",
              "      <td>A2</td>\n",
              "      <td>B2</td>\n",
              "      <td>NaN</td>\n",
              "      <td>NaN</td>\n",
              "    </tr>\n",
              "    <tr>\n",
              "      <th>3</th>\n",
              "      <td>K3</td>\n",
              "      <td>A3</td>\n",
              "      <td>B3</td>\n",
              "      <td>NaN</td>\n",
              "      <td>NaN</td>\n",
              "    </tr>\n",
              "    <tr>\n",
              "      <th>4</th>\n",
              "      <td>K0</td>\n",
              "      <td>NaN</td>\n",
              "      <td>NaN</td>\n",
              "      <td>C0</td>\n",
              "      <td>D0</td>\n",
              "    </tr>\n",
              "    <tr>\n",
              "      <th>5</th>\n",
              "      <td>K1</td>\n",
              "      <td>NaN</td>\n",
              "      <td>NaN</td>\n",
              "      <td>C1</td>\n",
              "      <td>D1</td>\n",
              "    </tr>\n",
              "    <tr>\n",
              "      <th>6</th>\n",
              "      <td>K2</td>\n",
              "      <td>NaN</td>\n",
              "      <td>NaN</td>\n",
              "      <td>C2</td>\n",
              "      <td>D2</td>\n",
              "    </tr>\n",
              "    <tr>\n",
              "      <th>7</th>\n",
              "      <td>K3</td>\n",
              "      <td>NaN</td>\n",
              "      <td>NaN</td>\n",
              "      <td>C3</td>\n",
              "      <td>D3</td>\n",
              "    </tr>\n",
              "  </tbody>\n",
              "</table>\n",
              "</div>\n",
              "    <div class=\"colab-df-buttons\">\n",
              "\n",
              "  <div class=\"colab-df-container\">\n",
              "    <button class=\"colab-df-convert\" onclick=\"convertToInteractive('df-72a9a25d-8324-4ab0-aaa0-19337445efeb')\"\n",
              "            title=\"Convert this dataframe to an interactive table.\"\n",
              "            style=\"display:none;\">\n",
              "\n",
              "  <svg xmlns=\"http://www.w3.org/2000/svg\" height=\"24px\" viewBox=\"0 -960 960 960\">\n",
              "    <path d=\"M120-120v-720h720v720H120Zm60-500h600v-160H180v160Zm220 220h160v-160H400v160Zm0 220h160v-160H400v160ZM180-400h160v-160H180v160Zm440 0h160v-160H620v160ZM180-180h160v-160H180v160Zm440 0h160v-160H620v160Z\"/>\n",
              "  </svg>\n",
              "    </button>\n",
              "\n",
              "  <style>\n",
              "    .colab-df-container {\n",
              "      display:flex;\n",
              "      gap: 12px;\n",
              "    }\n",
              "\n",
              "    .colab-df-convert {\n",
              "      background-color: #E8F0FE;\n",
              "      border: none;\n",
              "      border-radius: 50%;\n",
              "      cursor: pointer;\n",
              "      display: none;\n",
              "      fill: #1967D2;\n",
              "      height: 32px;\n",
              "      padding: 0 0 0 0;\n",
              "      width: 32px;\n",
              "    }\n",
              "\n",
              "    .colab-df-convert:hover {\n",
              "      background-color: #E2EBFA;\n",
              "      box-shadow: 0px 1px 2px rgba(60, 64, 67, 0.3), 0px 1px 3px 1px rgba(60, 64, 67, 0.15);\n",
              "      fill: #174EA6;\n",
              "    }\n",
              "\n",
              "    .colab-df-buttons div {\n",
              "      margin-bottom: 4px;\n",
              "    }\n",
              "\n",
              "    [theme=dark] .colab-df-convert {\n",
              "      background-color: #3B4455;\n",
              "      fill: #D2E3FC;\n",
              "    }\n",
              "\n",
              "    [theme=dark] .colab-df-convert:hover {\n",
              "      background-color: #434B5C;\n",
              "      box-shadow: 0px 1px 3px 1px rgba(0, 0, 0, 0.15);\n",
              "      filter: drop-shadow(0px 1px 2px rgba(0, 0, 0, 0.3));\n",
              "      fill: #FFFFFF;\n",
              "    }\n",
              "  </style>\n",
              "\n",
              "    <script>\n",
              "      const buttonEl =\n",
              "        document.querySelector('#df-72a9a25d-8324-4ab0-aaa0-19337445efeb button.colab-df-convert');\n",
              "      buttonEl.style.display =\n",
              "        google.colab.kernel.accessAllowed ? 'block' : 'none';\n",
              "\n",
              "      async function convertToInteractive(key) {\n",
              "        const element = document.querySelector('#df-72a9a25d-8324-4ab0-aaa0-19337445efeb');\n",
              "        const dataTable =\n",
              "          await google.colab.kernel.invokeFunction('convertToInteractive',\n",
              "                                                    [key], {});\n",
              "        if (!dataTable) return;\n",
              "\n",
              "        const docLinkHtml = 'Like what you see? Visit the ' +\n",
              "          '<a target=\"_blank\" href=https://colab.research.google.com/notebooks/data_table.ipynb>data table notebook</a>'\n",
              "          + ' to learn more about interactive tables.';\n",
              "        element.innerHTML = '';\n",
              "        dataTable['output_type'] = 'display_data';\n",
              "        await google.colab.output.renderOutput(dataTable, element);\n",
              "        const docLink = document.createElement('div');\n",
              "        docLink.innerHTML = docLinkHtml;\n",
              "        element.appendChild(docLink);\n",
              "      }\n",
              "    </script>\n",
              "  </div>\n",
              "\n",
              "\n",
              "<div id=\"df-8e1fb24a-6f3b-444d-942c-4f54819f80e9\">\n",
              "  <button class=\"colab-df-quickchart\" onclick=\"quickchart('df-8e1fb24a-6f3b-444d-942c-4f54819f80e9')\"\n",
              "            title=\"Suggest charts\"\n",
              "            style=\"display:none;\">\n",
              "\n",
              "<svg xmlns=\"http://www.w3.org/2000/svg\" height=\"24px\"viewBox=\"0 0 24 24\"\n",
              "     width=\"24px\">\n",
              "    <g>\n",
              "        <path d=\"M19 3H5c-1.1 0-2 .9-2 2v14c0 1.1.9 2 2 2h14c1.1 0 2-.9 2-2V5c0-1.1-.9-2-2-2zM9 17H7v-7h2v7zm4 0h-2V7h2v10zm4 0h-2v-4h2v4z\"/>\n",
              "    </g>\n",
              "</svg>\n",
              "  </button>\n",
              "\n",
              "<style>\n",
              "  .colab-df-quickchart {\n",
              "      --bg-color: #E8F0FE;\n",
              "      --fill-color: #1967D2;\n",
              "      --hover-bg-color: #E2EBFA;\n",
              "      --hover-fill-color: #174EA6;\n",
              "      --disabled-fill-color: #AAA;\n",
              "      --disabled-bg-color: #DDD;\n",
              "  }\n",
              "\n",
              "  [theme=dark] .colab-df-quickchart {\n",
              "      --bg-color: #3B4455;\n",
              "      --fill-color: #D2E3FC;\n",
              "      --hover-bg-color: #434B5C;\n",
              "      --hover-fill-color: #FFFFFF;\n",
              "      --disabled-bg-color: #3B4455;\n",
              "      --disabled-fill-color: #666;\n",
              "  }\n",
              "\n",
              "  .colab-df-quickchart {\n",
              "    background-color: var(--bg-color);\n",
              "    border: none;\n",
              "    border-radius: 50%;\n",
              "    cursor: pointer;\n",
              "    display: none;\n",
              "    fill: var(--fill-color);\n",
              "    height: 32px;\n",
              "    padding: 0;\n",
              "    width: 32px;\n",
              "  }\n",
              "\n",
              "  .colab-df-quickchart:hover {\n",
              "    background-color: var(--hover-bg-color);\n",
              "    box-shadow: 0 1px 2px rgba(60, 64, 67, 0.3), 0 1px 3px 1px rgba(60, 64, 67, 0.15);\n",
              "    fill: var(--button-hover-fill-color);\n",
              "  }\n",
              "\n",
              "  .colab-df-quickchart-complete:disabled,\n",
              "  .colab-df-quickchart-complete:disabled:hover {\n",
              "    background-color: var(--disabled-bg-color);\n",
              "    fill: var(--disabled-fill-color);\n",
              "    box-shadow: none;\n",
              "  }\n",
              "\n",
              "  .colab-df-spinner {\n",
              "    border: 2px solid var(--fill-color);\n",
              "    border-color: transparent;\n",
              "    border-bottom-color: var(--fill-color);\n",
              "    animation:\n",
              "      spin 1s steps(1) infinite;\n",
              "  }\n",
              "\n",
              "  @keyframes spin {\n",
              "    0% {\n",
              "      border-color: transparent;\n",
              "      border-bottom-color: var(--fill-color);\n",
              "      border-left-color: var(--fill-color);\n",
              "    }\n",
              "    20% {\n",
              "      border-color: transparent;\n",
              "      border-left-color: var(--fill-color);\n",
              "      border-top-color: var(--fill-color);\n",
              "    }\n",
              "    30% {\n",
              "      border-color: transparent;\n",
              "      border-left-color: var(--fill-color);\n",
              "      border-top-color: var(--fill-color);\n",
              "      border-right-color: var(--fill-color);\n",
              "    }\n",
              "    40% {\n",
              "      border-color: transparent;\n",
              "      border-right-color: var(--fill-color);\n",
              "      border-top-color: var(--fill-color);\n",
              "    }\n",
              "    60% {\n",
              "      border-color: transparent;\n",
              "      border-right-color: var(--fill-color);\n",
              "    }\n",
              "    80% {\n",
              "      border-color: transparent;\n",
              "      border-right-color: var(--fill-color);\n",
              "      border-bottom-color: var(--fill-color);\n",
              "    }\n",
              "    90% {\n",
              "      border-color: transparent;\n",
              "      border-bottom-color: var(--fill-color);\n",
              "    }\n",
              "  }\n",
              "</style>\n",
              "\n",
              "  <script>\n",
              "    async function quickchart(key) {\n",
              "      const quickchartButtonEl =\n",
              "        document.querySelector('#' + key + ' button');\n",
              "      quickchartButtonEl.disabled = true;  // To prevent multiple clicks.\n",
              "      quickchartButtonEl.classList.add('colab-df-spinner');\n",
              "      try {\n",
              "        const charts = await google.colab.kernel.invokeFunction(\n",
              "            'suggestCharts', [key], {});\n",
              "      } catch (error) {\n",
              "        console.error('Error during call to suggestCharts:', error);\n",
              "      }\n",
              "      quickchartButtonEl.classList.remove('colab-df-spinner');\n",
              "      quickchartButtonEl.classList.add('colab-df-quickchart-complete');\n",
              "    }\n",
              "    (() => {\n",
              "      let quickchartButtonEl =\n",
              "        document.querySelector('#df-8e1fb24a-6f3b-444d-942c-4f54819f80e9 button');\n",
              "      quickchartButtonEl.style.display =\n",
              "        google.colab.kernel.accessAllowed ? 'block' : 'none';\n",
              "    })();\n",
              "  </script>\n",
              "</div>\n",
              "\n",
              "  <div id=\"id_84962da7-9ce4-4579-86fd-119ea45ece03\">\n",
              "    <style>\n",
              "      .colab-df-generate {\n",
              "        background-color: #E8F0FE;\n",
              "        border: none;\n",
              "        border-radius: 50%;\n",
              "        cursor: pointer;\n",
              "        display: none;\n",
              "        fill: #1967D2;\n",
              "        height: 32px;\n",
              "        padding: 0 0 0 0;\n",
              "        width: 32px;\n",
              "      }\n",
              "\n",
              "      .colab-df-generate:hover {\n",
              "        background-color: #E2EBFA;\n",
              "        box-shadow: 0px 1px 2px rgba(60, 64, 67, 0.3), 0px 1px 3px 1px rgba(60, 64, 67, 0.15);\n",
              "        fill: #174EA6;\n",
              "      }\n",
              "\n",
              "      [theme=dark] .colab-df-generate {\n",
              "        background-color: #3B4455;\n",
              "        fill: #D2E3FC;\n",
              "      }\n",
              "\n",
              "      [theme=dark] .colab-df-generate:hover {\n",
              "        background-color: #434B5C;\n",
              "        box-shadow: 0px 1px 3px 1px rgba(0, 0, 0, 0.15);\n",
              "        filter: drop-shadow(0px 1px 2px rgba(0, 0, 0, 0.3));\n",
              "        fill: #FFFFFF;\n",
              "      }\n",
              "    </style>\n",
              "    <button class=\"colab-df-generate\" onclick=\"generateWithVariable('concatenated_df')\"\n",
              "            title=\"Generate code using this dataframe.\"\n",
              "            style=\"display:none;\">\n",
              "\n",
              "  <svg xmlns=\"http://www.w3.org/2000/svg\" height=\"24px\"viewBox=\"0 0 24 24\"\n",
              "       width=\"24px\">\n",
              "    <path d=\"M7,19H8.4L18.45,9,17,7.55,7,17.6ZM5,21V16.75L18.45,3.32a2,2,0,0,1,2.83,0l1.4,1.43a1.91,1.91,0,0,1,.58,1.4,1.91,1.91,0,0,1-.58,1.4L9.25,21ZM18.45,9,17,7.55Zm-12,3A5.31,5.31,0,0,0,4.9,8.1,5.31,5.31,0,0,0,1,6.5,5.31,5.31,0,0,0,4.9,4.9,5.31,5.31,0,0,0,6.5,1,5.31,5.31,0,0,0,8.1,4.9,5.31,5.31,0,0,0,12,6.5,5.46,5.46,0,0,0,6.5,12Z\"/>\n",
              "  </svg>\n",
              "    </button>\n",
              "    <script>\n",
              "      (() => {\n",
              "      const buttonEl =\n",
              "        document.querySelector('#id_84962da7-9ce4-4579-86fd-119ea45ece03 button.colab-df-generate');\n",
              "      buttonEl.style.display =\n",
              "        google.colab.kernel.accessAllowed ? 'block' : 'none';\n",
              "\n",
              "      buttonEl.onclick = () => {\n",
              "        google.colab.notebook.generateWithVariable('concatenated_df');\n",
              "      }\n",
              "      })();\n",
              "    </script>\n",
              "  </div>\n",
              "\n",
              "    </div>\n",
              "  </div>\n"
            ],
            "application/vnd.google.colaboratory.intrinsic+json": {
              "type": "dataframe",
              "variable_name": "concatenated_df",
              "summary": "{\n  \"name\": \"concatenated_df\",\n  \"rows\": 8,\n  \"fields\": [\n    {\n      \"column\": \"key\",\n      \"properties\": {\n        \"dtype\": \"string\",\n        \"num_unique_values\": 4,\n        \"samples\": [\n          \"K1\",\n          \"K3\",\n          \"K0\"\n        ],\n        \"semantic_type\": \"\",\n        \"description\": \"\"\n      }\n    },\n    {\n      \"column\": \"A\",\n      \"properties\": {\n        \"dtype\": \"string\",\n        \"num_unique_values\": 4,\n        \"samples\": [\n          \"A1\",\n          \"A3\",\n          \"A0\"\n        ],\n        \"semantic_type\": \"\",\n        \"description\": \"\"\n      }\n    },\n    {\n      \"column\": \"B\",\n      \"properties\": {\n        \"dtype\": \"string\",\n        \"num_unique_values\": 4,\n        \"samples\": [\n          \"B1\",\n          \"B3\",\n          \"B0\"\n        ],\n        \"semantic_type\": \"\",\n        \"description\": \"\"\n      }\n    },\n    {\n      \"column\": \"C\",\n      \"properties\": {\n        \"dtype\": \"string\",\n        \"num_unique_values\": 4,\n        \"samples\": [\n          \"C1\",\n          \"C3\",\n          \"C0\"\n        ],\n        \"semantic_type\": \"\",\n        \"description\": \"\"\n      }\n    },\n    {\n      \"column\": \"D\",\n      \"properties\": {\n        \"dtype\": \"string\",\n        \"num_unique_values\": 4,\n        \"samples\": [\n          \"D1\",\n          \"D3\",\n          \"D0\"\n        ],\n        \"semantic_type\": \"\",\n        \"description\": \"\"\n      }\n    }\n  ]\n}"
            }
          },
          "metadata": {},
          "execution_count": 25
        }
      ]
    },
    {
      "cell_type": "code",
      "source": [
        "#9.Python program to demonstrate stack implementation using list\n",
        "\n",
        "class Stack:\n",
        "    def __init__(self):\n",
        "        self.items = []\n",
        "\n",
        "    def is_empty(self):\n",
        "        return len(self.items) == 0\n",
        "\n",
        "    def push(self, item):\n",
        "        self.items.append(item)\n",
        "\n",
        "    def pop(self):\n",
        "        if not self.is_empty():\n",
        "            return self.items.pop()\n",
        "        else:\n",
        "            raise IndexError(\"Stack is empty\")\n",
        "\n",
        "\n",
        "stack = Stack()\n",
        "stack.push(10)\n",
        "stack.push(20)\n",
        "stack.push(30)\n",
        "\n",
        "print(stack.pop())\n",
        "print(stack.is_empty())\n",
        "print(stack.pop())\n",
        "print(stack.pop())\n",
        "print(stack.is_empty())"
      ],
      "metadata": {
        "colab": {
          "base_uri": "https://localhost:8080/"
        },
        "id": "wy23TfQExn3a",
        "outputId": "8d13183e-5be6-4355-f094-17142079fe71"
      },
      "execution_count": 27,
      "outputs": [
        {
          "output_type": "stream",
          "name": "stdout",
          "text": [
            "30\n",
            "False\n",
            "20\n",
            "10\n",
            "True\n"
          ]
        }
      ]
    },
    {
      "cell_type": "code",
      "source": [
        "#10.Python program to demonstrate stack implementation using queue module\n",
        "\n",
        "from queue import LifoQueue\n",
        "\n",
        "stack = LifoQueue()\n",
        "\n",
        "stack.put(10)\n",
        "stack.put(20)\n",
        "stack.put(30)\n",
        "\n",
        "print(stack.get())\n",
        "print(stack.qsize())\n",
        "print(stack.get())"
      ],
      "metadata": {
        "colab": {
          "base_uri": "https://localhost:8080/"
        },
        "id": "ojf1mchlxoYN",
        "outputId": "fc7dc923-df19-4b70-b5cb-f43650e72e0e"
      },
      "execution_count": 28,
      "outputs": [
        {
          "output_type": "stream",
          "name": "stdout",
          "text": [
            "30\n",
            "2\n",
            "20\n"
          ]
        }
      ]
    },
    {
      "cell_type": "code",
      "source": [
        "#11.Python program to implement queue\n",
        "\n",
        "from queue import Queue\n",
        "\n",
        "my_queue = Queue()\n",
        "\n",
        "my_queue.put(10)\n",
        "my_queue.put(20)\n",
        "my_queue.put(30)\n",
        "\n",
        "print(my_queue.get())\n",
        "print(my_queue.get())\n",
        "\n",
        "print(my_queue.qsize())\n",
        "\n",
        "print(my_queue.empty())\n",
        "\n",
        "print(my_queue.get())\n",
        "\n",
        "print(my_queue.empty())"
      ],
      "metadata": {
        "colab": {
          "base_uri": "https://localhost:8080/"
        },
        "id": "P2tH8jbixt6w",
        "outputId": "aa10da7a-03c0-4fd5-8b6b-c90344cde74f"
      },
      "execution_count": 29,
      "outputs": [
        {
          "output_type": "stream",
          "name": "stdout",
          "text": [
            "10\n",
            "20\n",
            "1\n",
            "False\n",
            "30\n",
            "True\n"
          ]
        }
      ]
    },
    {
      "cell_type": "code",
      "source": [
        "#12.Python Program to Sort Words in Alphabetic Order\n",
        "\n",
        "def sort_words(words):\n",
        "    return sorted(words)\n",
        "\n",
        "my_words = [\"banana\", \"apple\", \"mango\", \"orange\"]\n",
        "sorted_words = sort_words(my_words)\n",
        "print(\"Sorted words:\", sorted_words)"
      ],
      "metadata": {
        "colab": {
          "base_uri": "https://localhost:8080/"
        },
        "id": "KBwKyB9dy_k8",
        "outputId": "afbe951d-6015-4306-d42a-aa96266c2ca1"
      },
      "execution_count": 31,
      "outputs": [
        {
          "output_type": "stream",
          "name": "stdout",
          "text": [
            "Sorted words: ['apple', 'banana', 'mango', 'orange']\n"
          ]
        }
      ]
    },
    {
      "cell_type": "code",
      "source": [
        "#13.Python Program to Transpose a Matrix\n",
        "\n",
        "import numpy as np\n",
        "\n",
        "def transpose_matrix(matrix):\n",
        "    rows = len(matrix)\n",
        "    cols = len(matrix[0]) if rows > 0 else 0\n",
        "    transposed_matrix = [[0 for _ in range(rows)] for _ in range(cols)]\n",
        "    for i in range(rows):\n",
        "        for j in range(cols):\n",
        "            transposed_matrix[j][i] = matrix[i][j]\n",
        "    return transposed_matrix\n",
        "\n",
        "matrix = [[1, 2, 3], [4, 5, 6]]\n",
        "transposed = transpose_matrix(matrix)\n",
        "print(\"Original matrix:\")\n",
        "for row in matrix:\n",
        "    print(row)\n",
        "print(\"\\nTransposed matrix:\")\n",
        "for row in transposed:\n",
        "    print(row)\n",
        "\n",
        "matrix = np.array([[1,2,3],[4,5,6]])\n",
        "print(matrix.transpose())"
      ],
      "metadata": {
        "colab": {
          "base_uri": "https://localhost:8080/"
        },
        "id": "5C3SbUguzQ06",
        "outputId": "fcb35951-287b-4792-8431-20b7b8ce9bc2"
      },
      "execution_count": 32,
      "outputs": [
        {
          "output_type": "stream",
          "name": "stdout",
          "text": [
            "Original matrix:\n",
            "[1, 2, 3]\n",
            "[4, 5, 6]\n",
            "\n",
            "Transposed matrix:\n",
            "[1, 4]\n",
            "[2, 5]\n",
            "[3, 6]\n",
            "[[1 4]\n",
            " [2 5]\n",
            " [3 6]]\n"
          ]
        }
      ]
    },
    {
      "cell_type": "code",
      "source": [
        "#14.Python Program to Remove Punctuations From a String\n",
        "\n",
        "import string\n",
        "\n",
        "def remove_punctuation(input_string):\n",
        "    translator = str.maketrans('', '', string.punctuation)\n",
        "    return input_string.translate(translator)\n",
        "\n",
        "text = \"Hello, world! This is a string with punctuation.\"\n",
        "cleaned_text = remove_punctuation(text)\n",
        "print(cleaned_text)"
      ],
      "metadata": {
        "colab": {
          "base_uri": "https://localhost:8080/"
        },
        "id": "cmq3ym0OzQqw",
        "outputId": "ee4123c6-0218-414d-c5f5-1e21970bc6c2"
      },
      "execution_count": 34,
      "outputs": [
        {
          "output_type": "stream",
          "name": "stdout",
          "text": [
            "Hello world This is a string with punctuation\n"
          ]
        }
      ]
    },
    {
      "cell_type": "code",
      "source": [
        "#15.Python Program to Copy a File\n",
        "\n",
        "import shutil\n",
        "\n",
        "def copy_file(source_path, destination_path):\n",
        "    try:\n",
        "        shutil.copy2(source_path, destination_path)\n",
        "        print(f\"File '{source_path}' copied successfully to '{destination_path}'\")\n",
        "    except FileNotFoundError:\n",
        "        print(f\"Error: Source file '{source_path}' not found.\")\n",
        "    except PermissionError:\n",
        "        print(f\"Error: Permission denied when copying to '{destination_path}'\")\n",
        "    except Exception as e:\n",
        "        print(f\"An error occurred: {e}\")\n",
        "\n",
        "source_file = \"/content/drive/MyDrive/Python Programming/source.txt\"\n",
        "destination_file = \"/content/drive/MyDrive/Python Programming/destination.txt\"\n",
        "\n",
        "copy_file(source_file, destination_file)"
      ],
      "metadata": {
        "colab": {
          "base_uri": "https://localhost:8080/"
        },
        "id": "F7qorOdHz2p1",
        "outputId": "3740e634-6594-4a46-9f55-feba8b6cc099"
      },
      "execution_count": 40,
      "outputs": [
        {
          "output_type": "stream",
          "name": "stdout",
          "text": [
            "File '/content/drive/MyDrive/Python Programming/source.txt' copied successfully to '/content/drive/MyDrive/Python Programming/destination.txt'\n"
          ]
        }
      ]
    },
    {
      "cell_type": "code",
      "source": [
        "#16.Python Program to Concatenate Two Lists\n",
        "\n",
        "def concatenate_lists(list1, list2):\n",
        "    return list1 + list2\n",
        "\n",
        "list1 = [1, 2, 3]\n",
        "list2 = [4, 5, 6]\n",
        "concatenated_list = concatenate_lists(list1, list2)\n",
        "print(concatenated_list)"
      ],
      "metadata": {
        "colab": {
          "base_uri": "https://localhost:8080/"
        },
        "id": "joijw9j9z2nP",
        "outputId": "0d6e7932-2dca-4fc3-b9cb-d16ae995d5e9"
      },
      "execution_count": 41,
      "outputs": [
        {
          "output_type": "stream",
          "name": "stdout",
          "text": [
            "[1, 2, 3, 4, 5, 6]\n"
          ]
        }
      ]
    },
    {
      "cell_type": "code",
      "source": [
        "#17.Python Program to Check if a Key is Already Present in a Dictionary\n",
        "\n",
        "def check_key(dict, key):\n",
        "    if key in dict:\n",
        "        print(\"Key is present in the dictionary.\")\n",
        "    else:\n",
        "        print(\"Key is not present in the dictionary.\")\n",
        "\n",
        "my_dict = {\"name\": \"Alice\", \"age\": 30, \"city\": \"New York\"}\n",
        "key_to_check = \"age\"\n",
        "\n",
        "check_key(my_dict, key_to_check)\n",
        "key_to_check = \"country\"\n",
        "check_key(my_dict, key_to_check)"
      ],
      "metadata": {
        "colab": {
          "base_uri": "https://localhost:8080/"
        },
        "id": "zF8t3Vhlz2jp",
        "outputId": "552c194b-e00f-4c55-f7a2-bf8dc2a79d96"
      },
      "execution_count": 42,
      "outputs": [
        {
          "output_type": "stream",
          "name": "stdout",
          "text": [
            "Key is present in the dictionary.\n",
            "Key is not present in the dictionary.\n"
          ]
        }
      ]
    },
    {
      "cell_type": "code",
      "source": [
        "#18.Python Program to Parse a String to a Float or Int\n",
        "\n",
        "def parse_string(input_string, target_type):\n",
        "    try:\n",
        "        if target_type == \"float\":\n",
        "            return float(input_string)\n",
        "\n",
        "        elif target_type == \"int\":\n",
        "            return int(float(input_string))\n",
        "        else:\n",
        "            raise ValueError(\"Invalid target type. Use 'float' or 'int'.\")\n",
        "    except ValueError as e:\n",
        "        print(f\"Error: {e}\")\n",
        "\n",
        "        return None\n",
        "\n",
        "string_to_parse = \"3.141\"\n",
        "float_result = parse_string(string_to_parse, \"float\")\n",
        "int_result = parse_string(string_to_parse, \"int\")\n",
        "\n",
        "print(f\"Parsed float: {float_result}\")\n",
        "print(f\"Parsed int: {int_result}\")"
      ],
      "metadata": {
        "colab": {
          "base_uri": "https://localhost:8080/"
        },
        "id": "cTiDwws22ves",
        "outputId": "4376f389-b8a4-4fbc-f72e-81779d88235f"
      },
      "execution_count": 48,
      "outputs": [
        {
          "output_type": "stream",
          "name": "stdout",
          "text": [
            "Parsed float: 3.141\n",
            "Parsed int: 3\n"
          ]
        }
      ]
    },
    {
      "cell_type": "code",
      "source": [
        "#19.Python Program to Convert String to Datetime\n",
        "\n",
        "from datetime import datetime\n",
        "\n",
        "def convert_string_to_datetime(date_string, format_string):\n",
        "    try:\n",
        "        datetime_object = datetime.strptime(date_string, format_string)\n",
        "        return datetime_object\n",
        "    except ValueError:\n",
        "        print(\"Invalid date string or format.\")\n",
        "        return None\n",
        "\n",
        "date_string = \"2024-07-26\"\n",
        "format_string = \"%Y-%m-%d\"\n",
        "\n",
        "datetime_object = convert_string_to_datetime(date_string, format_string)\n",
        "\n",
        "if datetime_object:\n",
        "    print(datetime_object)\n",
        "    print(type(datetime_object))"
      ],
      "metadata": {
        "colab": {
          "base_uri": "https://localhost:8080/"
        },
        "id": "9trk3R7g2vZP",
        "outputId": "eb5176b8-c0a3-492c-cddf-27e69edfef08"
      },
      "execution_count": 51,
      "outputs": [
        {
          "output_type": "stream",
          "name": "stdout",
          "text": [
            "2024-07-26 00:00:00\n",
            "<class 'datetime.datetime'>\n"
          ]
        }
      ]
    },
    {
      "cell_type": "code",
      "source": [
        "#20.Python Program to Get the Last Element of the List\n",
        "\n",
        "def get_last_element(input_list):\n",
        "    return input_list[-1]\n",
        "\n",
        "my_list = [1, 2, 3, 4, 5]\n",
        "last_element = get_last_element(my_list)\n",
        "print(last_element)"
      ],
      "metadata": {
        "colab": {
          "base_uri": "https://localhost:8080/"
        },
        "id": "BAIP2dz44_ZH",
        "outputId": "4a070b90-d053-450f-8687-bf179324aa68"
      },
      "execution_count": 54,
      "outputs": [
        {
          "output_type": "stream",
          "name": "stdout",
          "text": [
            "5\n"
          ]
        }
      ]
    },
    {
      "cell_type": "code",
      "source": [
        "#21.Python Program to Convert Bytes to a String\n",
        "\n",
        "byte_data = b'Hello, World!'\n",
        "\n",
        "string_data = byte_data.decode('utf-8')\n",
        "\n",
        "print(\"Bytes:\", byte_data)\n",
        "print(\"String:\", string_data)"
      ],
      "metadata": {
        "colab": {
          "base_uri": "https://localhost:8080/"
        },
        "id": "OaTOu1Mi5Gyt",
        "outputId": "680206bc-ee61-4076-e064-a8eca0133b1b"
      },
      "execution_count": 56,
      "outputs": [
        {
          "output_type": "stream",
          "name": "stdout",
          "text": [
            "Bytes: b'Hello, World!'\n",
            "String: Hello, World!\n"
          ]
        }
      ]
    },
    {
      "cell_type": "code",
      "source": [
        "#22.Python Program to Remove Duplicate Element From a List\n",
        "\n",
        "def remove_duplicates(input_list):\n",
        "    return list(set(input_list))\n",
        "\n",
        "my_list = [1, 2, 2, 3, 4, 4, 5]\n",
        "unique_list = remove_duplicates(my_list)\n",
        "print(remove_duplicates(my_list))"
      ],
      "metadata": {
        "colab": {
          "base_uri": "https://localhost:8080/"
        },
        "id": "obihLGjv6OTB",
        "outputId": "1b44765b-15cb-4eae-b5d6-1c2fc6cc8911"
      },
      "execution_count": 59,
      "outputs": [
        {
          "output_type": "stream",
          "name": "stdout",
          "text": [
            "[1, 2, 3, 4, 5]\n"
          ]
        }
      ]
    },
    {
      "cell_type": "code",
      "source": [
        "#23.Python Program to Count the Number of Occurrence of a Character in String\n",
        "\n",
        "def count_character(string, char):\n",
        "    return string.count(char)\n",
        "\n",
        "string = \"hello world\"\n",
        "char = \"o\"\n",
        "\n",
        "count = count_character(string, char)\n",
        "print(f\"The character '{char}' occurs {count} times in the string.\")"
      ],
      "metadata": {
        "colab": {
          "base_uri": "https://localhost:8080/"
        },
        "id": "lQRTNm136OP5",
        "outputId": "dd659a7a-1970-4f79-e4eb-6a2bff994e7a"
      },
      "execution_count": 60,
      "outputs": [
        {
          "output_type": "stream",
          "name": "stdout",
          "text": [
            "The character 'o' occurs 2 times in the string.\n"
          ]
        }
      ]
    },
    {
      "cell_type": "code",
      "source": [
        "#24.Python Program to Compute the Power of a Number\n",
        "\n",
        "def power(base, exponent):\n",
        "    return base ** exponent\n",
        "\n",
        "base = 2\n",
        "exponent = 3\n",
        "result = power(base, exponent)\n",
        "print(f\"{base} raised to the power of {exponent} is {result}\")"
      ],
      "metadata": {
        "colab": {
          "base_uri": "https://localhost:8080/"
        },
        "id": "6vWnt8ez6ySe",
        "outputId": "3838bc8e-e900-4389-9ac3-bfe85ec645f0"
      },
      "execution_count": 61,
      "outputs": [
        {
          "output_type": "stream",
          "name": "stdout",
          "text": [
            "2 raised to the power of 3 is 8\n"
          ]
        }
      ]
    },
    {
      "cell_type": "code",
      "source": [
        "#25.Python Program to Check the File Size\n",
        "\n",
        "import os\n",
        "\n",
        "def get_file_size(file_path):\n",
        "    try:\n",
        "        size = os.path.getsize(file_path)\n",
        "        return size\n",
        "    except FileNotFoundError:\n",
        "        return \"File not found.\"\n",
        "\n",
        "file_path = \"/content/drive/MyDrive/Python Programming/source.txt\"\n",
        "size = get_file_size(file_path)\n",
        "\n",
        "if isinstance(size, int):\n",
        "    print(f\"The size of '{file_path}' is {size} bytes.\")\n",
        "else:\n",
        "    print(size)"
      ],
      "metadata": {
        "colab": {
          "base_uri": "https://localhost:8080/"
        },
        "id": "9y5TSivR7crY",
        "outputId": "6780befc-78cb-4b1a-d716-eef2ebe0fc18"
      },
      "execution_count": 62,
      "outputs": [
        {
          "output_type": "stream",
          "name": "stdout",
          "text": [
            "The size of '/content/drive/MyDrive/Python Programming/source.txt' is 7 bytes.\n"
          ]
        }
      ]
    },
    {
      "cell_type": "code",
      "source": [
        "#26.Python Program to Iterate Through Two Lists in Parallel\n",
        "\n",
        "list1 = [1, 2, 3]\n",
        "list2 = ['a', 'b', 'c']\n",
        "\n",
        "for item1, item2 in zip(list1, list2):\n",
        "    print(f\"List1 item: {item1}, List2 item: {item2}\")"
      ],
      "metadata": {
        "colab": {
          "base_uri": "https://localhost:8080/"
        },
        "id": "JKzhhxfg75TL",
        "outputId": "7f8eae01-2b4c-4109-86aa-07a712c9c8ff"
      },
      "execution_count": 63,
      "outputs": [
        {
          "output_type": "stream",
          "name": "stdout",
          "text": [
            "List1 item: 1, List2 item: a\n",
            "List1 item: 2, List2 item: b\n",
            "List1 item: 3, List2 item: c\n"
          ]
        }
      ]
    },
    {
      "cell_type": "code",
      "source": [
        "#27.Python Program to Get the Full Path of the Current Working Directory\n",
        "\n",
        "import os\n",
        "\n",
        "current_directory = os.getcwd()\n",
        "print(current_directory)"
      ],
      "metadata": {
        "colab": {
          "base_uri": "https://localhost:8080/"
        },
        "id": "Bkv1OzuN8Hop",
        "outputId": "699e73ee-c581-4e93-d636-426a9db5407f"
      },
      "execution_count": 64,
      "outputs": [
        {
          "output_type": "stream",
          "name": "stdout",
          "text": [
            "/content\n"
          ]
        }
      ]
    },
    {
      "cell_type": "code",
      "source": [
        "#28.Python Program to Return Multiple Values From a Function\n",
        "\n",
        "def calculate_operations(a, b):\n",
        "    sum_result = a + b\n",
        "    difference = a - b\n",
        "    product = a * b\n",
        "    return sum_result, difference, product\n",
        "\n",
        "a = 10\n",
        "b = 5\n",
        "sum_result, difference, product = calculate_operations(a, b)\n",
        "\n",
        "\n",
        "print(f\"Sum: {sum_result}\")\n",
        "print(f\"Difference: {difference}\")\n",
        "print(f\"Product: {product}\")"
      ],
      "metadata": {
        "colab": {
          "base_uri": "https://localhost:8080/"
        },
        "id": "fMA8Sj448S_w",
        "outputId": "d4664ce8-b747-4d94-d8b0-365b21fe65a4"
      },
      "execution_count": 67,
      "outputs": [
        {
          "output_type": "stream",
          "name": "stdout",
          "text": [
            "Sum: 15\n",
            "Difference: 5\n",
            "Product: 50\n"
          ]
        }
      ]
    }
  ]
}